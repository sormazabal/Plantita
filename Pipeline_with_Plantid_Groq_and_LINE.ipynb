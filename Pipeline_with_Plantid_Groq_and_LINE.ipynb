{
  "cells": [
    {
      "cell_type": "markdown",
      "metadata": {
        "id": "view-in-github",
        "colab_type": "text"
      },
      "source": [
        "<a href=\"https://colab.research.google.com/github/sormazabal/Plantita/blob/master/Pipeline_with_Plantid_Groq_and_LINE.ipynb\" target=\"_parent\"><img src=\"https://colab.research.google.com/assets/colab-badge.svg\" alt=\"Open In Colab\"/></a>"
      ]
    },
    {
      "cell_type": "markdown",
      "source": [
        "# LINE Messaging API"
      ],
      "metadata": {
        "collapsed": false,
        "id": "4cc409fc7bea6c04"
      },
      "id": "4cc409fc7bea6c04"
    },
    {
      "cell_type": "markdown",
      "source": [
        "# Install Dependency"
      ],
      "metadata": {
        "collapsed": false,
        "id": "c2c45f630c4bb496"
      },
      "id": "c2c45f630c4bb496"
    },
    {
      "cell_type": "code",
      "outputs": [
        {
          "output_type": "stream",
          "name": "stdout",
          "text": [
            "Requirement already satisfied: requests in /usr/local/lib/python3.10/dist-packages (2.32.3)\n",
            "Requirement already satisfied: charset-normalizer<4,>=2 in /usr/local/lib/python3.10/dist-packages (from requests) (3.4.0)\n",
            "Requirement already satisfied: idna<4,>=2.5 in /usr/local/lib/python3.10/dist-packages (from requests) (3.10)\n",
            "Requirement already satisfied: urllib3<3,>=1.21.1 in /usr/local/lib/python3.10/dist-packages (from requests) (2.2.3)\n",
            "Requirement already satisfied: certifi>=2017.4.17 in /usr/local/lib/python3.10/dist-packages (from requests) (2024.8.30)\n"
          ]
        }
      ],
      "source": [
        "!pip install requests"
      ],
      "metadata": {
        "ExecuteTime": {
          "end_time": "2024-10-31T09:00:20.429155Z",
          "start_time": "2024-10-31T09:00:18.369710Z"
        },
        "colab": {
          "base_uri": "https://localhost:8080/"
        },
        "id": "7b4fd1f8a2780375",
        "outputId": "5646706f-bb1e-493c-8de4-0f2ba96a5bbd"
      },
      "id": "7b4fd1f8a2780375",
      "execution_count": 1
    },
    {
      "cell_type": "markdown",
      "source": [
        "# Global vars"
      ],
      "metadata": {
        "id": "rzr1WEdHkFh-"
      },
      "id": "rzr1WEdHkFh-"
    },
    {
      "cell_type": "code",
      "source": [
        "PLANT_NAME = \"DEFAULT NAME\" # we need to find a way to keep this in the memory.\n",
        "#Since the code is always running and only sends messages at some intervals, it shouldn't be that hard to do"
      ],
      "metadata": {
        "id": "Wq9XjLyPjwDM"
      },
      "id": "Wq9XjLyPjwDM",
      "execution_count": null,
      "outputs": []
    },
    {
      "cell_type": "markdown",
      "source": [
        "## Broadcast Message"
      ],
      "metadata": {
        "collapsed": false,
        "id": "a85d7c8e26260e8a"
      },
      "id": "a85d7c8e26260e8a"
    },
    {
      "cell_type": "code",
      "outputs": [],
      "source": [
        "import requests\n",
        "import os\n",
        "from typing import Dict, Any, Optional, List\n",
        "\n",
        "class PlantitaBot:\n",
        "    def __init__(self, channel_access_token: str):\n",
        "        \"\"\"Initialize the Plantita LINE bot\n",
        "\n",
        "        Args:\n",
        "            channel_access_token (str): Your LINE channel access token\n",
        "        \"\"\"\n",
        "        self.channel_access_token = channel_access_token\n",
        "        self.headers = {\n",
        "            'Authorization': f'Bearer {channel_access_token}',\n",
        "            'Content-Type': 'application/json'\n",
        "        }\n",
        "        self.base_url = 'https://api.line.me/v2/bot'\n",
        "\n",
        "    def get_followers(self) -> List[str]:\n",
        "        \"\"\"Get list of user IDs who are friends with your LINE Official Account\n",
        "\n",
        "        Returns:\n",
        "            List[str]: List of user IDs\n",
        "        \"\"\"\n",
        "        user_ids = []\n",
        "        next_cursor = None\n",
        "\n",
        "        while True:\n",
        "            endpoint = f'{self.base_url}/followers/ids'\n",
        "            if next_cursor:\n",
        "                endpoint += f'?start={next_cursor}'\n",
        "\n",
        "            response = requests.get(endpoint, headers=self.headers)\n",
        "            data = response.json()\n",
        "\n",
        "            if 'userIds' in data:\n",
        "                user_ids.extend(data['userIds'])\n",
        "\n",
        "            if 'next' not in data:\n",
        "                break\n",
        "\n",
        "            next_cursor = data['next']\n",
        "\n",
        "        return user_ids\n",
        "\n",
        "    def broadcast_message(self, message: str) -> Dict[str, Any]:\n",
        "        \"\"\"Broadcast a message to all friends of your LINE Official Account\n",
        "\n",
        "        Args:\n",
        "            message (str): The message to broadcast\n",
        "\n",
        "        Returns:\n",
        "            Dict[str, Any]: Response from the LINE API\n",
        "        \"\"\"\n",
        "        endpoint = f'{self.base_url}/message/broadcast'\n",
        "\n",
        "        data = {\n",
        "            'messages': [{\n",
        "                'type': 'text',\n",
        "                'text': message\n",
        "            }]\n",
        "        }\n",
        "\n",
        "        response = requests.post(endpoint, headers=self.headers, json=data)\n",
        "        return response.json()\n",
        "\n",
        "\n",
        "\n",
        "\n",
        "    def broadcast_plant_status(self,\n",
        "                               temperature: float,\n",
        "                               humidity: float,\n",
        "                               light_level: float,\n",
        "                               status: str = \"normal\") -> Dict[str, Any]:\n",
        "        \"\"\"Broadcast plant status to all friends\n",
        "\n",
        "        Args:\n",
        "            temperature (float): Current temperature reading\n",
        "            humidity (float): Current humidity reading\n",
        "            light_level (float): Current light level reading\n",
        "            status (str): Overall status of the plant (\"normal\", \"warning\", \"critical\")\n",
        "\n",
        "        Returns:\n",
        "            Dict[str, Any]: Response from the LINE API\n",
        "        \"\"\"\n",
        "        message = (\n",
        "            f\"🌿 Plantita Status Update 🌿\\n\\n\"\n",
        "            f\"Temperature: {temperature}°C\\n\"\n",
        "            f\"Humidity: {humidity}%\\n\"\n",
        "            f\"Light Level: {light_level}%\\n\\n\"\n",
        "            f\"Status: {status.upper()}\"\n",
        "        )\n",
        "\n",
        "        if status.lower() != \"normal\":\n",
        "            message += \"\\n\\n⚠️ Action needed! Please check your plant.\"\n",
        "\n",
        "        return self.broadcast_message(message)\n",
        "\n",
        "    def send_message(self, user_id: str, message: str) -> Dict[str, Any]:\n",
        "        \"\"\"Send a message to a specific user\n",
        "\n",
        "        Args:\n",
        "            user_id (str): The LINE user ID to send the message to\n",
        "            message (str): The message to send\n",
        "\n",
        "        Returns:\n",
        "            Dict[str, Any]: Response from the LINE API\n",
        "        \"\"\"\n",
        "        endpoint = f'{self.base_url}/message/push'\n",
        "\n",
        "        data = {\n",
        "            'to': user_id,\n",
        "            'messages': [{\n",
        "                'type': 'text',\n",
        "                'text': message\n",
        "            }]\n",
        "        }\n",
        "\n",
        "        response = requests.post(endpoint, headers=self.headers, json=data)\n",
        "        return response.json()\n",
        "\n",
        "    def send_plant_status(self,\n",
        "                          user_id: str,\n",
        "                          temperature: float,\n",
        "                          humidity: float,\n",
        "                          light_level: float,\n",
        "                          status: str = \"normal\") -> Dict[str, Any]:\n",
        "        \"\"\"Send plant status to a specific user\n",
        "\n",
        "        Args:\n",
        "            user_id (str): The LINE user ID to send the message to\n",
        "            temperature (float): Current temperature reading\n",
        "            humidity (float): Current humidity reading\n",
        "            light_level (float): Current light level reading\n",
        "            status (str): Overall status of the plant (\"normal\", \"warning\", \"critical\")\n",
        "\n",
        "        Returns:\n",
        "            Dict[str, Any]: Response from the LINE API\n",
        "        \"\"\"\n",
        "        message = (\n",
        "            f\"🌿 Plantita Status Update 🌿\\n\\n\"\n",
        "            f\"Temperature: {temperature}°C\\n\"\n",
        "            f\"Humidity: {humidity}%\\n\"\n",
        "            f\"Light Level: {light_level}%\\n\\n\"\n",
        "            f\"Status: {status.upper()}\"\n",
        "        )\n",
        "\n",
        "        if status.lower() != \"normal\":\n",
        "            message += \"\\n\\n⚠️ Action needed! Please check your plant.\"\n",
        "\n",
        "        return self.send_message(user_id, message)"
      ],
      "metadata": {
        "ExecuteTime": {
          "end_time": "2024-11-01T06:30:28.410867Z",
          "start_time": "2024-11-01T06:30:28.404473Z"
        },
        "id": "37b2b4cd2a0c5a1c"
      },
      "id": "37b2b4cd2a0c5a1c",
      "execution_count": 20
    },
    {
      "cell_type": "markdown",
      "source": [
        "## Example Usage of Broadcast"
      ],
      "metadata": {
        "collapsed": false,
        "id": "c102652d3ce4d2d1"
      },
      "id": "c102652d3ce4d2d1"
    },
    {
      "cell_type": "code",
      "outputs": [
        {
          "name": "stdout",
          "output_type": "stream",
          "text": [
            "Number of followers: 0\n",
            "Follower IDs: []\n"
          ]
        }
      ],
      "source": [
        "# Example usage:\n",
        "if __name__ == \"__main__\":\n",
        "    # Initialize the bot with your channel access token\n",
        "    CHANNEL_ACCESS_TOKEN = \"HYIfkCHmidAfgMc2KcXBLUXzpNvsvJ/t5k8VwU2+ekWovndds7h/5h2Qq+SZkoYjNCPuLg0BHANjAnX81xjbfT7imjJ1s+gYZf6XU4ttM4kuFTkChGSHDZUVKzFpTgesDxTWmILCYw0vgPz/bse7TQdB04t89/1O/w1cDnyilFU=\"  # Replace with your actual token\n",
        "\n",
        "    bot = PlantitaBot(CHANNEL_ACCESS_TOKEN)\n",
        "\n",
        "    # Example: Get list of followers\n",
        "    followers = bot.get_followers()\n",
        "    print(f\"Number of followers: {len(followers)}\")\n",
        "    print(\"Follower IDs:\", followers)\n",
        "\n",
        "    # Example: Broadcast a simple message to all followers\n",
        "    bot.broadcast_message(\"Hello everyone from Plantita! 🌱\")\n",
        "\n",
        "    # Example: Broadcast plant status to all followers\n",
        "    bot.broadcast_plant_status(\n",
        "        temperature=25.5,\n",
        "        humidity=65.0,\n",
        "        light_level=80.0,\n",
        "        status=\"warning\"\n",
        "    )"
      ],
      "metadata": {
        "ExecuteTime": {
          "end_time": "2024-11-01T06:28:51.145127Z",
          "start_time": "2024-11-01T06:28:50.653345Z"
        },
        "id": "6d46da2722fe2aca",
        "outputId": "3abec808-f1af-4fab-b910-4782eb8836fb"
      },
      "id": "6d46da2722fe2aca",
      "execution_count": null
    },
    {
      "cell_type": "markdown",
      "source": [
        "## Example Usage of Direct Message\n",
        "**Still Not Working** Need to setup Webhook Server."
      ],
      "metadata": {
        "collapsed": false,
        "id": "27ad3cf1413cc705"
      },
      "id": "27ad3cf1413cc705"
    },
    {
      "cell_type": "code",
      "outputs": [
        {
          "output_type": "execute_result",
          "data": {
            "text/plain": [
              "{'message': \"The property, 'to', in the request body is invalid (line: -, column: -)\"}"
            ]
          },
          "metadata": {},
          "execution_count": 3
        }
      ],
      "source": [
        "# Initialize the bot\n",
        "bot = PlantitaBot(\"HYIfkCHmidAfgMc2KcXBLUXzpNvsvJ/t5k8VwU2+ekWovndds7h/5h2Qq+SZkoYjNCPuLg0BHANjAnX81xjbfT7imjJ1s+gYZf6XU4ttM4kuFTkChGSHDZUVKzFpTgesDxTWmILCYw0vgPz/bse7TQdB04t89/1O/w1cDnyilFU=\")\n",
        "\n",
        "# Send a plant status update\n",
        "bot.send_plant_status(\n",
        "    user_id=\"USER_ID\",\n",
        "    temperature=25.5,\n",
        "    humidity=65.0,\n",
        "    light_level=80.0,\n",
        "    status=\"warning\"\n",
        ")"
      ],
      "metadata": {
        "ExecuteTime": {
          "end_time": "2024-11-01T06:30:32.071805Z",
          "start_time": "2024-11-01T06:30:31.906428Z"
        },
        "colab": {
          "base_uri": "https://localhost:8080/"
        },
        "id": "4517fbe22a47bbf8",
        "outputId": "3b8132ad-4462-4bfe-b7a1-ca0d4874bc65"
      },
      "id": "4517fbe22a47bbf8",
      "execution_count": 3
    },
    {
      "cell_type": "markdown",
      "source": [
        "## GROQ Implementation"
      ],
      "metadata": {
        "collapsed": false,
        "id": "3f98efa59f92ce1e"
      },
      "id": "3f98efa59f92ce1e"
    },
    {
      "cell_type": "markdown",
      "source": [
        "# Install Dependency"
      ],
      "metadata": {
        "collapsed": false,
        "id": "8c560218d9c7ed5c"
      },
      "id": "8c560218d9c7ed5c"
    },
    {
      "cell_type": "code",
      "outputs": [
        {
          "output_type": "stream",
          "name": "stdout",
          "text": [
            "Collecting groq\n",
            "  Downloading groq-0.12.0-py3-none-any.whl.metadata (13 kB)\n",
            "Requirement already satisfied: anyio<5,>=3.5.0 in /usr/local/lib/python3.10/dist-packages (from groq) (3.7.1)\n",
            "Requirement already satisfied: distro<2,>=1.7.0 in /usr/local/lib/python3.10/dist-packages (from groq) (1.9.0)\n",
            "Requirement already satisfied: httpx<1,>=0.23.0 in /usr/local/lib/python3.10/dist-packages (from groq) (0.27.2)\n",
            "Requirement already satisfied: pydantic<3,>=1.9.0 in /usr/local/lib/python3.10/dist-packages (from groq) (2.9.2)\n",
            "Requirement already satisfied: sniffio in /usr/local/lib/python3.10/dist-packages (from groq) (1.3.1)\n",
            "Requirement already satisfied: typing-extensions<5,>=4.7 in /usr/local/lib/python3.10/dist-packages (from groq) (4.12.2)\n",
            "Requirement already satisfied: idna>=2.8 in /usr/local/lib/python3.10/dist-packages (from anyio<5,>=3.5.0->groq) (3.10)\n",
            "Requirement already satisfied: exceptiongroup in /usr/local/lib/python3.10/dist-packages (from anyio<5,>=3.5.0->groq) (1.2.2)\n",
            "Requirement already satisfied: certifi in /usr/local/lib/python3.10/dist-packages (from httpx<1,>=0.23.0->groq) (2024.8.30)\n",
            "Requirement already satisfied: httpcore==1.* in /usr/local/lib/python3.10/dist-packages (from httpx<1,>=0.23.0->groq) (1.0.6)\n",
            "Requirement already satisfied: h11<0.15,>=0.13 in /usr/local/lib/python3.10/dist-packages (from httpcore==1.*->httpx<1,>=0.23.0->groq) (0.14.0)\n",
            "Requirement already satisfied: annotated-types>=0.6.0 in /usr/local/lib/python3.10/dist-packages (from pydantic<3,>=1.9.0->groq) (0.7.0)\n",
            "Requirement already satisfied: pydantic-core==2.23.4 in /usr/local/lib/python3.10/dist-packages (from pydantic<3,>=1.9.0->groq) (2.23.4)\n",
            "Downloading groq-0.12.0-py3-none-any.whl (108 kB)\n",
            "\u001b[2K   \u001b[90m━━━━━━━━━━━━━━━━━━━━━━━━━━━━━━━━━━━━━━━━\u001b[0m \u001b[32m108.9/108.9 kB\u001b[0m \u001b[31m3.4 MB/s\u001b[0m eta \u001b[36m0:00:00\u001b[0m\n",
            "\u001b[?25hInstalling collected packages: groq\n",
            "Successfully installed groq-0.12.0\n"
          ]
        }
      ],
      "source": [
        "!pip install groq"
      ],
      "metadata": {
        "ExecuteTime": {
          "end_time": "2024-10-31T09:16:30.769010Z",
          "start_time": "2024-10-31T09:16:25.265964Z"
        },
        "colab": {
          "base_uri": "https://localhost:8080/"
        },
        "id": "8cc51fd94e76a4f3",
        "outputId": "8e649af4-02f5-4035-8b1b-82bf48b7dfa3"
      },
      "id": "8cc51fd94e76a4f3",
      "execution_count": 4
    },
    {
      "cell_type": "markdown",
      "source": [
        "# Demonstration"
      ],
      "metadata": {
        "collapsed": false,
        "id": "f17ed0a713882ee4"
      },
      "id": "f17ed0a713882ee4"
    },
    {
      "cell_type": "code",
      "outputs": [
        {
          "output_type": "stream",
          "name": "stdout",
          "text": [
            "Kiddo! It looks like your Monstera Deliciosa is doing okay, but could use some tweaking to reach its full potential. Temperature-wise, it's a bit toasty, but I'd advise staying above 20°C to avoid shock. Humidity's a bit low, so maybe consider misting it or putting it on a humidity tray to get that up to 60-80%.\n"
          ]
        }
      ],
      "source": [
        "import os\n",
        "\n",
        "from groq import Groq\n",
        "\n",
        "client = Groq(\n",
        "    api_key=\"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\",\n",
        ")\n",
        "\n",
        "chat_completion = client.chat.completions.create(\n",
        "    messages=[\n",
        "        {\n",
        "            \"role\": \"user\",\n",
        "            \"content\": '''You are Plantita, an expert plant care advisor with a warm, caring personality like a concerned aunt.\n",
        "Current readings for Monstera Deliciosa:\n",
        "        temperature=27.5,\n",
        "        humidity=55,\n",
        "        light_level=40,\n",
        "\n",
        "Ideal conditions for this plant:\n",
        "- Temperature: 20°C to 25°C\n",
        "- Humidity: 60% to 80%\n",
        "- Light Level: 50% to 80%\n",
        "\n",
        "Please analyze these conditions and provide:\n",
        "1. A caring, conversational assessment of the plant's current environment\n",
        "2. Specific recommendations for improvement if needed\n",
        "3. Any potential risks to the plant's health based on these conditions\n",
        "4. A simple action plan for the plant owner\n",
        "\n",
        "Keep your response friendly and encouraging, like a knowledgeable aunt giving advice about their beloved plants.\n",
        "Limit your response to fit a notification on a messaging app, focus only on what the user needed to do and keep it to three to 5 sentences''',\n",
        "        }\n",
        "    ],\n",
        "    model=\"llama3-8b-8192\",\n",
        ")\n",
        "\n",
        "print(chat_completion.choices[0].message.content)"
      ],
      "metadata": {
        "ExecuteTime": {
          "end_time": "2024-10-31T09:25:38.372321Z",
          "start_time": "2024-10-31T09:25:37.662106Z"
        },
        "colab": {
          "base_uri": "https://localhost:8080/"
        },
        "id": "6c90fb7248b58427",
        "outputId": "d3e5db89-1400-4f48-a1e8-ce33c250e930"
      },
      "id": "6c90fb7248b58427",
      "execution_count": 5
    },
    {
      "cell_type": "markdown",
      "source": [
        "# Integrate sensor information with Groq"
      ],
      "metadata": {
        "id": "T-H0QMj-QT6E"
      },
      "id": "T-H0QMj-QT6E"
    },
    {
      "cell_type": "code",
      "source": [
        "!pip install pyserial pysimplegui\n"
      ],
      "metadata": {
        "colab": {
          "base_uri": "https://localhost:8080/"
        },
        "id": "IiVH-lUdQbiy",
        "outputId": "39a27431-d548-4787-e897-3bd3b529b8f5"
      },
      "id": "IiVH-lUdQbiy",
      "execution_count": 9,
      "outputs": [
        {
          "output_type": "stream",
          "name": "stdout",
          "text": [
            "Requirement already satisfied: pyserial in /usr/local/lib/python3.10/dist-packages (3.5)\n",
            "Collecting pysimplegui\n",
            "  Downloading PySimpleGUI-5.0.7-py3-none-any.whl.metadata (6.6 kB)\n",
            "Requirement already satisfied: rsa in /usr/local/lib/python3.10/dist-packages (from pysimplegui) (4.9)\n",
            "Requirement already satisfied: pyasn1>=0.1.3 in /usr/local/lib/python3.10/dist-packages (from rsa->pysimplegui) (0.6.1)\n",
            "Downloading PySimpleGUI-5.0.7-py3-none-any.whl (1.0 MB)\n",
            "\u001b[2K   \u001b[90m━━━━━━━━━━━━━━━━━━━━━━━━━━━━━━━━━━━━━━━━\u001b[0m \u001b[32m1.0/1.0 MB\u001b[0m \u001b[31m8.9 MB/s\u001b[0m eta \u001b[36m0:00:00\u001b[0m\n",
            "\u001b[?25hInstalling collected packages: pysimplegui\n",
            "Successfully installed pysimplegui-5.0.7\n"
          ]
        }
      ]
    },
    {
      "cell_type": "markdown",
      "source": [
        "# Simulate Arduino data on PC if we forgot to carry the Arduino"
      ],
      "metadata": {
        "id": "SryATaquRdMa"
      },
      "id": "SryATaquRdMa"
    },
    {
      "cell_type": "markdown",
      "source": [
        "# Actual arduino data"
      ],
      "metadata": {
        "id": "CKAvzcyCRwqY"
      },
      "id": "CKAvzcyCRwqY"
    },
    {
      "cell_type": "code",
      "source": [
        "# import serial\n",
        "# import time\n",
        "\n",
        "# # Replace 'COM3' with your Arduino's serial port\n",
        "# # On Linux, it might be something like '/dev/ttyUSB0' or '/dev/ttyACM0'\n",
        "# # On Mac, it could be '/dev/tty.usbmodem*'\n",
        "# serial_port = '/dev/ttyUSB0'  # Change this to your serial port\n",
        "# baud_rate = 9600  # Must match the baud rate set in the Arduino code\n",
        "\n",
        "# # Open the serial connection\n",
        "# ser = serial.Serial(serial_port, baud_rate)\n",
        "# time.sleep(2)  # Allow time for the connection to establish\n",
        "\n",
        "# print(\"Collecting data from Arduino...\")\n",
        "\n",
        "# try:\n",
        "#     while True:\n",
        "#         # Read a line from the serial data\n",
        "#         line = ser.readline().decode('utf-8').strip()\n",
        "\n",
        "#         # Check if the line contains valid sensor data\n",
        "#         if line:\n",
        "#             print(line)  # Print the line or process it as needed\n",
        "\n",
        "#         time.sleep(1)  # Delay for readability, adjust as needed\n",
        "\n",
        "# except KeyboardInterrupt:\n",
        "#     print(\"Data collection stopped.\")\n",
        "\n",
        "# finally:\n",
        "#     ser.close()  # Always close the serial connection when done\n"
      ],
      "metadata": {
        "colab": {
          "base_uri": "https://localhost:8080/",
          "height": 424
        },
        "id": "0uqbM8eJQch4",
        "outputId": "356b63cf-4b01-4f0a-c43d-9777e9ee2e10"
      },
      "id": "0uqbM8eJQch4",
      "execution_count": 8,
      "outputs": [
        {
          "output_type": "error",
          "ename": "SerialException",
          "evalue": "[Errno 2] could not open port /dev/ttyUSB0: [Errno 2] No such file or directory: '/dev/ttyUSB0'",
          "traceback": [
            "\u001b[0;31m---------------------------------------------------------------------------\u001b[0m",
            "\u001b[0;31mFileNotFoundError\u001b[0m                         Traceback (most recent call last)",
            "\u001b[0;32m/usr/local/lib/python3.10/dist-packages/serial/serialposix.py\u001b[0m in \u001b[0;36mopen\u001b[0;34m(self)\u001b[0m\n\u001b[1;32m    321\u001b[0m         \u001b[0;32mtry\u001b[0m\u001b[0;34m:\u001b[0m\u001b[0;34m\u001b[0m\u001b[0;34m\u001b[0m\u001b[0m\n\u001b[0;32m--> 322\u001b[0;31m             \u001b[0mself\u001b[0m\u001b[0;34m.\u001b[0m\u001b[0mfd\u001b[0m \u001b[0;34m=\u001b[0m \u001b[0mos\u001b[0m\u001b[0;34m.\u001b[0m\u001b[0mopen\u001b[0m\u001b[0;34m(\u001b[0m\u001b[0mself\u001b[0m\u001b[0;34m.\u001b[0m\u001b[0mportstr\u001b[0m\u001b[0;34m,\u001b[0m \u001b[0mos\u001b[0m\u001b[0;34m.\u001b[0m\u001b[0mO_RDWR\u001b[0m \u001b[0;34m|\u001b[0m \u001b[0mos\u001b[0m\u001b[0;34m.\u001b[0m\u001b[0mO_NOCTTY\u001b[0m \u001b[0;34m|\u001b[0m \u001b[0mos\u001b[0m\u001b[0;34m.\u001b[0m\u001b[0mO_NONBLOCK\u001b[0m\u001b[0;34m)\u001b[0m\u001b[0;34m\u001b[0m\u001b[0;34m\u001b[0m\u001b[0m\n\u001b[0m\u001b[1;32m    323\u001b[0m         \u001b[0;32mexcept\u001b[0m \u001b[0mOSError\u001b[0m \u001b[0;32mas\u001b[0m \u001b[0mmsg\u001b[0m\u001b[0;34m:\u001b[0m\u001b[0;34m\u001b[0m\u001b[0;34m\u001b[0m\u001b[0m\n",
            "\u001b[0;31mFileNotFoundError\u001b[0m: [Errno 2] No such file or directory: '/dev/ttyUSB0'",
            "\nDuring handling of the above exception, another exception occurred:\n",
            "\u001b[0;31mSerialException\u001b[0m                           Traceback (most recent call last)",
            "\u001b[0;32m<ipython-input-8-81b58bdf39f6>\u001b[0m in \u001b[0;36m<cell line: 11>\u001b[0;34m()\u001b[0m\n\u001b[1;32m      9\u001b[0m \u001b[0;34m\u001b[0m\u001b[0m\n\u001b[1;32m     10\u001b[0m \u001b[0;31m# Open the serial connection\u001b[0m\u001b[0;34m\u001b[0m\u001b[0;34m\u001b[0m\u001b[0m\n\u001b[0;32m---> 11\u001b[0;31m \u001b[0mser\u001b[0m \u001b[0;34m=\u001b[0m \u001b[0mserial\u001b[0m\u001b[0;34m.\u001b[0m\u001b[0mSerial\u001b[0m\u001b[0;34m(\u001b[0m\u001b[0mserial_port\u001b[0m\u001b[0;34m,\u001b[0m \u001b[0mbaud_rate\u001b[0m\u001b[0;34m)\u001b[0m\u001b[0;34m\u001b[0m\u001b[0;34m\u001b[0m\u001b[0m\n\u001b[0m\u001b[1;32m     12\u001b[0m \u001b[0mtime\u001b[0m\u001b[0;34m.\u001b[0m\u001b[0msleep\u001b[0m\u001b[0;34m(\u001b[0m\u001b[0;36m2\u001b[0m\u001b[0;34m)\u001b[0m  \u001b[0;31m# Allow time for the connection to establish\u001b[0m\u001b[0;34m\u001b[0m\u001b[0;34m\u001b[0m\u001b[0m\n\u001b[1;32m     13\u001b[0m \u001b[0;34m\u001b[0m\u001b[0m\n",
            "\u001b[0;32m/usr/local/lib/python3.10/dist-packages/serial/serialutil.py\u001b[0m in \u001b[0;36m__init__\u001b[0;34m(self, port, baudrate, bytesize, parity, stopbits, timeout, xonxoff, rtscts, write_timeout, dsrdtr, inter_byte_timeout, exclusive, **kwargs)\u001b[0m\n\u001b[1;32m    242\u001b[0m \u001b[0;34m\u001b[0m\u001b[0m\n\u001b[1;32m    243\u001b[0m         \u001b[0;32mif\u001b[0m \u001b[0mport\u001b[0m \u001b[0;32mis\u001b[0m \u001b[0;32mnot\u001b[0m \u001b[0;32mNone\u001b[0m\u001b[0;34m:\u001b[0m\u001b[0;34m\u001b[0m\u001b[0;34m\u001b[0m\u001b[0m\n\u001b[0;32m--> 244\u001b[0;31m             \u001b[0mself\u001b[0m\u001b[0;34m.\u001b[0m\u001b[0mopen\u001b[0m\u001b[0;34m(\u001b[0m\u001b[0;34m)\u001b[0m\u001b[0;34m\u001b[0m\u001b[0;34m\u001b[0m\u001b[0m\n\u001b[0m\u001b[1;32m    245\u001b[0m \u001b[0;34m\u001b[0m\u001b[0m\n\u001b[1;32m    246\u001b[0m     \u001b[0;31m#  -  -  -  -  -  -  -  -  -  -  -  -  -  -  -  -  -  -  -  -  -  -  -  -\u001b[0m\u001b[0;34m\u001b[0m\u001b[0;34m\u001b[0m\u001b[0m\n",
            "\u001b[0;32m/usr/local/lib/python3.10/dist-packages/serial/serialposix.py\u001b[0m in \u001b[0;36mopen\u001b[0;34m(self)\u001b[0m\n\u001b[1;32m    323\u001b[0m         \u001b[0;32mexcept\u001b[0m \u001b[0mOSError\u001b[0m \u001b[0;32mas\u001b[0m \u001b[0mmsg\u001b[0m\u001b[0;34m:\u001b[0m\u001b[0;34m\u001b[0m\u001b[0;34m\u001b[0m\u001b[0m\n\u001b[1;32m    324\u001b[0m             \u001b[0mself\u001b[0m\u001b[0;34m.\u001b[0m\u001b[0mfd\u001b[0m \u001b[0;34m=\u001b[0m \u001b[0;32mNone\u001b[0m\u001b[0;34m\u001b[0m\u001b[0;34m\u001b[0m\u001b[0m\n\u001b[0;32m--> 325\u001b[0;31m             \u001b[0;32mraise\u001b[0m \u001b[0mSerialException\u001b[0m\u001b[0;34m(\u001b[0m\u001b[0mmsg\u001b[0m\u001b[0;34m.\u001b[0m\u001b[0merrno\u001b[0m\u001b[0;34m,\u001b[0m \u001b[0;34m\"could not open port {}: {}\"\u001b[0m\u001b[0;34m.\u001b[0m\u001b[0mformat\u001b[0m\u001b[0;34m(\u001b[0m\u001b[0mself\u001b[0m\u001b[0;34m.\u001b[0m\u001b[0m_port\u001b[0m\u001b[0;34m,\u001b[0m \u001b[0mmsg\u001b[0m\u001b[0;34m)\u001b[0m\u001b[0;34m)\u001b[0m\u001b[0;34m\u001b[0m\u001b[0;34m\u001b[0m\u001b[0m\n\u001b[0m\u001b[1;32m    326\u001b[0m         \u001b[0;31m#~ fcntl.fcntl(self.fd, fcntl.F_SETFL, 0)  # set blocking\u001b[0m\u001b[0;34m\u001b[0m\u001b[0;34m\u001b[0m\u001b[0m\n\u001b[1;32m    327\u001b[0m \u001b[0;34m\u001b[0m\u001b[0m\n",
            "\u001b[0;31mSerialException\u001b[0m: [Errno 2] could not open port /dev/ttyUSB0: [Errno 2] No such file or directory: '/dev/ttyUSB0'"
          ]
        }
      ]
    },
    {
      "cell_type": "markdown",
      "source": [
        "# Get PlantID\n"
      ],
      "metadata": {
        "id": "qtKVllGrfOF2"
      },
      "id": "qtKVllGrfOF2"
    },
    {
      "cell_type": "markdown",
      "source": [
        "# Getting Plant ID from a picture"
      ],
      "metadata": {
        "id": "Bo9ScWx9R640"
      },
      "id": "Bo9ScWx9R640"
    },
    {
      "cell_type": "code",
      "source": [
        "import requests\n",
        "import base64\n",
        "from google.colab import userdata\n",
        "\n",
        "# Define the endpoint and API key\n",
        "url = \"https://api.plant.id/v2/identify\"\n",
        "api_key = userdata.get('plantid_key')  # Replace with your actual API key\n",
        "\n",
        "# Load the image and encode it in base64\n",
        "image_path = \"plant.jpg\"\n",
        "with open(image_path, \"rb\") as image_file:\n",
        "    base64_image = base64.b64encode(image_file.read()).decode(\"utf-8\")\n",
        "\n",
        "# Prepare the headers and data payload\n",
        "headers = {\n",
        "    \"Content-Type\": \"application/json\",\n",
        "    \"Api-Key\": api_key\n",
        "}\n",
        "\n",
        "data = {\n",
        "    \"images\": [base64_image],\n",
        "    \"organs\": [\"leaf\"],  # Specify which part of the plant you are identifying (leaf, flower, etc.)\n",
        "    \"include-related-images\": False,  # Optional: Include related images in response\n",
        "    \"include-plant-details\": [\"common_names\", \"url\", \"wiki_description\"]  # Specify the plant details you need\n",
        "}\n",
        "\n",
        "# Send POST request\n",
        "response = requests.post(url, headers=headers, json=data)\n",
        "\n",
        "# Initialize variable to store the plant name with the highest probability\n",
        "plant_name_with_highest_probability = None\n",
        "\n",
        "# Check the response\n",
        "if response.status_code == 200:\n",
        "    results = response.json()\n",
        "    print(\"Possible plant identifications:\")\n",
        "\n",
        "    # Find the suggestion with the highest probability\n",
        "    highest_probability = 0\n",
        "    for suggestion in results[\"suggestions\"]:\n",
        "        probability = suggestion[\"probability\"]\n",
        "\n",
        "        if probability > highest_probability:\n",
        "            highest_probability = probability\n",
        "            plant_name_with_highest_probability = suggestion[\"plant_name\"]\n",
        "\n",
        "        # Print suggestion details\n",
        "        print(f\"Species: {suggestion['plant_name']}, Probability: {probability * 100:.2f}%\")\n",
        "\n",
        "        # Additional details (if requested)\n",
        "        if \"common_names\" in suggestion:\n",
        "            print(\"Common Names:\", \", \".join(suggestion[\"common_names\"]))\n",
        "        if \"url\" in suggestion:\n",
        "            print(\"More Info:\", suggestion[\"url\"])\n",
        "        if \"wiki_description\" in suggestion and \"value\" in suggestion[\"wiki_description\"]:\n",
        "            print(\"Description:\", suggestion[\"wiki_description\"][\"value\"])\n",
        "        print(\"\\n\")\n",
        "\n",
        "    # Print the plant with the highest probability\n",
        "    print(f\"Plant with the highest probability: {plant_name_with_highest_probability}\")\n",
        "\n",
        "else:\n",
        "    print(f\"Error: {response.status_code}, Message: {response.text}\")\n",
        "\n",
        "# Now you can pass this plant name to the generate_plant_message function\n"
      ],
      "metadata": {
        "colab": {
          "base_uri": "https://localhost:8080/"
        },
        "id": "RdUcFrKniSel",
        "outputId": "9ad1cd4b-05b5-4402-93d9-ac49266b3cf0"
      },
      "id": "RdUcFrKniSel",
      "execution_count": 26,
      "outputs": [
        {
          "output_type": "stream",
          "name": "stdout",
          "text": [
            "Possible plant identifications:\n",
            "Species: Eustoma russellianum, Probability: 74.47%\n",
            "\n",
            "\n",
            "Species: Nelumbo nucifera, Probability: 18.04%\n",
            "\n",
            "\n",
            "Species: Rosa, Probability: 2.62%\n",
            "\n",
            "\n",
            "Species: Anemone coronaria, Probability: 2.54%\n",
            "\n",
            "\n",
            "Plant with the highest probability: Eustoma russellianum\n"
          ]
        }
      ]
    },
    {
      "cell_type": "code",
      "source": [
        "print(plant_name_with_highest_probability)\n",
        "PLANT_NAME = plant_name_with_highest_probability"
      ],
      "metadata": {
        "colab": {
          "base_uri": "https://localhost:8080/"
        },
        "id": "wCoKKd20irtz",
        "outputId": "6e524e6b-c593-4545-f0af-53dd90e56275"
      },
      "id": "wCoKKd20irtz",
      "execution_count": 30,
      "outputs": [
        {
          "output_type": "stream",
          "name": "stdout",
          "text": [
            "Eustoma russellianum\n"
          ]
        }
      ]
    },
    {
      "cell_type": "markdown",
      "source": [
        "# Parse data and send it to Groq and then LINE"
      ],
      "metadata": {
        "id": "MZs50Y2eQ44G"
      },
      "id": "MZs50Y2eQ44G"
    },
    {
      "cell_type": "code",
      "source": [
        "import random\n",
        "import time\n",
        "from datetime import datetime, timedelta\n",
        "\n",
        "\n",
        "\n",
        "def simulate_sensor_data():\n",
        "    \"\"\"\n",
        "    Simulates reading temperature, humidity, and light level data.\n",
        "    \"\"\"\n",
        "    temperature = round(random.uniform(20.0, 30.0), 2)  # Celsius\n",
        "    humidity = round(random.uniform(40.0, 60.0), 2)     # Percent\n",
        "    light_level = round(random.uniform(30.0, 70.0), 2)  # Percent\n",
        "    return {\"temperature\": temperature, \"humidity\": humidity, \"light_level\": light_level}\n",
        "\n",
        "def send_groq_message(data):\n",
        "    \"\"\"\n",
        "    Sends plant care message based on the data to the Groq API.\n",
        "    \"\"\"\n",
        "    user_message = (\n",
        "        f\"You are Plantita, an expert plant care advisor with a warm, caring personality like a concerned aunt.\\n\"\n",
        "        f\"Current readings for Monstera Deliciosa:\\n\"\n",
        "        f\"    temperature={data['temperature']}°C,\\n\"\n",
        "        f\"    humidity={data['humidity']}%,\\n\"\n",
        "        f\"    light_level={data['light_level']}%,\\n\\n\"\n",
        "        \"Ideal conditions for this plant:\\n\"\n",
        "        \"- Temperature: 20°C to 25°C\\n\"\n",
        "        \"- Humidity: 60% to 80%\\n\"\n",
        "        \"- Light Level: 50% to 80%\\n\\n\"\n",
        "        \"Please analyze these conditions and provide:\\n\"\n",
        "        \"1. A caring, conversational assessment of the plant's current environment\\n\"\n",
        "        \"2. Specific recommendations for improvement if needed\\n\"\n",
        "        \"3. Any potential risks to the plant's health based on these conditions\\n\"\n",
        "        \"4. A simple action plan for the plant owner\\n\\n\"\n",
        "        \"Keep your response friendly and encouraging, like a knowledgeable aunt giving advice about their beloved plants.\"\n",
        "    )\n",
        "\n",
        "    response = client.chat.completions.create(\n",
        "        messages=[{\"role\": \"user\", \"content\": user_message}],\n",
        "        model=\"llama3-8b-8192\"\n",
        "    )\n",
        "\n",
        "    print(\"Plant care message sent!\")\n",
        "    print(response.choices[0].message.content)\n"
      ],
      "metadata": {
        "id": "gXHwNc5WVVV6"
      },
      "id": "gXHwNc5WVVV6",
      "execution_count": 21,
      "outputs": []
    },
    {
      "cell_type": "code",
      "source": [
        "import os\n",
        "from groq import Groq\n",
        "\n",
        "client = Groq(\n",
        "    api_key=\"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\",\n",
        ")\n",
        "\n",
        "# Initialize the LINE bot with your channel access token\n",
        "# CHANNEL_ACCESS_TOKEN = os.getenv(\"CHANNEL_ACCESS_TOKEN\")\n",
        "# bot = PlantitaBot(CHANNEL_ACCESS_TOKEN)\n",
        "#we have to remember to put these keys into the secrets\n",
        "bot = PlantitaBot(\"HYIfkCHmidAfgMc2KcXBLUXzpNvsvJ/t5k8VwU2+ekWovndds7h/5h2Qq+SZkoYjNCPuLg0BHANjAnX81xjbfT7imjJ1s+gYZf6XU4ttM4kuFTkChGSHDZUVKzFpTgesDxTWmILCYw0vgPz/bse7TQdB04t89/1O/w1cDnyilFU=\")\n",
        "\n",
        "\n",
        "# Step 1: Generate the message from Groq\n",
        "def generate_plant_message(temperature, humidity, light_level, plant_name):\n",
        "    \"\"\"\n",
        "    Generates a plant care message using the Groq API.\n",
        "    \"\"\"\n",
        "    user_message = (\n",
        "        f\"You are Plantita, an expert plant care advisor.\\n\"\n",
        "        f\"Current readings for {plant_name}:\\n\"\n",
        "        f\"    temperature={temperature}°C,\\n\"\n",
        "        f\"    humidity={humidity}%,\\n\"\n",
        "        f\"    light_level={light_level}%,\\n\\n\"\n",
        "        \"Ideal conditions:\\n\"\n",
        "        \"- Temperature: 20°C to 25°C\\n\"\n",
        "        \"- Humidity: 60% to 80%\\n\"\n",
        "        \"- Light Level: 50% to 80%\\n\\n\"\n",
        "        \"Provide a friendly message for the user.\"\n",
        "    )\n",
        "\n",
        "    response = client.chat.completions.create(\n",
        "        messages=[{\"role\": \"user\", \"content\": user_message}],\n",
        "        model=\"llama3-8b-8192\"\n",
        "    )\n",
        "\n",
        "    return response.choices[0].message.content\n",
        "\n",
        "\n",
        "# Step 2: Broadcast or send the generated message\n",
        "def send_plant_status_to_followers(temperature, humidity, light_level,plant_name):\n",
        "    message = generate_plant_message(temperature, humidity, light_level, plant_name)\n",
        "    bot.broadcast_message(message)\n",
        "\n",
        "\n"
      ],
      "metadata": {
        "id": "4pQnuxZAX9VK"
      },
      "id": "4pQnuxZAX9VK",
      "execution_count": 29,
      "outputs": []
    },
    {
      "cell_type": "markdown",
      "source": [
        "# Simulated loop, since I don't have the Arduino with me now"
      ],
      "metadata": {
        "id": "kmSfS5sfaWWR"
      },
      "id": "kmSfS5sfaWWR"
    },
    {
      "cell_type": "code",
      "source": [
        "# Simulation loop\n",
        "\n",
        "# Set the interval for messaging (4 hours)\n",
        "message_interval = timedelta(hours=4)\n",
        "next_message_time = datetime.now()\n",
        "try:\n",
        "    while True:\n",
        "        # Simulate sensor data readings\n",
        "        data = simulate_sensor_data()\n",
        "        print(f\"Simulated Data: {data}\")\n",
        "\n",
        "        # Check if it's time to send a message\n",
        "        if datetime.now() >= next_message_time:\n",
        "            # Send plant status message to followers\n",
        "            send_plant_status_to_followers(data['temperature'], data['humidity'], data['light_level'], PLANT_NAME)\n",
        "            # Set the next message time to four hours from now\n",
        "            next_message_time = datetime.now() + message_interval\n",
        "\n",
        "        # Wait before simulating the next data reading\n",
        "        time.sleep(60)  # Adjust this to control how often data is simulated; 60 seconds is used here for demonstration\n",
        "\n",
        "except KeyboardInterrupt:\n",
        "    print(\"Simulation stopped.\")"
      ],
      "metadata": {
        "colab": {
          "base_uri": "https://localhost:8080/"
        },
        "id": "2eeigZfMYuMZ",
        "outputId": "fc028b8d-3e52-4484-8140-7cbba1645f7d"
      },
      "id": "2eeigZfMYuMZ",
      "execution_count": 31,
      "outputs": [
        {
          "output_type": "stream",
          "name": "stdout",
          "text": [
            "Simulated Data: {'temperature': 26.62, 'humidity': 58.46, 'light_level': 42.48}\n",
            "Simulation stopped.\n"
          ]
        }
      ]
    },
    {
      "cell_type": "markdown",
      "source": [
        "Tested and working!!"
      ],
      "metadata": {
        "id": "8IwCUIWKae5M"
      },
      "id": "8IwCUIWKae5M"
    }
  ],
  "metadata": {
    "kernelspec": {
      "display_name": "Python 3",
      "language": "python",
      "name": "python3"
    },
    "language_info": {
      "codemirror_mode": {
        "name": "ipython",
        "version": 2
      },
      "file_extension": ".py",
      "mimetype": "text/x-python",
      "name": "python",
      "nbconvert_exporter": "python",
      "pygments_lexer": "ipython2",
      "version": "2.7.6"
    },
    "colab": {
      "provenance": [],
      "include_colab_link": true
    }
  },
  "nbformat": 4,
  "nbformat_minor": 5
}