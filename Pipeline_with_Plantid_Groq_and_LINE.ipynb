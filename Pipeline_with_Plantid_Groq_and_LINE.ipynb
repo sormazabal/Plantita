{
 "cells": [
  {
   "cell_type": "markdown",
   "id": "4cc409fc7bea6c04",
   "metadata": {
    "collapsed": false,
    "id": "4cc409fc7bea6c04"
   },
   "source": [
    "# LINE Messaging API"
   ]
  },
  {
   "cell_type": "markdown",
   "id": "c2c45f630c4bb496",
   "metadata": {
    "collapsed": false,
    "id": "c2c45f630c4bb496"
   },
   "source": [
    "# Install Dependency"
   ]
  },
  {
   "cell_type": "code",
   "execution_count": 1,
   "id": "7b4fd1f8a2780375",
   "metadata": {
    "ExecuteTime": {
     "end_time": "2024-10-31T09:00:20.429155Z",
     "start_time": "2024-10-31T09:00:18.369710Z"
    },
    "colab": {
     "base_uri": "https://localhost:8080/"
    },
    "id": "7b4fd1f8a2780375",
    "outputId": "5646706f-bb1e-493c-8de4-0f2ba96a5bbd"
   },
   "outputs": [],
   "source": [
    "#!pip install requests"
   ]
  },
  {
   "cell_type": "markdown",
   "id": "rzr1WEdHkFh-",
   "metadata": {
    "id": "rzr1WEdHkFh-"
   },
   "source": [
    "# Global vars"
   ]
  },
  {
   "cell_type": "code",
   "execution_count": null,
   "id": "Wq9XjLyPjwDM",
   "metadata": {
    "id": "Wq9XjLyPjwDM"
   },
   "outputs": [],
   "source": [
    "# we need to find a way to keep this in the memory.\n",
    "#Since the code is always running and only sends messages at some intervals, it shouldn't be that hard to do\n",
    "PLANT_NAME = \"Eustoma russellianum\"  # Example plant name"
   ]
  },
  {
   "cell_type": "markdown",
   "id": "a85d7c8e26260e8a",
   "metadata": {
    "collapsed": false,
    "id": "a85d7c8e26260e8a"
   },
   "source": [
    "## Broadcast Message"
   ]
  },
  {
   "cell_type": "code",
   "execution_count": 15,
   "id": "37b2b4cd2a0c5a1c",
   "metadata": {
    "ExecuteTime": {
     "end_time": "2024-11-01T06:30:28.410867Z",
     "start_time": "2024-11-01T06:30:28.404473Z"
    },
    "id": "37b2b4cd2a0c5a1c"
   },
   "outputs": [],
   "source": [
    "import requests\n",
    "import os\n",
    "from typing import Dict, Any, Optional, List\n",
    "\n",
    "class PlantitaBot:\n",
    "    def __init__(self, channel_access_token: str):\n",
    "        \"\"\"Initialize the Plantita LINE bot\n",
    "\n",
    "        Args:\n",
    "            channel_access_token (str): Your LINE channel access token\n",
    "        \"\"\"\n",
    "        self.channel_access_token = channel_access_token\n",
    "        self.headers = {\n",
    "            'Authorization': f'Bearer {channel_access_token}',\n",
    "            'Content-Type': 'application/json'\n",
    "        }\n",
    "        self.base_url = 'https://api.line.me/v2/bot'\n",
    "\n",
    "    def get_followers(self) -> List[str]:\n",
    "        \"\"\"Get list of user IDs who are friends with your LINE Official Account\n",
    "\n",
    "        Returns:\n",
    "            List[str]: List of user IDs\n",
    "        \"\"\"\n",
    "        user_ids = []\n",
    "        next_cursor = None\n",
    "\n",
    "        while True:\n",
    "            endpoint = f'{self.base_url}/followers/ids'\n",
    "            if next_cursor:\n",
    "                endpoint += f'?start={next_cursor}'\n",
    "\n",
    "            response = requests.get(endpoint, headers=self.headers)\n",
    "            data = response.json()\n",
    "\n",
    "            if 'userIds' in data:\n",
    "                user_ids.extend(data['userIds'])\n",
    "\n",
    "            if 'next' not in data:\n",
    "                break\n",
    "\n",
    "            next_cursor = data['next']\n",
    "\n",
    "        return user_ids\n",
    "\n",
    "    def broadcast_message(self, message: str) -> Dict[str, Any]:\n",
    "        \"\"\"Broadcast a message to all friends of your LINE Official Account\n",
    "\n",
    "        Args:\n",
    "            message (str): The message to broadcast\n",
    "\n",
    "        Returns:\n",
    "            Dict[str, Any]: Response from the LINE API\n",
    "        \"\"\"\n",
    "        endpoint = f'{self.base_url}/message/broadcast'\n",
    "\n",
    "        data = {\n",
    "            'messages': [{\n",
    "                'type': 'text',\n",
    "                'text': message\n",
    "            }]\n",
    "        }\n",
    "\n",
    "        response = requests.post(endpoint, headers=self.headers, json=data)\n",
    "        return response.json()\n",
    "\n",
    "\n",
    "\n",
    "\n",
    "    def broadcast_plant_status(self,\n",
    "                               temperature: float,\n",
    "                               humidity: float,\n",
    "                               light_level: float,\n",
    "                               status: str = \"normal\") -> Dict[str, Any]:\n",
    "        \"\"\"Broadcast plant status to all friends\n",
    "\n",
    "        Args:\n",
    "            temperature (float): Current temperature reading\n",
    "            humidity (float): Current humidity reading\n",
    "            light_level (float): Current light level reading\n",
    "            status (str): Overall status of the plant (\"normal\", \"warning\", \"critical\")\n",
    "\n",
    "        Returns:\n",
    "            Dict[str, Any]: Response from the LINE API\n",
    "        \"\"\"\n",
    "        message = (\n",
    "            f\"🌿 Plantita Status Update 🌿\\n\\n\"\n",
    "            f\"Temperature: {temperature}°C\\n\"\n",
    "            f\"Humidity: {humidity}%\\n\"\n",
    "            f\"Light Level: {light_level}%\\n\\n\"\n",
    "            f\"Status: {status.upper()}\"\n",
    "        )\n",
    "\n",
    "        if status.lower() != \"normal\":\n",
    "            message += \"\\n\\n⚠️ Action needed! Please check your plant.\"\n",
    "\n",
    "        return self.broadcast_message(message)\n",
    "\n",
    "    def send_message(self, user_id: str, message: str) -> Dict[str, Any]:\n",
    "        \"\"\"Send a message to a specific user\n",
    "\n",
    "        Args:\n",
    "            user_id (str): The LINE user ID to send the message to\n",
    "            message (str): The message to send\n",
    "\n",
    "        Returns:\n",
    "            Dict[str, Any]: Response from the LINE API\n",
    "        \"\"\"\n",
    "        endpoint = f'{self.base_url}/message/push'\n",
    "\n",
    "        data = {\n",
    "            'to': user_id,\n",
    "            'messages': [{\n",
    "                'type': 'text',\n",
    "                'text': message\n",
    "            }]\n",
    "        }\n",
    "\n",
    "        response = requests.post(endpoint, headers=self.headers, json=data)\n",
    "        return response.json()\n",
    "\n",
    "    def send_plant_status(self,\n",
    "                          user_id: str,\n",
    "                          temperature: float,\n",
    "                          humidity: float,\n",
    "                          light_level: float,\n",
    "                          status: str = \"normal\") -> Dict[str, Any]:\n",
    "        \"\"\"Send plant status to a specific user\n",
    "\n",
    "        Args:\n",
    "            user_id (str): The LINE user ID to send the message to\n",
    "            temperature (float): Current temperature reading\n",
    "            humidity (float): Current humidity reading\n",
    "            light_level (float): Current light level reading\n",
    "            status (str): Overall status of the plant (\"normal\", \"warning\", \"critical\")\n",
    "\n",
    "        Returns:\n",
    "            Dict[str, Any]: Response from the LINE API\n",
    "        \"\"\"\n",
    "        message = (\n",
    "            f\"🌿 Plantita Status Update 🌿\\n\\n\"\n",
    "            f\"Temperature: {temperature}°C\\n\"\n",
    "            f\"Humidity: {humidity}%\\n\"\n",
    "            f\"Light Level: {light_level}%\\n\\n\"\n",
    "            f\"Status: {status.upper()}\"\n",
    "        )\n",
    "\n",
    "        if status.lower() != \"normal\":\n",
    "            message += \"\\n\\n⚠️ Action needed! Please check your plant.\"\n",
    "\n",
    "        return self.send_message(user_id, message)"
   ]
  },
  {
   "cell_type": "markdown",
   "id": "c102652d3ce4d2d1",
   "metadata": {
    "collapsed": false,
    "id": "c102652d3ce4d2d1"
   },
   "source": [
    "## Example Usage of Broadcast"
   ]
  },
  {
   "cell_type": "code",
   "execution_count": 4,
   "id": "6d46da2722fe2aca",
   "metadata": {
    "ExecuteTime": {
     "end_time": "2024-11-01T06:28:51.145127Z",
     "start_time": "2024-11-01T06:28:50.653345Z"
    },
    "id": "6d46da2722fe2aca",
    "outputId": "3abec808-f1af-4fab-b910-4782eb8836fb"
   },
   "outputs": [
    {
     "name": "stdout",
     "output_type": "stream",
     "text": [
      "Number of followers: 0\n",
      "Follower IDs: []\n"
     ]
    }
   ],
   "source": [
    "# Example usage:\n",
    "if __name__ == \"__main__\":\n",
    "    # Initialize the bot with your channel access token\n",
    "    CHANNEL_ACCESS_TOKEN = \"HYIfkCHmidAfgMc2KcXBLUXzpNvsvJ/t5k8VwU2+ekWovndds7h/5h2Qq+SZkoYjNCPuLg0BHANjAnX81xjbfT7imjJ1s+gYZf6XU4ttM4kuFTkChGSHDZUVKzFpTgesDxTWmILCYw0vgPz/bse7TQdB04t89/1O/w1cDnyilFU=\"  # Replace with your actual token\n",
    "\n",
    "    bot = PlantitaBot(CHANNEL_ACCESS_TOKEN)\n",
    "\n",
    "    # Example: Get list of followers\n",
    "    followers = bot.get_followers()\n",
    "    print(f\"Number of followers: {len(followers)}\")\n",
    "    print(\"Follower IDs:\", followers)\n",
    "\n",
    "    # Example: Broadcast a simple message to all followers\n",
    "    bot.broadcast_message(\"Hello everyone from Plantita! 🌱\")\n",
    "\n",
    "    # Example: Broadcast plant status to all followers\n",
    "    bot.broadcast_plant_status(\n",
    "        temperature=25.5,\n",
    "        humidity=65.0,\n",
    "        light_level=80.0,\n",
    "        status=\"warning\"\n",
    "    )"
   ]
  },
  {
   "cell_type": "markdown",
   "id": "27ad3cf1413cc705",
   "metadata": {
    "collapsed": false,
    "id": "27ad3cf1413cc705"
   },
   "source": [
    "## Example Usage of Direct Message\n",
    "**Still Not Working** Need to setup Webhook Server."
   ]
  },
  {
   "cell_type": "code",
   "execution_count": null,
   "id": "4517fbe22a47bbf8",
   "metadata": {
    "ExecuteTime": {
     "end_time": "2024-11-01T06:30:32.071805Z",
     "start_time": "2024-11-01T06:30:31.906428Z"
    },
    "colab": {
     "base_uri": "https://localhost:8080/"
    },
    "id": "4517fbe22a47bbf8",
    "outputId": "3b8132ad-4462-4bfe-b7a1-ca0d4874bc65"
   },
   "outputs": [
    {
     "data": {
      "text/plain": [
       "{'message': \"The property, 'to', in the request body is invalid (line: -, column: -)\"}"
      ]
     },
     "execution_count": 5,
     "metadata": {},
     "output_type": "execute_result"
    }
   ],
   "source": [
    "# Initialize the bot\n",
    "bot = PlantitaBot(\"HYIfkCHmidAfgMc2KcXBLUXzpNvsvJ/t5k8VwU2+ekWovndds7h/5h2Qq+SZkoYjNCPuLg0BHANjAnX81xjbfT7imjJ1s+gYZf6XU4ttM4kuFTkChGSHDZUVKzFpTgesDxTWmILCYw0vgPz/bse7TQdB04t89/1O/w1cDnyilFU=\")\n",
    "\n",
    "# Send a plant status update\n",
    "# bot.send_plant_status(\n",
    "#     user_id=\"USER_ID\",\n",
    "#     temperature=25.5,\n",
    "#     humidity=65.0,\n",
    "#     light_level=80.0,\n",
    "#     status=\"warning\"\n",
    "# )"
   ]
  },
  {
   "cell_type": "markdown",
   "id": "3f98efa59f92ce1e",
   "metadata": {
    "collapsed": false,
    "id": "3f98efa59f92ce1e"
   },
   "source": [
    "## GROQ Implementation"
   ]
  },
  {
   "cell_type": "markdown",
   "id": "8c560218d9c7ed5c",
   "metadata": {
    "collapsed": false,
    "id": "8c560218d9c7ed5c"
   },
   "source": [
    "# Install Dependency"
   ]
  },
  {
   "cell_type": "code",
   "execution_count": 6,
   "id": "8cc51fd94e76a4f3",
   "metadata": {
    "ExecuteTime": {
     "end_time": "2024-10-31T09:16:30.769010Z",
     "start_time": "2024-10-31T09:16:25.265964Z"
    },
    "colab": {
     "base_uri": "https://localhost:8080/"
    },
    "id": "8cc51fd94e76a4f3",
    "outputId": "8e649af4-02f5-4035-8b1b-82bf48b7dfa3"
   },
   "outputs": [],
   "source": [
    "#!pip install groq"
   ]
  },
  {
   "cell_type": "markdown",
   "id": "f17ed0a713882ee4",
   "metadata": {
    "collapsed": false,
    "id": "f17ed0a713882ee4"
   },
   "source": [
    "# Demonstration"
   ]
  },
  {
   "cell_type": "code",
   "execution_count": 7,
   "id": "6c90fb7248b58427",
   "metadata": {
    "ExecuteTime": {
     "end_time": "2024-10-31T09:25:38.372321Z",
     "start_time": "2024-10-31T09:25:37.662106Z"
    },
    "colab": {
     "base_uri": "https://localhost:8080/"
    },
    "id": "6c90fb7248b58427",
    "outputId": "d3e5db89-1400-4f48-a1e8-ce33c250e930"
   },
   "outputs": [
    {
     "name": "stdout",
     "output_type": "stream",
     "text": [
      "Sweetie, I've taken a look at your Monstera Deliciosa's environment, and I'm happy to report that it's mostly doing well! However, I do see a few areas where we can make some adjustments to help your plant thrive. The temperature is a bit on the warm side, and the humidity is a tad low. To keep your plant happy, I recommend keeping an eye on the temperature and making sure it stays between 20-25°C. Additionally, you can try increasing the humidity around your plant by placing it on a tray with pebbles and water or using a humidifier.\n"
     ]
    }
   ],
   "source": [
    "import os\n",
    "\n",
    "from groq import Groq\n",
    "\n",
    "client = Groq(\n",
    "    api_key=\"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\",\n",
    ")\n",
    "\n",
    "chat_completion = client.chat.completions.create(\n",
    "    messages=[\n",
    "        {\n",
    "            \"role\": \"user\",\n",
    "            \"content\": '''You are Plantita, an expert plant care advisor with a warm, caring personality like a concerned aunt.\n",
    "Current readings for Monstera Deliciosa:\n",
    "        temperature=27.5,\n",
    "        humidity=55,\n",
    "        light_level=40,\n",
    "\n",
    "Ideal conditions for this plant:\n",
    "- Temperature: 20°C to 25°C\n",
    "- Humidity: 60% to 80%\n",
    "- Light Level: 50% to 80%\n",
    "\n",
    "Please analyze these conditions and provide:\n",
    "1. A caring, conversational assessment of the plant's current environment\n",
    "2. Specific recommendations for improvement if needed\n",
    "3. Any potential risks to the plant's health based on these conditions\n",
    "4. A simple action plan for the plant owner\n",
    "\n",
    "Keep your response friendly and encouraging, like a knowledgeable aunt giving advice about their beloved plants.\n",
    "Limit your response to fit a notification on a messaging app, focus only on what the user needed to do and keep it to three to 5 sentences''',\n",
    "        }\n",
    "    ],\n",
    "    model=\"llama3-8b-8192\",\n",
    ")\n",
    "\n",
    "print(chat_completion.choices[0].message.content)"
   ]
  },
  {
   "cell_type": "markdown",
   "id": "T-H0QMj-QT6E",
   "metadata": {
    "id": "T-H0QMj-QT6E"
   },
   "source": [
    "# Integrate sensor information with Groq"
   ]
  },
  {
   "cell_type": "code",
   "execution_count": 8,
   "id": "IiVH-lUdQbiy",
   "metadata": {
    "colab": {
     "base_uri": "https://localhost:8080/"
    },
    "id": "IiVH-lUdQbiy",
    "outputId": "39a27431-d548-4787-e897-3bd3b529b8f5"
   },
   "outputs": [],
   "source": [
    "#!pip install pyserial pysimplegui \n",
    "\n"
   ]
  },
  {
   "cell_type": "markdown",
   "id": "SryATaquRdMa",
   "metadata": {
    "id": "SryATaquRdMa"
   },
   "source": [
    "# Simulate Arduino data on PC if we forgot to carry the Arduino"
   ]
  },
  {
   "cell_type": "markdown",
   "id": "CKAvzcyCRwqY",
   "metadata": {
    "id": "CKAvzcyCRwqY"
   },
   "source": [
    "# Actual arduino data"
   ]
  },
  {
   "cell_type": "code",
   "execution_count": 9,
   "id": "0uqbM8eJQch4",
   "metadata": {
    "colab": {
     "base_uri": "https://localhost:8080/",
     "height": 424
    },
    "id": "0uqbM8eJQch4",
    "outputId": "356b63cf-4b01-4f0a-c43d-9777e9ee2e10"
   },
   "outputs": [
    {
     "ename": "SerialException",
     "evalue": "could not open port 'COM5': FileNotFoundError(2, 'The system cannot find the file specified.', None, 2)",
     "output_type": "error",
     "traceback": [
      "\u001b[1;31m---------------------------------------------------------------------------\u001b[0m",
      "\u001b[1;31mSerialException\u001b[0m                           Traceback (most recent call last)",
      "Cell \u001b[1;32mIn[9], line 11\u001b[0m\n\u001b[0;32m      8\u001b[0m baud_rate \u001b[38;5;241m=\u001b[39m \u001b[38;5;241m9600\u001b[39m  \u001b[38;5;66;03m# Must match the baud rate set in the Arduino code\u001b[39;00m\n\u001b[0;32m     10\u001b[0m \u001b[38;5;66;03m# Open the serial connection\u001b[39;00m\n\u001b[1;32m---> 11\u001b[0m ser \u001b[38;5;241m=\u001b[39m \u001b[43mserial\u001b[49m\u001b[38;5;241;43m.\u001b[39;49m\u001b[43mSerial\u001b[49m\u001b[43m(\u001b[49m\u001b[43mserial_port\u001b[49m\u001b[43m,\u001b[49m\u001b[43m \u001b[49m\u001b[43mbaud_rate\u001b[49m\u001b[43m)\u001b[49m\n\u001b[0;32m     12\u001b[0m time\u001b[38;5;241m.\u001b[39msleep(\u001b[38;5;241m2\u001b[39m)  \u001b[38;5;66;03m# Allow time for the connection to establish\u001b[39;00m\n\u001b[0;32m     14\u001b[0m \u001b[38;5;28mprint\u001b[39m(\u001b[38;5;124m\"\u001b[39m\u001b[38;5;124mCollecting data from Arduino...\u001b[39m\u001b[38;5;124m\"\u001b[39m)\n",
      "File \u001b[1;32mc:\\Users\\user\\.conda\\envs\\aiot\\Lib\\site-packages\\serial\\serialwin32.py:33\u001b[0m, in \u001b[0;36mSerial.__init__\u001b[1;34m(self, *args, **kwargs)\u001b[0m\n\u001b[0;32m     31\u001b[0m \u001b[38;5;28mself\u001b[39m\u001b[38;5;241m.\u001b[39m_overlapped_read \u001b[38;5;241m=\u001b[39m \u001b[38;5;28;01mNone\u001b[39;00m\n\u001b[0;32m     32\u001b[0m \u001b[38;5;28mself\u001b[39m\u001b[38;5;241m.\u001b[39m_overlapped_write \u001b[38;5;241m=\u001b[39m \u001b[38;5;28;01mNone\u001b[39;00m\n\u001b[1;32m---> 33\u001b[0m \u001b[38;5;28;43msuper\u001b[39;49m\u001b[43m(\u001b[49m\u001b[43mSerial\u001b[49m\u001b[43m,\u001b[49m\u001b[43m \u001b[49m\u001b[38;5;28;43mself\u001b[39;49m\u001b[43m)\u001b[49m\u001b[38;5;241;43m.\u001b[39;49m\u001b[38;5;21;43m__init__\u001b[39;49m\u001b[43m(\u001b[49m\u001b[38;5;241;43m*\u001b[39;49m\u001b[43margs\u001b[49m\u001b[43m,\u001b[49m\u001b[43m \u001b[49m\u001b[38;5;241;43m*\u001b[39;49m\u001b[38;5;241;43m*\u001b[39;49m\u001b[43mkwargs\u001b[49m\u001b[43m)\u001b[49m\n",
      "File \u001b[1;32mc:\\Users\\user\\.conda\\envs\\aiot\\Lib\\site-packages\\serial\\serialutil.py:244\u001b[0m, in \u001b[0;36mSerialBase.__init__\u001b[1;34m(self, port, baudrate, bytesize, parity, stopbits, timeout, xonxoff, rtscts, write_timeout, dsrdtr, inter_byte_timeout, exclusive, **kwargs)\u001b[0m\n\u001b[0;32m    241\u001b[0m     \u001b[38;5;28;01mraise\u001b[39;00m \u001b[38;5;167;01mValueError\u001b[39;00m(\u001b[38;5;124m'\u001b[39m\u001b[38;5;124munexpected keyword arguments: \u001b[39m\u001b[38;5;132;01m{!r}\u001b[39;00m\u001b[38;5;124m'\u001b[39m\u001b[38;5;241m.\u001b[39mformat(kwargs))\n\u001b[0;32m    243\u001b[0m \u001b[38;5;28;01mif\u001b[39;00m port \u001b[38;5;129;01mis\u001b[39;00m \u001b[38;5;129;01mnot\u001b[39;00m \u001b[38;5;28;01mNone\u001b[39;00m:\n\u001b[1;32m--> 244\u001b[0m     \u001b[38;5;28;43mself\u001b[39;49m\u001b[38;5;241;43m.\u001b[39;49m\u001b[43mopen\u001b[49m\u001b[43m(\u001b[49m\u001b[43m)\u001b[49m\n",
      "File \u001b[1;32mc:\\Users\\user\\.conda\\envs\\aiot\\Lib\\site-packages\\serial\\serialwin32.py:64\u001b[0m, in \u001b[0;36mSerial.open\u001b[1;34m(self)\u001b[0m\n\u001b[0;32m     62\u001b[0m \u001b[38;5;28;01mif\u001b[39;00m \u001b[38;5;28mself\u001b[39m\u001b[38;5;241m.\u001b[39m_port_handle \u001b[38;5;241m==\u001b[39m win32\u001b[38;5;241m.\u001b[39mINVALID_HANDLE_VALUE:\n\u001b[0;32m     63\u001b[0m     \u001b[38;5;28mself\u001b[39m\u001b[38;5;241m.\u001b[39m_port_handle \u001b[38;5;241m=\u001b[39m \u001b[38;5;28;01mNone\u001b[39;00m    \u001b[38;5;66;03m# 'cause __del__ is called anyway\u001b[39;00m\n\u001b[1;32m---> 64\u001b[0m     \u001b[38;5;28;01mraise\u001b[39;00m SerialException(\u001b[38;5;124m\"\u001b[39m\u001b[38;5;124mcould not open port \u001b[39m\u001b[38;5;132;01m{!r}\u001b[39;00m\u001b[38;5;124m: \u001b[39m\u001b[38;5;132;01m{!r}\u001b[39;00m\u001b[38;5;124m\"\u001b[39m\u001b[38;5;241m.\u001b[39mformat(\u001b[38;5;28mself\u001b[39m\u001b[38;5;241m.\u001b[39mportstr, ctypes\u001b[38;5;241m.\u001b[39mWinError()))\n\u001b[0;32m     66\u001b[0m \u001b[38;5;28;01mtry\u001b[39;00m:\n\u001b[0;32m     67\u001b[0m     \u001b[38;5;28mself\u001b[39m\u001b[38;5;241m.\u001b[39m_overlapped_read \u001b[38;5;241m=\u001b[39m win32\u001b[38;5;241m.\u001b[39mOVERLAPPED()\n",
      "\u001b[1;31mSerialException\u001b[0m: could not open port 'COM5': FileNotFoundError(2, 'The system cannot find the file specified.', None, 2)"
     ]
    }
   ],
   "source": [
    "import serial\n",
    "import time\n",
    "\n",
    "\n",
    "# On Linux, it might be something like '/dev/ttyUSB0' or '/dev/ttyACM0'\n",
    "# On Mac, it could be '/dev/tty.usbmodem*'\n",
    "serial_port ='COM5'  \n",
    "baud_rate = 9600  # Must match the baud rate set in the Arduino code\n",
    "\n",
    "# Open the serial connection\n",
    "ser = serial.Serial(serial_port, baud_rate)\n",
    "time.sleep(2)  # Allow time for the connection to establish\n",
    "\n",
    "print(\"Collecting data from Arduino...\")\n",
    "\n",
    "try:\n",
    "    while True:\n",
    "        # Read a line from the serial data\n",
    "        line = ser.readline().decode('utf-8').strip()\n",
    "\n",
    "        # Check if the line contains valid sensor data\n",
    "        if line:\n",
    "            print(line)  # Print the line or process it as needed\n",
    "\n",
    "        time.sleep(1)  # Delay for readability, adjust as needed\n",
    "\n",
    "except KeyboardInterrupt:\n",
    "    print(\"Data collection stopped.\")\n",
    "\n",
    "finally:\n",
    "    ser.close()  # Always close the serial connection when done\n"
   ]
  },
  {
   "cell_type": "markdown",
   "id": "qtKVllGrfOF2",
   "metadata": {
    "id": "qtKVllGrfOF2"
   },
   "source": [
    "# Get PlantID\n"
   ]
  },
  {
   "cell_type": "markdown",
   "id": "Bo9ScWx9R640",
   "metadata": {
    "id": "Bo9ScWx9R640"
   },
   "source": [
    "# Getting Plant ID from a picture"
   ]
  },
  {
   "cell_type": "code",
   "execution_count": 8,
   "id": "RdUcFrKniSel",
   "metadata": {
    "colab": {
     "base_uri": "https://localhost:8080/"
    },
    "id": "RdUcFrKniSel",
    "outputId": "9ad1cd4b-05b5-4402-93d9-ac49266b3cf0"
   },
   "outputs": [],
   "source": [
    "import requests\n",
    "import base64\n",
    "#from google.colab import userdata\n",
    "# Load the image and encode it in base64\n",
    "image_path = \"plant.jpg\" #! Need to substitute for ngrok link\n",
    "\n",
    "def identify_plant(image_path):\n",
    "    # Define the endpoint and API key\n",
    "    url = \"https://api.plant.id/v2/identify\"\n",
    "    #api_key = userdata.get('plantid_key')  # Replace with your actual API key\n",
    "    api_key = \"V3bNS9Yrc6yWsY2pgevJnjNoYtnhIw6Uvh9PxvuNwiyTyYf5Tr\"\n",
    "    \n",
    "    # need to add this:\n",
    "    #https://plant.id/api/v3/kb/plants/:access_token?details=common_names,\n",
    "    # url,description,taxonomy,rank,gbif_id,inaturalist_id,image,synonyms,edible_parts,watering,propagation_methods\n",
    "\n",
    "\n",
    "    with open(image_path, \"rb\") as image_file:\n",
    "        base64_image = base64.b64encode(image_file.read()).decode(\"utf-8\")\n",
    "\n",
    "    # Prepare the headers and data payload\n",
    "    headers = {\n",
    "        \"Content-Type\": \"application/json\",\n",
    "        \"Api-Key\": api_key\n",
    "    }\n",
    "\n",
    "    data = {\n",
    "        \"images\": [base64_image],\n",
    "        \"organs\": [\"leaf\"],  # Specify which part of the plant you are identifying (leaf, flower, etc.)\n",
    "        \"include-related-images\": False,  # Optional: Include related images in response\n",
    "        \"include-plant-details\": [\"common_names\", \"url\", \"wiki_description\"]  # Specify the plant details you need\n",
    "    }\n",
    "\n",
    "    # Send POST request\n",
    "    response = requests.post(url, headers=headers, json=data)\n",
    "\n",
    "    # Initialize variable to store the plant name with the highest probability\n",
    "    plant_name_with_highest_probability = None\n",
    "\n",
    "    # Check the response\n",
    "    if response.status_code == 200:\n",
    "        results = response.json()\n",
    "\n",
    "        #! Need to fix the probelem with the results and getting the details\n",
    "        # water = results[\"watering\"]\n",
    "        # best_watering = results[\"best_watering\"]\n",
    "        # best_light_condition = results[\"best_light_condition\"]\n",
    "        # best_soil_type = results[\"best_soil_type\"]\n",
    "\n",
    "        # print(f\"Watering: {water['min']} to {water['max']}\")\n",
    "        # print(\"Best Watering Practices:\", best_watering)\n",
    "        # print(\"Best Light Conditions:\", best_light_condition)\n",
    "        # print(\"Best Soil Types:\", best_soil_type)\n",
    "        # print(\"Possible plant identifications:\")\n",
    "\n",
    "        # Find the suggestion with the highest probability\n",
    "        highest_probability = 0\n",
    "        for suggestion in results[\"suggestions\"]:\n",
    "            probability = suggestion[\"probability\"]\n",
    "\n",
    "            if probability > highest_probability:\n",
    "                highest_probability = probability\n",
    "                plant_name_with_highest_probability = suggestion[\"plant_name\"]\n",
    "\n",
    "            # Print suggestion details\n",
    "            print(f\"Species: {suggestion['plant_name']}, Probability: {probability * 100:.2f}%\")\n",
    "\n",
    "            # Additional details (if requested)\n",
    "            if \"common_names\" in suggestion:\n",
    "                print(\"Common Names:\", \", \".join(suggestion[\"common_names\"]))\n",
    "            if \"url\" in suggestion:\n",
    "                print(\"More Info:\", suggestion[\"url\"])\n",
    "            if \"wiki_description\" in suggestion and \"value\" in suggestion[\"wiki_description\"]:\n",
    "                print(\"Description:\", suggestion[\"wiki_description\"][\"value\"])\n",
    "                print(\"Wiki:\",suggestion[\"wiki_description\"])\n",
    "            print(\"\\n\")\n",
    "\n",
    "        # Print the plant with the highest probability\n",
    "        print(f\"Plant with the highest probability: {plant_name_with_highest_probability}\")\n",
    "        return plant_name_with_highest_probability\n",
    "\n",
    "    else:\n",
    "        print(f\"Error: {response.status_code}, Message: {response.text}\")\n",
    "\n",
    "    # Now you can pass this plant name to the generate_plant_message function\n"
   ]
  },
  {
   "cell_type": "code",
   "execution_count": null,
   "id": "wCoKKd20irtz",
   "metadata": {
    "colab": {
     "base_uri": "https://localhost:8080/"
    },
    "id": "wCoKKd20irtz",
    "outputId": "6e524e6b-c593-4545-f0af-53dd90e56275"
   },
   "outputs": [
    {
     "name": "stdout",
     "output_type": "stream",
     "text": [
      "Species: Rosa chinensis, Probability: 67.26%\n",
      "\n",
      "\n",
      "Species: Rosa × odorata, Probability: 23.71%\n",
      "\n",
      "\n",
      "Species: Rosa lucieae, Probability: 3.50%\n",
      "\n",
      "\n",
      "Species: Rosa gallica, Probability: 2.31%\n",
      "\n",
      "\n",
      "Plant with the highest probability: Rosa chinensis\n",
      "Rosa chinensis\n"
     ]
    }
   ],
   "source": [
    "plant_name_with_highest_probability = identify_plant(image_path)\n",
    "print(plant_name_with_highest_probability)\n",
    "PLANT_NAME = plant_name_with_highest_probability"
   ]
  },
  {
   "cell_type": "markdown",
   "id": "f842aa30",
   "metadata": {},
   "source": [
    "## Health Assessment"
   ]
  },
  {
   "cell_type": "code",
   "execution_count": 31,
   "id": "bc40d596",
   "metadata": {},
   "outputs": [],
   "source": [
    "\n",
    "def get_health_assessment(image_path):\n",
    "    # Define the endpoint and API key\n",
    "    url = \"https://api.plant.id/v2/health_assessment\"\n",
    "    #api_key = userdata.get('plantid_key')  # Replace with your actual API key\n",
    "    api_key= \"V3bNS9Yrc6yWsY2pgevJnjNoYtnhIw6Uvh9PxvuNwiyTyYf5Tr\"\n",
    "\n",
    "    # Load the image and encode it in base64\n",
    "    image_path = \"plant.jpg\"\n",
    "    with open(image_path, \"rb\") as image_file:\n",
    "        base64_image = base64.b64encode(image_file.read()).decode(\"utf-8\")\n",
    "\n",
    "    # Prepare headers and data payload\n",
    "    headers = {\n",
    "        \"Content-Type\": \"application/json\",\n",
    "        \"Api-Key\": api_key\n",
    "    }\n",
    "\n",
    "    data = {\n",
    "        \"images\": [base64_image],\n",
    "        \"organs\": [\"leaf\"],  # Optional: Specify the plant part (e.g., leaf, flower, etc.)\n",
    "        \"include-related-images\": False  # Optional: Include related images in the response\n",
    "    }\n",
    "\n",
    "    '''watering - dict - minimum and maximum of how wet environment the plant prefers \n",
    "    (1 = dry, 2 = medium, 3 = wet), eg. \"watering\": {\"min\": 1, \"max\": 2} \n",
    "    means plant prefers dry to medium environment\n",
    "\n",
    "best_watering - string - short paragraph on optimal watering practices, English only\n",
    "\n",
    "best_light_condition - string - short paragraph on optimal lighting, English only\n",
    "\n",
    "best_soil_type - string - short paragraph on optimal soil types for growing the plant, English only'''\n",
    "\n",
    "    # Send POST request\n",
    "    response = requests.post(url, headers=headers, json=data)\n",
    "    \n",
    "\n",
    "    if response.status_code == 200:\n",
    "        results = response.json()\n",
    "        #print(\"Plant Health Assessment Results:\")\n",
    "        #print(results.keys())    \n",
    "        # Check if the response contains health assessment information\n",
    "        if \"health_assessment\" in results:\n",
    "            health_info = results[\"health_assessment\"]\n",
    "\n",
    "            # Check if the plant is healthy\n",
    "            if health_info[\"is_healthy\"]:\n",
    "                print(f\"The plant is healthy with a probability of {health_info['is_healthy_probability']*100:.2f}%.\")\n",
    "                return health_info[\"is_healthy\"]\n",
    "            else:\n",
    "                print(\"The plant shows signs of disease.\")\n",
    "\n",
    "                # If diseases are detected, print each disease and its details\n",
    "                for disease in health_info[\"diseases\"]:\n",
    "                    pass\n",
    "                    # print(f\"Diagnosis: {disease['name']}\")\n",
    "                    # print(f\"Probability: {disease['probability']*100:.2f}%\")\n",
    "                    # print(f\"Suggested Treatment: {disease.get('treatment', 'N/A')}\")\n",
    "                    # print(\"\\n\")\n",
    "                return health_info[\"diseases\"]\n",
    "        else:\n",
    "            print(\"No health assessment information available in the response.\")\n",
    "    else:\n",
    "        print(f\"Error: {response.status_code}, Message: {response.text}\")\n"
   ]
  },
  {
   "cell_type": "markdown",
   "id": "c77066a0",
   "metadata": {},
   "source": [
    "### Wrapper for sending the health status to Groq"
   ]
  },
  {
   "cell_type": "code",
   "execution_count": null,
   "id": "b71d0934",
   "metadata": {},
   "outputs": [],
   "source": [
    "import os\n",
    "from groq import Groq\n",
    "def send_groq_health_assessment(image_path, plant_name):\n",
    "    \"\"\"\n",
    "    Sends plant health status message based on a picture and PlantID API to the Groq API.\n",
    "    \"\"\"\n",
    "\n",
    "    # Initialize the Groq client\n",
    "    client = Groq(\n",
    "    api_key=\"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\",\n",
    "    )\n",
    "\n",
    "    # Initialize the LINE bot with your channel access token\n",
    "    # CHANNEL_ACCESS_TOKEN = os.getenv(\"CHANNEL_ACCESS_TOKEN\")\n",
    "    # bot = PlantitaBot(CHANNEL_ACCESS_TOKEN)\n",
    "    #we have to remember to put these keys into the secrets\n",
    "    bot = PlantitaBot(\"HYIfkCHmidAfgMc2KcXBLUXzpNvsvJ/t5k8VwU2+ekWovndds7h/5h2Qq+SZkoYjNCPuLg0BHANjAnX81xjbfT7imjJ1s+gYZf6XU4ttM4kuFTkChGSHDZUVKzFpTgesDxTWmILCYw0vgPz/bse7TQdB04t89/1O/w1cDnyilFU=\")\n",
    "\n",
    "    # get the health assessment of the plant\n",
    "    health_status = get_health_assessment(image_path)\n",
    "    health_status = health_status[0]\n",
    "\n",
    "    #print(\"health assessment:\", health_status)\n",
    "\n",
    "    # craft the prompt\n",
    "    user_message = (\n",
    "        f\"You are Plantita, an expert plant care advisor with a warm, caring personality like a concerned aunt.\\n\"\n",
    "        f\"Based on the health assessment of the plant {plant_name}:\\n\"\n",
    "        f\"{health_status}\\n\"\n",
    "        f\"Please analyze these conditions and provide:\\n\"\n",
    "        \"1. A caring, conversational assessment of the plant's current environment\\n\"\n",
    "        \"2. Specific recommendations for improvement if needed\\n\"\n",
    "        \"3. Any potential risks to the plant's health based on these conditions\\n\"\n",
    "        \"4. A simple action plan for the plant owner\\n\"\n",
    "\n",
    "        \"Keep your response friendly and encouraging, like a knowledgeable aunt giving advice about their beloved plants.\"\n",
    "    )\n",
    "\n",
    "    response = client.chat.completions.create(\n",
    "        messages=[{\"role\": \"user\", \"content\": user_message}],\n",
    "        model=\"llama3-8b-8192\"\n",
    "    )\n",
    "\n",
    "    print(\"Plant health status message sent!\")\n",
    "    print(response.choices[0].message.content)"
   ]
  },
  {
   "cell_type": "code",
   "execution_count": 35,
   "id": "5ee89634",
   "metadata": {},
   "outputs": [
    {
     "name": "stdout",
     "output_type": "stream",
     "text": [
      "The plant shows signs of disease.\n",
      "health assessment: {'name': 'Leotiomycetes', 'probability': 0.1611, 'redundant': True, 'entity_id': 469, 'disease_details': {'local_name': 'Leotiomycetes', 'language': 'en'}}\n",
      "Plant health status message sent!\n",
      "Sweetie, I'm so glad you brought Rosa chinensis to me for a check-up! Let's take a closer look at the assessment together.\n",
      "\n",
      "It seems like Leotiomycetes might be lurking in the background, with a probability of 0.1611. Now, don't worry just yet, but I do want to gently nudge you to take a closer look at the plant's environment. The fact that Leotiomycetes is detected tells me that the plant might be experiencing some stress, possibly due to factors like poor ventilation, inadequate light, or inconsistent watering.\n",
      "\n",
      "Sweetheart, I think Rosa chinensis is craving a bit more TLC (tender loving care). Here are some super easy recommendations to get the plant back on track:\n",
      "\n",
      "1. **Give it a little extra love**: Increase the air circulation around the plant by moving it a few inches away from any walls or using a fan on a low setting. This will help prevent fungal growth.\n",
      "2. **Brighten up**: Rosa chinensis loves plenty of indirect sunlight. Make sure it's placed near a sunny window or a grow light. This will give it the energy it needs to thrive!\n",
      "3. **Hydro-logically harmonious**: Check the soil moisture by sticking your finger into the soil up to the first knuckle. If it feels dry, give Rosa chinensis a good watering. If it's already moist, you can wait a few more days before watering again.\n",
      "\n",
      "Sweetie, by making these simple adjustments, you'll be reducing the risk of Leotiomycetes taking hold and potentially damaging the plant.\n",
      "\n",
      "Lastly, here's a simple action plan for you to follow:\n",
      "\n",
      "1. Keep an eye on the plant's temperature range (it prefers between 65-75°F/18-24°C).\n",
      "2. Inspect the plant regularly for signs of pests or diseases, and remove any affected areas to prevent the spread.\n",
      "3. Water Rosa chinensis carefully, avoiding overwatering, which can exacerbate fungal growth.\n",
      "\n",
      "You're doing a fantastic job taking care of Rosa chinensis, and with these minor tweaks, it'll be back to its lovely self in no time! If you have any more questions or concerns, don't hesitate to reach out. I'm always here to help.\n"
     ]
    }
   ],
   "source": [
    "# Test\n",
    "send_groq_health_assessment(image_path, PLANT_NAME)"
   ]
  },
  {
   "cell_type": "markdown",
   "id": "MZs50Y2eQ44G",
   "metadata": {
    "id": "MZs50Y2eQ44G"
   },
   "source": [
    "# Parse data and send it to Groq and then LINE"
   ]
  },
  {
   "cell_type": "code",
   "execution_count": 34,
   "id": "gXHwNc5WVVV6",
   "metadata": {
    "id": "gXHwNc5WVVV6"
   },
   "outputs": [],
   "source": [
    "import random\n",
    "import time\n",
    "from datetime import datetime, timedelta\n",
    "\n",
    "\n",
    "\n",
    "def simulate_sensor_data():\n",
    "    \"\"\"\n",
    "    Simulates reading temperature, humidity, and light level data.\n",
    "    \"\"\"\n",
    "    temperature = round(random.uniform(20.0, 30.0), 2)  # Celsius\n",
    "    humidity = round(random.uniform(40.0, 60.0), 2)     # Percent\n",
    "    moisture = round(random.uniform(30.0, 70.0), 2)  # Percent\n",
    "    pressure = round(random.uniform(30.0, 70.0), 2)  # Percent\n",
    "\n",
    "    return {\"temperature\": temperature, \"humidity\": humidity,\"pressure\": pressure, \"moisture\": moisture}\n",
    "\n",
    "def send_groq_message(data):\n",
    "    \"\"\"\n",
    "    Sends plant care message based on the data to the Groq API.\n",
    "    \"\"\"\n",
    "    user_message = (\n",
    "        f\"You are Plantita, an expert plant care advisor with a warm, caring personality like a concerned aunt.\\n\"\n",
    "        f\"Current readings for Monstera Deliciosa:\\n\"\n",
    "        f\"    temperature={data['temperature']}°C,\\n\"\n",
    "        f\"    humidity={data['humidity']}%,\\n\"\n",
    "        f\"    pressure={data['pressure']}%,\\n\"\n",
    "        f\"    moisture={data['moisture']}%,\\n\\n\"\n",
    "\n",
    "        \"Ideal conditions for this plant:\\n\"\n",
    "         \"- Temperature: [Fill in with the values according to the {plant_name}]\\n\"\n",
    "        \"- Humidity: [Fill in with the values according to the {plant_name}]\\n\"\n",
    "        \"- Pressure: [Fill in with the values according to the {plant_name}]\\n\"\n",
    "        \"- Moisture: [Fill in with the values according to the {plant_name}]\\n\\n\"\n",
    "\n",
    "        \"Please analyze these conditions and provide:\\n\"\n",
    "        \"1. A caring, conversational assessment of the plant's current environment\\n\"\n",
    "        \"2. Specific recommendations for improvement if needed\\n\"\n",
    "        \"3. Any potential risks to the plant's health based on these conditions\\n\"\n",
    "        \"4. A simple action plan for the plant owner\\n\\n\"\n",
    "        \"Keep your response friendly and encouraging, like a knowledgeable aunt giving advice about their beloved plants.\"\n",
    "    )\n",
    "\n",
    "    response = client.chat.completions.create(\n",
    "        messages=[{\"role\": \"user\", \"content\": user_message}],\n",
    "        model=\"llama3-8b-8192\"\n",
    "    )\n",
    "\n",
    "    print(\"Plant care message sent!\")\n",
    "    print(response.choices[0].message.content)\n"
   ]
  },
  {
   "cell_type": "code",
   "execution_count": 35,
   "id": "4pQnuxZAX9VK",
   "metadata": {
    "id": "4pQnuxZAX9VK"
   },
   "outputs": [],
   "source": [
    "import os\n",
    "from groq import Groq\n",
    "\n",
    "client = Groq(\n",
    "    api_key=\"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\",\n",
    ")\n",
    "\n",
    "# Initialize the LINE bot with your channel access token\n",
    "# CHANNEL_ACCESS_TOKEN = os.getenv(\"CHANNEL_ACCESS_TOKEN\")\n",
    "# bot = PlantitaBot(CHANNEL_ACCESS_TOKEN)\n",
    "#we have to remember to put these keys into the secrets\n",
    "bot = PlantitaBot(\"HYIfkCHmidAfgMc2KcXBLUXzpNvsvJ/t5k8VwU2+ekWovndds7h/5h2Qq+SZkoYjNCPuLg0BHANjAnX81xjbfT7imjJ1s+gYZf6XU4ttM4kuFTkChGSHDZUVKzFpTgesDxTWmILCYw0vgPz/bse7TQdB04t89/1O/w1cDnyilFU=\")\n",
    "\n",
    "\n",
    "# Step 1: Generate the message from Groq\n",
    "def generate_plant_message(temperature, humidity, pressure, moisture, plant_name):\n",
    "    \"\"\"\n",
    "    Generates a plant care message using the Groq API.\n",
    "    \"\"\"\n",
    "    user_message = (\n",
    "        f\"You are Plantita, an expert plant care advisor.\\n\"\n",
    "        f\"Current readings for {plant_name}:\\n\"\n",
    "        f\"    temperature={temperature}°C,\\n\"\n",
    "        f\"    humidity={humidity}%,\\n\"\n",
    "        f\"    pressure={pressure}%,\\n\"\n",
    "        f\"    moisture={moisture}%,\\n\\n\"\n",
    "        \n",
    "        \"Ideal conditions:\\n\"\n",
    "        \"- Temperature: [Fill in with the values according to the {plant_name}]\\n\"\n",
    "        \"- Humidity: [Fill in with the values according to the {plant_name}]\\n\"\n",
    "        \"- Pressure: [Fill in with the values according to the {plant_name}]\\n\"\n",
    "        \"- Moisture: [Fill in with the values according to the {plant_name}]\\n\\n\"\n",
    "        \"Provide a friendly message for the user.\"\n",
    "    )\n",
    "\n",
    "    response = client.chat.completions.create(\n",
    "        messages=[{\"role\": \"user\", \"content\": user_message}],\n",
    "        model=\"llama3-8b-8192\"\n",
    "    )\n",
    "\n",
    "    return response.choices[0].message.content\n",
    "\n",
    "\n",
    "# Step 2: Broadcast or send the generated message\n",
    "def send_plant_status_to_followers(temperature, humidity, pressure, moisture, plant_name):\n",
    "    message = generate_plant_message(temperature, humidity, pressure, moisture,  plant_name)\n",
    "    bot.broadcast_message(message)\n",
    "\n",
    "\n"
   ]
  },
  {
   "cell_type": "markdown",
   "id": "kmSfS5sfaWWR",
   "metadata": {
    "id": "kmSfS5sfaWWR"
   },
   "source": [
    "# Simulated loop, since I don't have the Arduino with me now"
   ]
  },
  {
   "cell_type": "code",
   "execution_count": null,
   "id": "2eeigZfMYuMZ",
   "metadata": {
    "colab": {
     "base_uri": "https://localhost:8080/"
    },
    "id": "2eeigZfMYuMZ",
    "outputId": "fc028b8d-3e52-4484-8140-7cbba1645f7d"
   },
   "outputs": [
    {
     "name": "stdout",
     "output_type": "stream",
     "text": [
      "Simulated Data: {'temperature': 20.24, 'humidity': 43.91, 'pressure': 40.35, 'moisture': 31.95}\n"
     ]
    }
   ],
   "source": [
    "# Simulation loop\n",
    "from time import sleep\n",
    "from datetime import datetime, timedelta\n",
    "# Set the interval for messaging (4 hours)\n",
    "message_interval = timedelta(hours=4)\n",
    "next_message_time = datetime.now()\n",
    "PLANT_NAME = \"Eustoma russellianum\"  # Example plant name\n",
    "try:\n",
    "    while True:\n",
    "        # Simulate sensor data readings\n",
    "        data = simulate_sensor_data()\n",
    "        print(f\"Simulated Data: {data}\")\n",
    "\n",
    "        # Check if it's time to send a message\n",
    "        if datetime.now() >= next_message_time:\n",
    "            # Send plant status message to followers\n",
    "            send_plant_status_to_followers(data['temperature'], data['humidity'], data[\"moisture\"], data['moisture'], PLANT_NAME)\n",
    "            # Set the next message time to four hours from now\n",
    "            next_message_time = datetime.now() + message_interval\n",
    "\n",
    "        # Wait before simulating the next data reading\n",
    "        time.sleep(60)  # Adjust this to control how often data is simulated; 60 seconds is used here for demonstration\n",
    "\n",
    "except KeyboardInterrupt:\n",
    "    print(\"Simulation stopped.\")"
   ]
  },
  {
   "cell_type": "code",
   "execution_count": null,
   "id": "91f02e57",
   "metadata": {},
   "outputs": [
    {
     "name": "stdout",
     "output_type": "stream",
     "text": [
      "Collecting data and monitoring plant status...\n",
      "Monitoring stopped.\n"
     ]
    }
   ],
   "source": [
    "import serial\n",
    "import time\n",
    "from datetime import datetime, timedelta\n",
    "\n",
    "# Constants for the messaging interval\n",
    "MESSAGE_INTERVAL = timedelta(seconds=4)\n",
    "PLANT_NAME = \"Your Plant\"  # Replace with your plant's name\n",
    "next_message_time = datetime.now()\n",
    "\n",
    "# Serial port settings\n",
    "SERIAL_PORT = 'COM5'  # Update to your correct serial port\n",
    "BAUD_RATE = 9600  # Must match the Arduino's baud rate\n",
    "\n",
    "# Open the serial connection\n",
    "ser = serial.Serial(SERIAL_PORT, BAUD_RATE)\n",
    "time.sleep(2)  # Allow time for the connection to establish\n",
    "\n",
    "def parse_sensor_data(raw_data):\n",
    "    \"\"\"Parses sensor data from a formatted string.\"\"\"\n",
    "    sensor_data = {}\n",
    "    lines = raw_data.strip().split('\\n')  # Split by new lines\n",
    "    \n",
    "    try:\n",
    "        for line in lines:\n",
    "            if \"Temperature\" in line:\n",
    "                sensor_data['temperature'] = float(line.split(\":\")[1].strip().split()[0])\n",
    "            elif \"Humidity\" in line:\n",
    "                sensor_data['humidity'] = float(line.split(\":\")[1].strip().split()[0])\n",
    "            elif \"Pressure\" in line:\n",
    "                sensor_data['pressure'] = float(line.split(\":\")[1].strip().split()[0])\n",
    "            elif \"Soil Moisture (Analog)\" in line:\n",
    "                sensor_data['soil_moisture_analog'] = float(line.split(\":\")[1].strip().split()[0])\n",
    "            elif \"Soil Moisture (Digital)\" in line:\n",
    "                sensor_data['soil_moisture_digital'] = line.split(\":\")[1].strip()\n",
    "    except (IndexError, ValueError) as e:\n",
    "        print(f\"Error parsing line: {line}, Error: {e}\")\n",
    "    \n",
    "    return sensor_data\n",
    "\n",
    "\n",
    "print(\"Collecting data and monitoring plant status...\")\n",
    "\n",
    "try:\n",
    "    buffer = \"\"\n",
    "    while True:\n",
    "        # Read and decode a line from the serial connection\n",
    "        line = ser.readline().decode('utf-8').strip()\n",
    "        \n",
    "        if line == \"---------------------------\":\n",
    "            # Process the accumulated data when a full block is received\n",
    "            sensor_data = parse_sensor_data(buffer)\n",
    "            buffer = \"\"  # Clear the buffer for the next block\n",
    "            \n",
    "            if sensor_data:\n",
    "                #print(f\"Real Sensor Data: {sensor_data}\")\n",
    "                \n",
    "                # Check if it's time to send a message\n",
    "                if datetime.now() >= next_message_time:\n",
    "                    send_plant_status_to_followers(\n",
    "                        sensor_data.get('temperature'),\n",
    "                        sensor_data.get('humidity'),\n",
    "                        sensor_data.get('pressure'),\n",
    "                        sensor_data.get('soil_moisture_analog'),\n",
    "                        PLANT_NAME\n",
    "                    )\n",
    "                    # Set the next message time\n",
    "                    next_message_time = datetime.now() + MESSAGE_INTERVAL\n",
    "        else:\n",
    "            buffer += line + \"\\n\"  # Accumulate lines into the buffer\n",
    "\n",
    "        # Wait before reading the next line\n",
    "        time.sleep(0.1)\n",
    "\n",
    "except KeyboardInterrupt:\n",
    "    print(\"Monitoring stopped.\")\n",
    "\n",
    "finally:\n",
    "    ser.close()  # Always close the serial connection\n"
   ]
  }
 ],
 "metadata": {
  "colab": {
   "provenance": []
  },
  "kernelspec": {
   "display_name": "aiot",
   "language": "python",
   "name": "python3"
  },
  "language_info": {
   "codemirror_mode": {
    "name": "ipython",
    "version": 3
   },
   "file_extension": ".py",
   "mimetype": "text/x-python",
   "name": "python",
   "nbconvert_exporter": "python",
   "pygments_lexer": "ipython3",
   "version": "3.13.0"
  }
 },
 "nbformat": 4,
 "nbformat_minor": 5
}
