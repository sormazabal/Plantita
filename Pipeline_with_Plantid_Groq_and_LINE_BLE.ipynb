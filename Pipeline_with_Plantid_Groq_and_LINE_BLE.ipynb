{
 "cells": [
  {
   "cell_type": "markdown",
   "id": "4cc409fc7bea6c04",
   "metadata": {
    "collapsed": false,
    "id": "4cc409fc7bea6c04"
   },
   "source": [
    "# LINE Messaging API"
   ]
  },
  {
   "cell_type": "markdown",
   "id": "rzr1WEdHkFh-",
   "metadata": {
    "id": "rzr1WEdHkFh-"
   },
   "source": [
    "# Global vars"
   ]
  },
  {
   "cell_type": "code",
   "execution_count": 3,
   "id": "Wq9XjLyPjwDM",
   "metadata": {
    "id": "Wq9XjLyPjwDM"
   },
   "outputs": [],
   "source": [
    "PLANT_NAME = \"DEFAULT NAME\" # we need to find a way to keep this in the memory.\n",
    "#Since the code is always running and only sends messages at some intervals, it shouldn't be that hard to do"
   ]
  },
  {
   "cell_type": "markdown",
   "id": "a85d7c8e26260e8a",
   "metadata": {
    "collapsed": false,
    "id": "a85d7c8e26260e8a"
   },
   "source": [
    "## Broadcast Message"
   ]
  },
  {
   "cell_type": "code",
   "execution_count": 4,
   "id": "37b2b4cd2a0c5a1c",
   "metadata": {
    "ExecuteTime": {
     "end_time": "2024-11-01T06:30:28.410867Z",
     "start_time": "2024-11-01T06:30:28.404473Z"
    },
    "id": "37b2b4cd2a0c5a1c"
   },
   "outputs": [],
   "source": [
    "import requests\n",
    "import os\n",
    "from typing import Dict, Any, Optional, List\n",
    "\n",
    "class PlantitaBot:\n",
    "    def __init__(self, channel_access_token: str):\n",
    "        \"\"\"Initialize the Plantita LINE bot\n",
    "\n",
    "        Args:\n",
    "            channel_access_token (str): Your LINE channel access token\n",
    "        \"\"\"\n",
    "        self.channel_access_token = channel_access_token\n",
    "        self.headers = {\n",
    "            'Authorization': f'Bearer {channel_access_token}',\n",
    "            'Content-Type': 'application/json'\n",
    "        }\n",
    "        self.base_url = 'https://api.line.me/v2/bot'\n",
    "\n",
    "    def get_followers(self) -> List[str]:\n",
    "        \"\"\"Get list of user IDs who are friends with your LINE Official Account\n",
    "\n",
    "        Returns:\n",
    "            List[str]: List of user IDs\n",
    "        \"\"\"\n",
    "        user_ids = []\n",
    "        next_cursor = None\n",
    "\n",
    "        while True:\n",
    "            endpoint = f'{self.base_url}/followers/ids'\n",
    "            if next_cursor:\n",
    "                endpoint += f'?start={next_cursor}'\n",
    "\n",
    "            response = requests.get(endpoint, headers=self.headers)\n",
    "            data = response.json()\n",
    "\n",
    "            if 'userIds' in data:\n",
    "                user_ids.extend(data['userIds'])\n",
    "\n",
    "            if 'next' not in data:\n",
    "                break\n",
    "\n",
    "            next_cursor = data['next']\n",
    "\n",
    "        return user_ids\n",
    "\n",
    "    def broadcast_message(self, message: str) -> Dict[str, Any]:\n",
    "        \"\"\"Broadcast a message to all friends of your LINE Official Account\n",
    "\n",
    "        Args:\n",
    "            message (str): The message to broadcast\n",
    "\n",
    "        Returns:\n",
    "            Dict[str, Any]: Response from the LINE API\n",
    "        \"\"\"\n",
    "        endpoint = f'{self.base_url}/message/broadcast'\n",
    "\n",
    "        data = {\n",
    "            'messages': [{\n",
    "                'type': 'text',\n",
    "                'text': message\n",
    "            }]\n",
    "        }\n",
    "\n",
    "        response = requests.post(endpoint, headers=self.headers, json=data)\n",
    "        return response.json()\n",
    "\n",
    "\n",
    "\n",
    "\n",
    "    def broadcast_plant_status(self,\n",
    "                               temperature: float,\n",
    "                               humidity: float,\n",
    "                               light_level: float,\n",
    "                               status: str = \"normal\") -> Dict[str, Any]:\n",
    "        \"\"\"Broadcast plant status to all friends\n",
    "\n",
    "        Args:\n",
    "            temperature (float): Current temperature reading\n",
    "            humidity (float): Current humidity reading\n",
    "            light_level (float): Current light level reading\n",
    "            status (str): Overall status of the plant (\"normal\", \"warning\", \"critical\")\n",
    "\n",
    "        Returns:\n",
    "            Dict[str, Any]: Response from the LINE API\n",
    "        \"\"\"\n",
    "        message = (\n",
    "            f\"🌿 Plantita Status Update 🌿\\n\\n\"\n",
    "            f\"Temperature: {temperature}°C\\n\"\n",
    "            f\"Humidity: {humidity}%\\n\"\n",
    "            f\"Light Level: {light_level}%\\n\\n\"\n",
    "            f\"Status: {status.upper()}\"\n",
    "        )\n",
    "\n",
    "        if status.lower() != \"normal\":\n",
    "            message += \"\\n\\n⚠️ Action needed! Please check your plant.\"\n",
    "\n",
    "        return self.broadcast_message(message)\n",
    "\n",
    "    def send_message(self, user_id: str, message: str) -> Dict[str, Any]:\n",
    "        \"\"\"Send a message to a specific user\n",
    "\n",
    "        Args:\n",
    "            user_id (str): The LINE user ID to send the message to\n",
    "            message (str): The message to send\n",
    "\n",
    "        Returns:\n",
    "            Dict[str, Any]: Response from the LINE API\n",
    "        \"\"\"\n",
    "        endpoint = f'{self.base_url}/message/push'\n",
    "\n",
    "        data = {\n",
    "            'to': user_id,\n",
    "            'messages': [{\n",
    "                'type': 'text',\n",
    "                'text': message\n",
    "            }]\n",
    "        }\n",
    "\n",
    "        response = requests.post(endpoint, headers=self.headers, json=data)\n",
    "        return response.json()\n",
    "\n",
    "    def send_plant_status(self,\n",
    "                          user_id: str,\n",
    "                          temperature: float,\n",
    "                          humidity: float,\n",
    "                          light_level: float,\n",
    "                          status: str = \"normal\") -> Dict[str, Any]:\n",
    "        \"\"\"Send plant status to a specific user\n",
    "\n",
    "        Args:\n",
    "            user_id (str): The LINE user ID to send the message to\n",
    "            temperature (float): Current temperature reading\n",
    "            humidity (float): Current humidity reading\n",
    "            light_level (float): Current light level reading\n",
    "            status (str): Overall status of the plant (\"normal\", \"warning\", \"critical\")\n",
    "\n",
    "        Returns:\n",
    "            Dict[str, Any]: Response from the LINE API\n",
    "        \"\"\"\n",
    "        message = (\n",
    "            f\"🌿 Plantita Status Update 🌿\\n\\n\"\n",
    "            f\"Temperature: {temperature}°C\\n\"\n",
    "            f\"Humidity: {humidity}%\\n\"\n",
    "            f\"Light Level: {light_level}%\\n\\n\"\n",
    "            f\"Status: {status.upper()}\"\n",
    "        )\n",
    "\n",
    "        if status.lower() != \"normal\":\n",
    "            message += \"\\n\\n⚠️ Action needed! Please check your plant.\"\n",
    "\n",
    "        return self.send_message(user_id, message)"
   ]
  },
  {
   "cell_type": "markdown",
   "id": "c102652d3ce4d2d1",
   "metadata": {
    "collapsed": false,
    "id": "c102652d3ce4d2d1"
   },
   "source": [
    "## Example Usage of Broadcast"
   ]
  },
  {
   "cell_type": "markdown",
   "id": "27ad3cf1413cc705",
   "metadata": {
    "collapsed": false,
    "id": "27ad3cf1413cc705"
   },
   "source": [
    "## Example Usage of Direct Message\n",
    "**Still Not Working** Need to setup Webhook Server."
   ]
  },
  {
   "cell_type": "code",
   "execution_count": null,
   "id": "4517fbe22a47bbf8",
   "metadata": {
    "ExecuteTime": {
     "end_time": "2024-11-01T06:30:32.071805Z",
     "start_time": "2024-11-01T06:30:31.906428Z"
    },
    "colab": {
     "base_uri": "https://localhost:8080/"
    },
    "id": "4517fbe22a47bbf8",
    "outputId": "3b8132ad-4462-4bfe-b7a1-ca0d4874bc65"
   },
   "outputs": [
    {
     "data": {
      "text/plain": [
       "{'message': \"The property, 'to', in the request body is invalid (line: -, column: -)\"}"
      ]
     },
     "execution_count": 4,
     "metadata": {},
     "output_type": "execute_result"
    }
   ],
   "source": [
    "# Initialize the bot\n",
    "bot = PlantitaBot(\"HYIfkCHmidAfgMc2KcXBLUXzpNvsvJ/t5k8VwU2+ekWovndds7h/5h2Qq+SZkoYjNCPuLg0BHANjAnX81xjbfT7imjJ1s+gYZf6XU4ttM4kuFTkChGSHDZUVKzFpTgesDxTWmILCYw0vgPz/bse7TQdB04t89/1O/w1cDnyilFU=\")\n",
    "\n"
   ]
  },
  {
   "cell_type": "markdown",
   "id": "3f98efa59f92ce1e",
   "metadata": {
    "collapsed": false,
    "id": "3f98efa59f92ce1e"
   },
   "source": [
    "## GROQ Implementation"
   ]
  },
  {
   "cell_type": "markdown",
   "id": "8c560218d9c7ed5c",
   "metadata": {
    "collapsed": false,
    "id": "8c560218d9c7ed5c"
   },
   "source": [
    "# Install Dependency"
   ]
  },
  {
   "cell_type": "markdown",
   "id": "f17ed0a713882ee4",
   "metadata": {
    "collapsed": false,
    "id": "f17ed0a713882ee4"
   },
   "source": [
    "# Demonstration"
   ]
  },
  {
   "cell_type": "code",
   "execution_count": 5,
   "id": "6c90fb7248b58427",
   "metadata": {
    "ExecuteTime": {
     "end_time": "2024-10-31T09:25:38.372321Z",
     "start_time": "2024-10-31T09:25:37.662106Z"
    },
    "colab": {
     "base_uri": "https://localhost:8080/"
    },
    "id": "6c90fb7248b58427",
    "outputId": "d3e5db89-1400-4f48-a1e8-ce33c250e930"
   },
   "outputs": [
    {
     "name": "stdout",
     "output_type": "stream",
     "text": [
      "Sweetie, let's take a look at your Monstera Deliciosa's environment! It's doing okay, but we can make some adjustments to bring it to its full glory. Since it's a bit warm (27.5°C), I'd recommend keeping it a bit cooler, ideally between 20°C to 25°C. As for humidity, it's a bit low, but don't worry, just increase the humidity around it by 5-10% to get it to that 60-80% range. \n",
      "\n",
      "To avoid any potential risks, keep an eye out for pests like spider mites or mealybugs, especially if it gets hotter than expected. For now, give your plant some TLC and make sure it's getting the right amount of light – 50-80% is perfect!\n",
      "\n",
      "Action plan: Try to keep the temperature between 20-25°C and humidity at 60-80%. Monitor for pests and adjust the light level as needed.\n"
     ]
    }
   ],
   "source": [
    "import os\n",
    "\n",
    "from groq import Groq\n",
    "\n",
    "client = Groq(\n",
    "    api_key=\"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\",\n",
    ")\n",
    "\n",
    "chat_completion = client.chat.completions.create(\n",
    "    messages=[\n",
    "        {\n",
    "            \"role\": \"user\",\n",
    "            \"content\": '''You are Plantita, an expert plant care advisor with a warm, caring personality like a concerned aunt.\n",
    "Current readings for Monstera Deliciosa:\n",
    "        temperature=27.5,\n",
    "        humidity=55,\n",
    "        light_level=40,\n",
    "\n",
    "Ideal conditions for this plant:\n",
    "- Temperature: 20°C to 25°C\n",
    "- Humidity: 60% to 80%\n",
    "- Light Level: 50% to 80%\n",
    "\n",
    "Please analyze these conditions and provide:\n",
    "1. A caring, conversational assessment of the plant's current environment\n",
    "2. Specific recommendations for improvement if needed\n",
    "3. Any potential risks to the plant's health based on these conditions\n",
    "4. A simple action plan for the plant owner\n",
    "\n",
    "Keep your response friendly and encouraging, like a knowledgeable aunt giving advice about their beloved plants.\n",
    "Limit your response to fit a notification on a messaging app, focus only on what the user needed to do and keep it to three to 5 sentences''',\n",
    "        }\n",
    "    ],\n",
    "    model=\"llama3-8b-8192\",\n",
    ")\n",
    "\n",
    "print(chat_completion.choices[0].message.content)"
   ]
  },
  {
   "cell_type": "markdown",
   "id": "T-H0QMj-QT6E",
   "metadata": {
    "id": "T-H0QMj-QT6E"
   },
   "source": [
    "# Integrate sensor information with Groq"
   ]
  },
  {
   "cell_type": "markdown",
   "id": "SryATaquRdMa",
   "metadata": {
    "id": "SryATaquRdMa"
   },
   "source": [
    "# Simulate Arduino data on PC if we forgot to carry the Arduino"
   ]
  },
  {
   "cell_type": "markdown",
   "id": "CKAvzcyCRwqY",
   "metadata": {
    "id": "CKAvzcyCRwqY"
   },
   "source": [
    "# Actual arduino data"
   ]
  },
  {
   "cell_type": "code",
   "execution_count": null,
   "id": "ea98ce14",
   "metadata": {},
   "outputs": [
    {
     "name": "stdout",
     "output_type": "stream",
     "text": [
      "Collecting bleak\n",
      "  Downloading bleak-0.22.3-py3-none-any.whl.metadata (5.4 kB)\n",
      "Collecting winrt-Windows.Devices.Bluetooth<3,>=2 (from bleak)\n",
      "  Downloading winrt_Windows.Devices.Bluetooth-2.3.0-cp313-cp313-win_amd64.whl.metadata (1.6 kB)\n",
      "Collecting winrt-Windows.Devices.Bluetooth.Advertisement<3,>=2 (from bleak)\n",
      "  Downloading winrt_Windows.Devices.Bluetooth.Advertisement-2.3.0-cp313-cp313-win_amd64.whl.metadata (1.3 kB)\n",
      "Collecting winrt-Windows.Devices.Bluetooth.GenericAttributeProfile<3,>=2 (from bleak)\n",
      "  Downloading winrt_Windows.Devices.Bluetooth.GenericAttributeProfile-2.3.0-cp313-cp313-win_amd64.whl.metadata (1.5 kB)\n",
      "Collecting winrt-Windows.Devices.Enumeration<3,>=2 (from bleak)\n",
      "  Downloading winrt_Windows.Devices.Enumeration-2.3.0-cp313-cp313-win_amd64.whl.metadata (1.5 kB)\n",
      "Collecting winrt-Windows.Foundation<3,>=2 (from bleak)\n",
      "  Downloading winrt_Windows.Foundation-2.3.0-cp313-cp313-win_amd64.whl.metadata (1.0 kB)\n",
      "Collecting winrt-Windows.Foundation.Collections<3,>=2 (from bleak)\n",
      "  Downloading winrt_Windows.Foundation.Collections-2.3.0-cp313-cp313-win_amd64.whl.metadata (1.1 kB)\n",
      "Collecting winrt-Windows.Storage.Streams<3,>=2 (from bleak)\n",
      "  Downloading winrt_Windows.Storage.Streams-2.3.0-cp313-cp313-win_amd64.whl.metadata (1.3 kB)\n",
      "Collecting winrt-runtime<3,>=2 (from bleak)\n",
      "  Downloading winrt_runtime-2.3.0-cp313-cp313-win_amd64.whl.metadata (733 bytes)\n",
      "Downloading bleak-0.22.3-py3-none-any.whl (142 kB)\n",
      "Downloading winrt_runtime-2.3.0-cp313-cp313-win_amd64.whl (213 kB)\n",
      "Downloading winrt_Windows.Devices.Bluetooth-2.3.0-cp313-cp313-win_amd64.whl (104 kB)\n",
      "Downloading winrt_Windows.Devices.Bluetooth.Advertisement-2.3.0-cp313-cp313-win_amd64.whl (83 kB)\n",
      "Downloading winrt_Windows.Devices.Bluetooth.GenericAttributeProfile-2.3.0-cp313-cp313-win_amd64.whl (179 kB)\n",
      "Downloading winrt_Windows.Devices.Enumeration-2.3.0-cp313-cp313-win_amd64.whl (132 kB)\n",
      "Downloading winrt_Windows.Foundation-2.3.0-cp313-cp313-win_amd64.whl (100 kB)\n",
      "Downloading winrt_Windows.Foundation.Collections-2.3.0-cp313-cp313-win_amd64.whl (60 kB)\n",
      "Downloading winrt_Windows.Storage.Streams-2.3.0-cp313-cp313-win_amd64.whl (108 kB)\n",
      "Installing collected packages: winrt-runtime, winrt-Windows.Storage.Streams, winrt-Windows.Foundation.Collections, winrt-Windows.Foundation, winrt-Windows.Devices.Enumeration, winrt-Windows.Devices.Bluetooth.GenericAttributeProfile, winrt-Windows.Devices.Bluetooth.Advertisement, winrt-Windows.Devices.Bluetooth, bleak\n",
      "Successfully installed bleak-0.22.3 winrt-Windows.Devices.Bluetooth-2.3.0 winrt-Windows.Devices.Bluetooth.Advertisement-2.3.0 winrt-Windows.Devices.Bluetooth.GenericAttributeProfile-2.3.0 winrt-Windows.Devices.Enumeration-2.3.0 winrt-Windows.Foundation-2.3.0 winrt-Windows.Foundation.Collections-2.3.0 winrt-Windows.Storage.Streams-2.3.0 winrt-runtime-2.3.0\n"
     ]
    }
   ],
   "source": [
    "#!pip install bleak\n"
   ]
  },
  {
   "cell_type": "code",
   "execution_count": 8,
   "id": "62fa3df0",
   "metadata": {},
   "outputs": [
    {
     "ename": "RuntimeError",
     "evalue": "This event loop is already running",
     "output_type": "error",
     "traceback": [
      "\u001b[1;31m---------------------------------------------------------------------------\u001b[0m",
      "\u001b[1;31mRuntimeError\u001b[0m                              Traceback (most recent call last)",
      "Cell \u001b[1;32mIn[8], line 13\u001b[0m\n\u001b[0;32m     11\u001b[0m \u001b[38;5;66;03m# Run this to check available devices\u001b[39;00m\n\u001b[0;32m     12\u001b[0m loop \u001b[38;5;241m=\u001b[39m asyncio\u001b[38;5;241m.\u001b[39mget_event_loop()\n\u001b[1;32m---> 13\u001b[0m \u001b[43mloop\u001b[49m\u001b[38;5;241;43m.\u001b[39;49m\u001b[43mrun_until_complete\u001b[49m\u001b[43m(\u001b[49m\u001b[43mdebug_ble\u001b[49m\u001b[43m(\u001b[49m\u001b[43m)\u001b[49m\u001b[43m)\u001b[49m\n",
      "File \u001b[1;32mc:\\Users\\user\\.conda\\envs\\aiot\\Lib\\asyncio\\base_events.py:697\u001b[0m, in \u001b[0;36mBaseEventLoop.run_until_complete\u001b[1;34m(self, future)\u001b[0m\n\u001b[0;32m    686\u001b[0m \u001b[38;5;250m\u001b[39m\u001b[38;5;124;03m\"\"\"Run until the Future is done.\u001b[39;00m\n\u001b[0;32m    687\u001b[0m \n\u001b[0;32m    688\u001b[0m \u001b[38;5;124;03mIf the argument is a coroutine, it is wrapped in a Task.\u001b[39;00m\n\u001b[1;32m   (...)\u001b[0m\n\u001b[0;32m    694\u001b[0m \u001b[38;5;124;03mReturn the Future's result, or raise its exception.\u001b[39;00m\n\u001b[0;32m    695\u001b[0m \u001b[38;5;124;03m\"\"\"\u001b[39;00m\n\u001b[0;32m    696\u001b[0m \u001b[38;5;28mself\u001b[39m\u001b[38;5;241m.\u001b[39m_check_closed()\n\u001b[1;32m--> 697\u001b[0m \u001b[38;5;28;43mself\u001b[39;49m\u001b[38;5;241;43m.\u001b[39;49m\u001b[43m_check_running\u001b[49m\u001b[43m(\u001b[49m\u001b[43m)\u001b[49m\n\u001b[0;32m    699\u001b[0m new_task \u001b[38;5;241m=\u001b[39m \u001b[38;5;129;01mnot\u001b[39;00m futures\u001b[38;5;241m.\u001b[39misfuture(future)\n\u001b[0;32m    700\u001b[0m future \u001b[38;5;241m=\u001b[39m tasks\u001b[38;5;241m.\u001b[39mensure_future(future, loop\u001b[38;5;241m=\u001b[39m\u001b[38;5;28mself\u001b[39m)\n",
      "File \u001b[1;32mc:\\Users\\user\\.conda\\envs\\aiot\\Lib\\asyncio\\base_events.py:633\u001b[0m, in \u001b[0;36mBaseEventLoop._check_running\u001b[1;34m(self)\u001b[0m\n\u001b[0;32m    631\u001b[0m \u001b[38;5;28;01mdef\u001b[39;00m \u001b[38;5;21m_check_running\u001b[39m(\u001b[38;5;28mself\u001b[39m):\n\u001b[0;32m    632\u001b[0m     \u001b[38;5;28;01mif\u001b[39;00m \u001b[38;5;28mself\u001b[39m\u001b[38;5;241m.\u001b[39mis_running():\n\u001b[1;32m--> 633\u001b[0m         \u001b[38;5;28;01mraise\u001b[39;00m \u001b[38;5;167;01mRuntimeError\u001b[39;00m(\u001b[38;5;124m'\u001b[39m\u001b[38;5;124mThis event loop is already running\u001b[39m\u001b[38;5;124m'\u001b[39m)\n\u001b[0;32m    634\u001b[0m     \u001b[38;5;28;01mif\u001b[39;00m events\u001b[38;5;241m.\u001b[39m_get_running_loop() \u001b[38;5;129;01mis\u001b[39;00m \u001b[38;5;129;01mnot\u001b[39;00m \u001b[38;5;28;01mNone\u001b[39;00m:\n\u001b[0;32m    635\u001b[0m         \u001b[38;5;28;01mraise\u001b[39;00m \u001b[38;5;167;01mRuntimeError\u001b[39;00m(\n\u001b[0;32m    636\u001b[0m             \u001b[38;5;124m'\u001b[39m\u001b[38;5;124mCannot run the event loop while another loop is running\u001b[39m\u001b[38;5;124m'\u001b[39m)\n",
      "\u001b[1;31mRuntimeError\u001b[0m: This event loop is already running"
     ]
    }
   ],
   "source": [
    "from bleak import discover\n",
    "from bleak import BleakClient\n",
    "import asyncio\n",
    "\n",
    "async def debug_ble():\n",
    "    devices = await discover()\n",
    "    print(\"Found devices:\")\n",
    "    for device in devices:\n",
    "        print(device)\n",
    "\n",
    "# Run this to check available devices\n",
    "loop = asyncio.get_event_loop()\n",
    "loop.run_until_complete(debug_ble())\n"
   ]
  },
  {
   "cell_type": "code",
   "execution_count": null,
   "id": "ab7fd067",
   "metadata": {},
   "outputs": [
    {
     "name": "stderr",
     "output_type": "stream",
     "text": [
      "C:\\Users\\user\\AppData\\Local\\Temp\\ipykernel_552\\2914232223.py:24: FutureWarning: This method will be removed future version, pass the callback to the BleakClient constructor instead.\n",
      "  client.set_disconnected_callback(handle_disconnection)\n"
     ]
    },
    {
     "name": "stdout",
     "output_type": "stream",
     "text": [
      "Connected to device.\n",
      "Temperature: 24.61 °C\n",
      "Humidity: 53.58 %\n",
      "Pressure: 102.16 hPa\n",
      "Soil Moisture: 99.00 %\n",
      "----------------------------\n",
      "Temperature: 24.61 °C\n",
      "Humidity: 53.60 %\n",
      "Pressure: 102.16 hPa\n",
      "Soil Moisture: 99.00 %\n",
      "----------------------------\n",
      "Temperature: 24.61 °C\n",
      "Humidity: 53.58 %\n",
      "Pressure: 102.16 hPa\n",
      "Soil Moisture: 99.00 %\n",
      "----------------------------\n",
      "Temperature: 24.60 °C\n",
      "Humidity: 53.51 %\n",
      "Pressure: 102.16 hPa\n",
      "Soil Moisture: 99.00 %\n",
      "----------------------------\n"
     ]
    },
    {
     "ename": "KeyboardInterrupt",
     "evalue": "",
     "output_type": "error",
     "traceback": [
      "\u001b[1;31m---------------------------------------------------------------------------\u001b[0m",
      "\u001b[1;31mKeyboardInterrupt\u001b[0m                         Traceback (most recent call last)",
      "Cell \u001b[1;32mIn[15], line 68\u001b[0m\n\u001b[0;32m     66\u001b[0m \u001b[38;5;66;03m# Use the event loop\u001b[39;00m\n\u001b[0;32m     67\u001b[0m loop \u001b[38;5;241m=\u001b[39m asyncio\u001b[38;5;241m.\u001b[39mget_event_loop()\n\u001b[1;32m---> 68\u001b[0m \u001b[43mloop\u001b[49m\u001b[38;5;241;43m.\u001b[39;49m\u001b[43mrun_until_complete\u001b[49m\u001b[43m(\u001b[49m\u001b[43mmain\u001b[49m\u001b[43m(\u001b[49m\u001b[43m)\u001b[49m\u001b[43m)\u001b[49m\n",
      "File \u001b[1;32mc:\\Users\\user\\.conda\\envs\\aiot\\Lib\\site-packages\\nest_asyncio.py:92\u001b[0m, in \u001b[0;36m_patch_loop.<locals>.run_until_complete\u001b[1;34m(self, future)\u001b[0m\n\u001b[0;32m     90\u001b[0m     f\u001b[38;5;241m.\u001b[39m_log_destroy_pending \u001b[38;5;241m=\u001b[39m \u001b[38;5;28;01mFalse\u001b[39;00m\n\u001b[0;32m     91\u001b[0m \u001b[38;5;28;01mwhile\u001b[39;00m \u001b[38;5;129;01mnot\u001b[39;00m f\u001b[38;5;241m.\u001b[39mdone():\n\u001b[1;32m---> 92\u001b[0m     \u001b[38;5;28;43mself\u001b[39;49m\u001b[38;5;241;43m.\u001b[39;49m\u001b[43m_run_once\u001b[49m\u001b[43m(\u001b[49m\u001b[43m)\u001b[49m\n\u001b[0;32m     93\u001b[0m     \u001b[38;5;28;01mif\u001b[39;00m \u001b[38;5;28mself\u001b[39m\u001b[38;5;241m.\u001b[39m_stopping:\n\u001b[0;32m     94\u001b[0m         \u001b[38;5;28;01mbreak\u001b[39;00m\n",
      "File \u001b[1;32mc:\\Users\\user\\.conda\\envs\\aiot\\Lib\\site-packages\\nest_asyncio.py:115\u001b[0m, in \u001b[0;36m_patch_loop.<locals>._run_once\u001b[1;34m(self)\u001b[0m\n\u001b[0;32m    108\u001b[0m     heappop(scheduled)\n\u001b[0;32m    110\u001b[0m timeout \u001b[38;5;241m=\u001b[39m (\n\u001b[0;32m    111\u001b[0m     \u001b[38;5;241m0\u001b[39m \u001b[38;5;28;01mif\u001b[39;00m ready \u001b[38;5;129;01mor\u001b[39;00m \u001b[38;5;28mself\u001b[39m\u001b[38;5;241m.\u001b[39m_stopping\n\u001b[0;32m    112\u001b[0m     \u001b[38;5;28;01melse\u001b[39;00m \u001b[38;5;28mmin\u001b[39m(\u001b[38;5;28mmax\u001b[39m(\n\u001b[0;32m    113\u001b[0m         scheduled[\u001b[38;5;241m0\u001b[39m]\u001b[38;5;241m.\u001b[39m_when \u001b[38;5;241m-\u001b[39m \u001b[38;5;28mself\u001b[39m\u001b[38;5;241m.\u001b[39mtime(), \u001b[38;5;241m0\u001b[39m), \u001b[38;5;241m86400\u001b[39m) \u001b[38;5;28;01mif\u001b[39;00m scheduled\n\u001b[0;32m    114\u001b[0m     \u001b[38;5;28;01melse\u001b[39;00m \u001b[38;5;28;01mNone\u001b[39;00m)\n\u001b[1;32m--> 115\u001b[0m event_list \u001b[38;5;241m=\u001b[39m \u001b[38;5;28;43mself\u001b[39;49m\u001b[38;5;241;43m.\u001b[39;49m\u001b[43m_selector\u001b[49m\u001b[38;5;241;43m.\u001b[39;49m\u001b[43mselect\u001b[49m\u001b[43m(\u001b[49m\u001b[43mtimeout\u001b[49m\u001b[43m)\u001b[49m\n\u001b[0;32m    116\u001b[0m \u001b[38;5;28mself\u001b[39m\u001b[38;5;241m.\u001b[39m_process_events(event_list)\n\u001b[0;32m    118\u001b[0m end_time \u001b[38;5;241m=\u001b[39m \u001b[38;5;28mself\u001b[39m\u001b[38;5;241m.\u001b[39mtime() \u001b[38;5;241m+\u001b[39m \u001b[38;5;28mself\u001b[39m\u001b[38;5;241m.\u001b[39m_clock_resolution\n",
      "File \u001b[1;32mc:\\Users\\user\\.conda\\envs\\aiot\\Lib\\selectors.py:314\u001b[0m, in \u001b[0;36mSelectSelector.select\u001b[1;34m(self, timeout)\u001b[0m\n\u001b[0;32m    312\u001b[0m ready \u001b[38;5;241m=\u001b[39m []\n\u001b[0;32m    313\u001b[0m \u001b[38;5;28;01mtry\u001b[39;00m:\n\u001b[1;32m--> 314\u001b[0m     r, w, _ \u001b[38;5;241m=\u001b[39m \u001b[38;5;28;43mself\u001b[39;49m\u001b[38;5;241;43m.\u001b[39;49m\u001b[43m_select\u001b[49m\u001b[43m(\u001b[49m\u001b[38;5;28;43mself\u001b[39;49m\u001b[38;5;241;43m.\u001b[39;49m\u001b[43m_readers\u001b[49m\u001b[43m,\u001b[49m\u001b[43m \u001b[49m\u001b[38;5;28;43mself\u001b[39;49m\u001b[38;5;241;43m.\u001b[39;49m\u001b[43m_writers\u001b[49m\u001b[43m,\u001b[49m\u001b[43m \u001b[49m\u001b[43m[\u001b[49m\u001b[43m]\u001b[49m\u001b[43m,\u001b[49m\u001b[43m \u001b[49m\u001b[43mtimeout\u001b[49m\u001b[43m)\u001b[49m\n\u001b[0;32m    315\u001b[0m \u001b[38;5;28;01mexcept\u001b[39;00m \u001b[38;5;167;01mInterruptedError\u001b[39;00m:\n\u001b[0;32m    316\u001b[0m     \u001b[38;5;28;01mreturn\u001b[39;00m ready\n",
      "File \u001b[1;32mc:\\Users\\user\\.conda\\envs\\aiot\\Lib\\selectors.py:305\u001b[0m, in \u001b[0;36mSelectSelector._select\u001b[1;34m(self, r, w, _, timeout)\u001b[0m\n\u001b[0;32m    304\u001b[0m \u001b[38;5;28;01mdef\u001b[39;00m \u001b[38;5;21m_select\u001b[39m(\u001b[38;5;28mself\u001b[39m, r, w, _, timeout\u001b[38;5;241m=\u001b[39m\u001b[38;5;28;01mNone\u001b[39;00m):\n\u001b[1;32m--> 305\u001b[0m     r, w, x \u001b[38;5;241m=\u001b[39m \u001b[43mselect\u001b[49m\u001b[38;5;241;43m.\u001b[39;49m\u001b[43mselect\u001b[49m\u001b[43m(\u001b[49m\u001b[43mr\u001b[49m\u001b[43m,\u001b[49m\u001b[43m \u001b[49m\u001b[43mw\u001b[49m\u001b[43m,\u001b[49m\u001b[43m \u001b[49m\u001b[43mw\u001b[49m\u001b[43m,\u001b[49m\u001b[43m \u001b[49m\u001b[43mtimeout\u001b[49m\u001b[43m)\u001b[49m\n\u001b[0;32m    306\u001b[0m     \u001b[38;5;28;01mreturn\u001b[39;00m r, w \u001b[38;5;241m+\u001b[39m x, []\n",
      "\u001b[1;31mKeyboardInterrupt\u001b[0m: "
     ]
    },
    {
     "name": "stdout",
     "output_type": "stream",
     "text": [
      "Temperature: 24.59 °C\n",
      "Humidity: 53.52 %\n",
      "Pressure: 102.16 hPa\n",
      "Soil Moisture: 99.00 %\n",
      "----------------------------\n",
      "Temperature: 24.59 °C\n",
      "Humidity: 53.54 %\n",
      "Pressure: 102.16 hPa\n",
      "Soil Moisture: 99.00 %\n",
      "----------------------------\n"
     ]
    }
   ],
   "source": [
    "import asyncio\n",
    "from bleak import BleakClient\n",
    "import nest_asyncio\n",
    "\n",
    "# Apply nested asyncio compatibility for Jupyter or similar environments\n",
    "nest_asyncio.apply()\n",
    "\n",
    "DEVICE_ADDRESS = \"19:9F:19:C0:C2:42\"  # Replace with your device's address\n",
    "\n",
    "# UUIDs for the characteristics\n",
    "TEMPERATURE_UUID = \"2A6E\"\n",
    "HUMIDITY_UUID = \"2A6F\"\n",
    "PRESSURE_UUID = \"2A6D\"\n",
    "SOIL_MOISTURE_UUID = \"2A70\"\n",
    "\n",
    "# Callback for disconnection\n",
    "def handle_disconnection(client):\n",
    "    print(\"Disconnected from central.\")\n",
    "\n",
    "async def main():\n",
    "    client = BleakClient(DEVICE_ADDRESS, timeout=30.0)\n",
    "\n",
    "    # Assign the disconnection callback\n",
    "    client.set_disconnected_callback(handle_disconnection)\n",
    "\n",
    "    try:\n",
    "        await client.connect()\n",
    "        if not client.is_connected:\n",
    "            print(\"Failed to connect to device.\")\n",
    "            return\n",
    "\n",
    "        print(\"Connected to device.\")\n",
    "        while True:\n",
    "            try:\n",
    "                # Read characteristic values\n",
    "                temperature = await client.read_gatt_char(TEMPERATURE_UUID)\n",
    "                humidity = await client.read_gatt_char(HUMIDITY_UUID)\n",
    "                pressure = await client.read_gatt_char(PRESSURE_UUID)\n",
    "                soil_moisture = await client.read_gatt_char(SOIL_MOISTURE_UUID)\n",
    "\n",
    "                # Decode data (assuming IEEE 754 single-precision float, little-endian)\n",
    "                import struct\n",
    "                temperature = struct.unpack('<f', temperature)[0]\n",
    "                humidity = struct.unpack('<f', humidity)[0]\n",
    "                pressure = struct.unpack('<f', pressure)[0]\n",
    "                soil_moisture = struct.unpack('<f', soil_moisture)[0]\n",
    "\n",
    "                # Print the decoded values\n",
    "                print(f\"Temperature: {temperature:.2f} °C\")\n",
    "                print(f\"Humidity: {humidity:.2f} %\")\n",
    "                print(f\"Pressure: {pressure:.2f} hPa\")\n",
    "                print(f\"Soil Moisture: {soil_moisture:.2f} %\")\n",
    "                print(\"----------------------------\")\n",
    "\n",
    "                await asyncio.sleep(1)\n",
    "            except KeyboardInterrupt:\n",
    "                print(\"Stopped by user.\")\n",
    "                break\n",
    "    except Exception as e:\n",
    "        print(f\"An error occurred: {e}\")\n",
    "    finally:\n",
    "        if client.is_connected:\n",
    "            await client.disconnect()\n",
    "        print(\"Program ended.\")\n",
    "\n",
    "# Use the event loop\n",
    "loop = asyncio.get_event_loop()\n",
    "loop.run_until_complete(main())\n"
   ]
  }
 ],
 "metadata": {
  "colab": {
   "provenance": []
  },
  "kernelspec": {
   "display_name": "aiot",
   "language": "python",
   "name": "python3"
  },
  "language_info": {
   "codemirror_mode": {
    "name": "ipython",
    "version": 3
   },
   "file_extension": ".py",
   "mimetype": "text/x-python",
   "name": "python",
   "nbconvert_exporter": "python",
   "pygments_lexer": "ipython3",
   "version": "3.13.0"
  }
 },
 "nbformat": 4,
 "nbformat_minor": 5
}
