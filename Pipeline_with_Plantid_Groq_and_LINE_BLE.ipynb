{
 "cells": [
  {
   "cell_type": "markdown",
   "id": "4cc409fc7bea6c04",
   "metadata": {
    "collapsed": false,
    "id": "4cc409fc7bea6c04"
   },
   "source": [
    "# LINE Messaging API"
   ]
  },
  {
   "cell_type": "markdown",
   "id": "rzr1WEdHkFh-",
   "metadata": {
    "id": "rzr1WEdHkFh-"
   },
   "source": [
    "# Global vars"
   ]
  },
  {
   "cell_type": "code",
   "id": "Wq9XjLyPjwDM",
   "metadata": {
    "id": "Wq9XjLyPjwDM",
    "ExecuteTime": {
     "end_time": "2024-12-12T11:33:05.466664Z",
     "start_time": "2024-12-12T11:33:05.460989Z"
    }
   },
   "source": [
    "PLANT_NAME = \"DEFAULT NAME\" # we need to find a way to keep this in the memory.\n",
    "#Since the code is always running and only sends messages at some intervals, it shouldn't be that hard to do"
   ],
   "outputs": [],
   "execution_count": 16
  },
  {
   "cell_type": "markdown",
   "id": "a85d7c8e26260e8a",
   "metadata": {
    "collapsed": false,
    "id": "a85d7c8e26260e8a"
   },
   "source": [
    "## Broadcast Message"
   ]
  },
  {
   "cell_type": "code",
   "id": "37b2b4cd2a0c5a1c",
   "metadata": {
    "id": "37b2b4cd2a0c5a1c",
    "ExecuteTime": {
     "end_time": "2024-12-12T11:33:05.490458Z",
     "start_time": "2024-12-12T11:33:05.483351Z"
    }
   },
   "source": [
    "import requests\n",
    "import os\n",
    "from typing import Dict, Any, Optional, List\n",
    "\n",
    "class PlantitaBot:\n",
    "    def __init__(self, channel_access_token: str):\n",
    "        \"\"\"Initialize the Plantita LINE bot\n",
    "\n",
    "        Args:\n",
    "            channel_access_token (str): Your LINE channel access token\n",
    "        \"\"\"\n",
    "        self.channel_access_token = channel_access_token\n",
    "        self.headers = {\n",
    "            'Authorization': f'Bearer {channel_access_token}',\n",
    "            'Content-Type': 'application/json'\n",
    "        }\n",
    "        self.base_url = 'https://api.line.me/v2/bot'\n",
    "\n",
    "    def get_followers(self) -> List[str]:\n",
    "        \"\"\"Get list of user IDs who are friends with your LINE Official Account\n",
    "\n",
    "        Returns:\n",
    "            List[str]: List of user IDs\n",
    "        \"\"\"\n",
    "        user_ids = []\n",
    "        next_cursor = None\n",
    "\n",
    "        while True:\n",
    "            endpoint = f'{self.base_url}/followers/ids'\n",
    "            if next_cursor:\n",
    "                endpoint += f'?start={next_cursor}'\n",
    "\n",
    "            response = requests.get(endpoint, headers=self.headers)\n",
    "            data = response.json()\n",
    "\n",
    "            if 'userIds' in data:\n",
    "                user_ids.extend(data['userIds'])\n",
    "\n",
    "            if 'next' not in data:\n",
    "                break\n",
    "\n",
    "            next_cursor = data['next']\n",
    "\n",
    "        return user_ids\n",
    "\n",
    "    def broadcast_message(self, message: str) -> Dict[str, Any]:\n",
    "        \"\"\"Broadcast a message to all friends of your LINE Official Account\n",
    "\n",
    "        Args:\n",
    "            message (str): The message to broadcast\n",
    "\n",
    "        Returns:\n",
    "            Dict[str, Any]: Response from the LINE API\n",
    "        \"\"\"\n",
    "        endpoint = f'{self.base_url}/message/broadcast'\n",
    "\n",
    "        data = {\n",
    "            'messages': [{\n",
    "                'type': 'text',\n",
    "                'text': message\n",
    "            }]\n",
    "        }\n",
    "\n",
    "        response = requests.post(endpoint, headers=self.headers, json=data)\n",
    "        return response.json()\n",
    "\n",
    "\n",
    "\n",
    "\n",
    "    def broadcast_plant_status(self,\n",
    "                               temperature: float,\n",
    "                               humidity: float,\n",
    "                               light_level: float,\n",
    "                               status: str = \"normal\") -> Dict[str, Any]:\n",
    "        \"\"\"Broadcast plant status to all friends\n",
    "\n",
    "        Args:\n",
    "            temperature (float): Current temperature reading\n",
    "            humidity (float): Current humidity reading\n",
    "            light_level (float): Current light level reading\n",
    "            status (str): Overall status of the plant (\"normal\", \"warning\", \"critical\")\n",
    "\n",
    "        Returns:\n",
    "            Dict[str, Any]: Response from the LINE API\n",
    "        \"\"\"\n",
    "        message = (\n",
    "            f\"🌿 Plantita Status Update 🌿\\n\\n\"\n",
    "            f\"Temperature: {temperature}°C\\n\"\n",
    "            f\"Humidity: {humidity}%\\n\"\n",
    "            f\"Light Level: {light_level}%\\n\\n\"\n",
    "            f\"Status: {status.upper()}\"\n",
    "        )\n",
    "\n",
    "        if status.lower() != \"normal\":\n",
    "            message += \"\\n\\n⚠️ Action needed! Please check your plant.\"\n",
    "\n",
    "        return self.broadcast_message(message)\n",
    "\n",
    "    def send_message(self, user_id: str, message: str) -> Dict[str, Any]:\n",
    "        \"\"\"Send a message to a specific user\n",
    "\n",
    "        Args:\n",
    "            user_id (str): The LINE user ID to send the message to\n",
    "            message (str): The message to send\n",
    "\n",
    "        Returns:\n",
    "            Dict[str, Any]: Response from the LINE API\n",
    "        \"\"\"\n",
    "        endpoint = f'{self.base_url}/message/push'\n",
    "\n",
    "        data = {\n",
    "            'to': user_id,\n",
    "            'messages': [{\n",
    "                'type': 'text',\n",
    "                'text': message\n",
    "            }]\n",
    "        }\n",
    "\n",
    "        response = requests.post(endpoint, headers=self.headers, json=data)\n",
    "        return response.json()\n",
    "\n",
    "    def send_plant_status(self,\n",
    "                          user_id: str,\n",
    "                          temperature: float,\n",
    "                          humidity: float,\n",
    "                          light_level: float,\n",
    "                          status: str = \"normal\") -> Dict[str, Any]:\n",
    "        \"\"\"Send plant status to a specific user\n",
    "\n",
    "        Args:\n",
    "            user_id (str): The LINE user ID to send the message to\n",
    "            temperature (float): Current temperature reading\n",
    "            humidity (float): Current humidity reading\n",
    "            light_level (float): Current light level reading\n",
    "            status (str): Overall status of the plant (\"normal\", \"warning\", \"critical\")\n",
    "\n",
    "        Returns:\n",
    "            Dict[str, Any]: Response from the LINE API\n",
    "        \"\"\"\n",
    "        message = (\n",
    "            f\"🌿 Plantita Status Update 🌿\\n\\n\"\n",
    "            f\"Temperature: {temperature}°C\\n\"\n",
    "            f\"Humidity: {humidity}%\\n\"\n",
    "            f\"Light Level: {light_level}%\\n\\n\"\n",
    "            f\"Status: {status.upper()}\"\n",
    "        )\n",
    "\n",
    "        if status.lower() != \"normal\":\n",
    "            message += \"\\n\\n⚠️ Action needed! Please check your plant.\"\n",
    "\n",
    "        return self.send_message(user_id, message)"
   ],
   "outputs": [],
   "execution_count": 17
  },
  {
   "cell_type": "markdown",
   "id": "c102652d3ce4d2d1",
   "metadata": {
    "collapsed": false,
    "id": "c102652d3ce4d2d1"
   },
   "source": [
    "## Example Usage of Broadcast"
   ]
  },
  {
   "cell_type": "markdown",
   "id": "27ad3cf1413cc705",
   "metadata": {
    "collapsed": false,
    "id": "27ad3cf1413cc705"
   },
   "source": [
    "## Example Usage of Direct Message\n",
    "**Still Not Working** Need to setup Webhook Server."
   ]
  },
  {
   "cell_type": "code",
   "id": "4517fbe22a47bbf8",
   "metadata": {
    "colab": {
     "base_uri": "https://localhost:8080/"
    },
    "id": "4517fbe22a47bbf8",
    "outputId": "3b8132ad-4462-4bfe-b7a1-ca0d4874bc65",
    "ExecuteTime": {
     "end_time": "2024-12-12T11:33:05.500627Z",
     "start_time": "2024-12-12T11:33:05.498698Z"
    }
   },
   "source": [
    "# Initialize the bot\n",
    "bot = PlantitaBot(\"HYIfkCHmidAfgMc2KcXBLUXzpNvsvJ/t5k8VwU2+ekWovndds7h/5h2Qq+SZkoYjNCPuLg0BHANjAnX81xjbfT7imjJ1s+gYZf6XU4ttM4kuFTkChGSHDZUVKzFpTgesDxTWmILCYw0vgPz/bse7TQdB04t89/1O/w1cDnyilFU=\")\n",
    "\n"
   ],
   "outputs": [],
   "execution_count": 18
  },
  {
   "cell_type": "markdown",
   "id": "3f98efa59f92ce1e",
   "metadata": {
    "collapsed": false,
    "id": "3f98efa59f92ce1e"
   },
   "source": [
    "## GROQ Implementation"
   ]
  },
  {
   "cell_type": "markdown",
   "id": "8c560218d9c7ed5c",
   "metadata": {
    "collapsed": false,
    "id": "8c560218d9c7ed5c"
   },
   "source": [
    "# Install Dependency"
   ]
  },
  {
   "cell_type": "markdown",
   "id": "f17ed0a713882ee4",
   "metadata": {
    "collapsed": false,
    "id": "f17ed0a713882ee4"
   },
   "source": [
    "# Demonstration"
   ]
  },
  {
   "cell_type": "code",
   "id": "6c90fb7248b58427",
   "metadata": {
    "colab": {
     "base_uri": "https://localhost:8080/"
    },
    "id": "6c90fb7248b58427",
    "outputId": "d3e5db89-1400-4f48-a1e8-ce33c250e930",
    "ExecuteTime": {
     "end_time": "2024-12-12T11:33:06.021726Z",
     "start_time": "2024-12-12T11:33:05.506348Z"
    }
   },
   "source": [
    "import os\n",
    "\n",
    "from groq import Groq\n",
    "\n",
    "client = Groq(\n",
    "    api_key=\"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\",\n",
    ")\n",
    "\n",
    "chat_completion = client.chat.completions.create(\n",
    "    messages=[\n",
    "        {\n",
    "            \"role\": \"user\",\n",
    "            \"content\": '''You are Plantita, an expert plant care advisor with a warm, caring personality like a concerned aunt.\n",
    "Current readings for Monstera Deliciosa:\n",
    "        temperature=27.5,\n",
    "        humidity=55,\n",
    "        light_level=40,\n",
    "\n",
    "Ideal conditions for this plant:\n",
    "- Temperature: 20°C to 25°C\n",
    "- Humidity: 60% to 80%\n",
    "- Light Level: 50% to 80%\n",
    "\n",
    "Please analyze these conditions and provide:\n",
    "1. A caring, conversational assessment of the plant's current environment\n",
    "2. Specific recommendations for improvement if needed\n",
    "3. Any potential risks to the plant's health based on these conditions\n",
    "4. A simple action plan for the plant owner\n",
    "\n",
    "Keep your response friendly and encouraging, like a knowledgeable aunt giving advice about their beloved plants.\n",
    "Limit your response to fit a notification on a messaging app, focus only on what the user needed to do and keep it to three to 5 sentences''',\n",
    "        }\n",
    "    ],\n",
    "    model=\"llama3-8b-8192\",\n",
    ")\n",
    "\n",
    "print(chat_completion.choices[0].message.content)"
   ],
   "outputs": [
    {
     "name": "stdout",
     "output_type": "stream",
     "text": [
      "Hey there, sweetie! I'm checking in on your beautiful Monstera Deliciosa, and I think I can offer some helpful advice.\n",
      "\n",
      "Temperature-wise, your plant is doing just fine at 27.5°C. It's a bit on the warmer side, but it can handle it. However, I do think it would thrive even more if it was around 22-23°C.\n",
      "\n",
      "Humidity-wise, your plant is a bit on the dry side at 55%. I think it would love it if you could aim for 60-80% humidity. You can try using a humidifier or placing it on a tray filled with water and pebbles.\n",
      "\n",
      "Light-wise, your plant is getting some great light at 40%, but I think it would really flourish if it could get 50-80% light. You can try moving it to a spot that gets a bit more direct light, but not too much direct sunlight.\n",
      "\n",
      "Some potential risks to watch out for are fungal diseases and pests, which can be more common in dry environments. But don't worry, just keep an eye out for any changes and take action if needed.\n",
      "\n",
      "Here's a simple action plan for you:\n",
      "\n",
      "* Check your plant's temperature and adjust it if needed.\n",
      "* Increase the humidity around your plant.\n",
      "* Move your plant to a spot with a bit more light.\n",
      "* Keep an eye out for any changes or issues and take action if needed.\n",
      "\n",
      "I hope this helps, sweetie! Take care of your beautiful plant, and it'll take care of you.\n"
     ]
    }
   ],
   "execution_count": 19
  },
  {
   "cell_type": "markdown",
   "id": "T-H0QMj-QT6E",
   "metadata": {
    "id": "T-H0QMj-QT6E"
   },
   "source": [
    "# Integrate sensor information with Groq"
   ]
  },
  {
   "cell_type": "markdown",
   "id": "SryATaquRdMa",
   "metadata": {
    "id": "SryATaquRdMa"
   },
   "source": [
    "# Simulate Arduino data on PC if we forgot to carry the Arduino"
   ]
  },
  {
   "cell_type": "markdown",
   "id": "CKAvzcyCRwqY",
   "metadata": {
    "id": "CKAvzcyCRwqY"
   },
   "source": [
    "# Actual arduino data"
   ]
  },
  {
   "cell_type": "code",
   "id": "ea98ce14",
   "metadata": {
    "ExecuteTime": {
     "end_time": "2024-12-12T11:33:06.043045Z",
     "start_time": "2024-12-12T11:33:06.035451Z"
    }
   },
   "source": [
    "#!pip install bleak\n"
   ],
   "outputs": [],
   "execution_count": 20
  },
  {
   "cell_type": "code",
   "id": "ab7fd067",
   "metadata": {
    "ExecuteTime": {
     "end_time": "2024-12-12T11:33:06.081077Z",
     "start_time": "2024-12-12T11:33:06.078398Z"
    }
   },
   "source": [
    "\n",
    "# FOR TESTING PURPOSES\n",
    "import asyncio\n",
    "from bleak import BleakClient\n",
    "import nest_asyncio\n",
    "\n",
    "# # Apply nested asyncio compatibility for Jupyter or similar environments\n",
    "# nest_asyncio.apply()\n",
    "\n",
    "# DEVICE_ADDRESS = \"19:9F:19:C0:C2:42\"  # Replace with your device's address\n",
    "\n",
    "# # UUIDs for the characteristics\n",
    "# TEMPERATURE_UUID = \"2A6E\"\n",
    "# HUMIDITY_UUID = \"2A6F\"\n",
    "# PRESSURE_UUID = \"2A6D\"\n",
    "# SOIL_MOISTURE_UUID = \"2A70\"\n",
    "\n",
    "# # Callback for disconnection\n",
    "# def handle_disconnection(client):\n",
    "#     print(\"Disconnected from central.\")\n",
    "\n",
    "# async def main():\n",
    "#     client = BleakClient(DEVICE_ADDRESS, timeout=30.0)\n",
    "\n",
    "#     # Assign the disconnection callback\n",
    "#     client.set_disconnected_callback(handle_disconnection)\n",
    "\n",
    "#     try:\n",
    "#         await client.connect()\n",
    "#         if not client.is_connected:\n",
    "#             print(\"Failed to connect to device.\")\n",
    "#             return\n",
    "\n",
    "#         print(\"Connected to device.\")\n",
    "#         while True:\n",
    "#             try:\n",
    "#                 # Read characteristic values\n",
    "#                 temperature = await client.read_gatt_char(TEMPERATURE_UUID)\n",
    "#                 humidity = await client.read_gatt_char(HUMIDITY_UUID)\n",
    "#                 pressure = await client.read_gatt_char(PRESSURE_UUID)\n",
    "#                 soil_moisture = await client.read_gatt_char(SOIL_MOISTURE_UUID)\n",
    "\n",
    "#                 # Decode data (assuming IEEE 754 single-precision float, little-endian)\n",
    "#                 import struct\n",
    "#                 temperature = struct.unpack('<f', temperature)[0]\n",
    "#                 humidity = struct.unpack('<f', humidity)[0]\n",
    "#                 pressure = struct.unpack('<f', pressure)[0]\n",
    "#                 soil_moisture = struct.unpack('<f', soil_moisture)[0]\n",
    "\n",
    "#                 # Print the decoded values\n",
    "#                 print(f\"Temperature: {temperature:.2f} °C\")\n",
    "#                 print(f\"Humidity: {humidity:.2f} %\")\n",
    "#                 print(f\"Soil Moisture: {soil_moisture:.2f} %\")\n",
    "#                 print(\"----------------------------\")\n",
    "\n",
    "#                 await asyncio.sleep(1)\n",
    "#             except KeyboardInterrupt:\n",
    "#                 print(\"Stopped by user.\")\n",
    "#                 break\n",
    "#     except Exception as e:\n",
    "#         print(f\"An error occurred: {e}\")\n",
    "#     finally:\n",
    "#         if client.is_connected:\n",
    "#             await client.disconnect()\n",
    "#         print(\"Program ended.\")\n",
    "\n",
    "# # Use the event loop\n",
    "# loop = asyncio.get_event_loop()\n",
    "# loop.run_until_complete(main())\n"
   ],
   "outputs": [],
   "execution_count": 21
  },
  {
   "cell_type": "code",
   "id": "fcdeeaea",
   "metadata": {
    "ExecuteTime": {
     "end_time": "2024-12-12T11:33:06.104872Z",
     "start_time": "2024-12-12T11:33:06.099950Z"
    }
   },
   "source": [
    "import os\n",
    "from groq import Groq\n",
    "\n",
    "\n",
    "\n",
    "# Step 1: Generate the message from Groq\n",
    "def generate_plant_status_message(temperature, humidity, pressure, moisture, plant_name):\n",
    "    \"\"\"\n",
    "    Generates a plant care message using the Groq API.\n",
    "    \"\"\"\n",
    "    user_message = (\n",
    "        f\"You are Plantita, an expert plant care advisor.\\n\"\n",
    "        f\"Current readings for {plant_name}:\\n\"\n",
    "        f\"    temperature={temperature}°C,\\n\"\n",
    "        f\"    humidity={humidity}%,\\n\"\n",
    "        f\"    moisture={moisture}%,\\n\\n\"\n",
    "        \n",
    "        \"Ideal conditions:\\n\"\n",
    "        \"- Temperature: [Fill in with the values according to the {plant_name}]\\n\"\n",
    "        \"- Humidity: [Fill in with the values according to the {plant_name}]\\n\"\n",
    "        \"- Moisture: [Fill in with the values according to the {plant_name}]\\n\\n\"\n",
    "        \"Provide a friendly message for the user.\"\n",
    "        \"If Temperature, Humidity, or Moisture are not within the ideal range, include '|<ALERT>|\\n' in the message.\"\n",
    "    )\n",
    "\n",
    "    response = client.chat.completions.create(\n",
    "        messages=[{\"role\": \"user\", \"content\": user_message}],\n",
    "        model=\"llama3-8b-8192\"\n",
    "    )\n",
    "\n",
    "    return response.choices[0].message.content\n",
    "\n",
    "\n",
    "# Step 2: Broadcast or send the generated message\n",
    "# This is the wrapper function that combines the two steps\n",
    "def send_plant_status_to_followers(temperature, humidity, pressure, moisture, plant_name):\n",
    "    client = Groq(\n",
    "    api_key=\"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\",\n",
    "    )\n",
    "\n",
    "    bot = PlantitaBot(\"HYIfkCHmidAfgMc2KcXBLUXzpNvsvJ/t5k8VwU2+ekWovndds7h/5h2Qq+SZkoYjNCPuLg0BHANjAnX81xjbfT7imjJ1s+gYZf6XU4ttM4kuFTkChGSHDZUVKzFpTgesDxTWmILCYw0vgPz/bse7TQdB04t89/1O/w1cDnyilFU=\")\n",
    "\n",
    "    message = generate_plant_status_message(temperature, humidity, pressure, moisture,  plant_name)\n",
    "    if \"|<ALERT>|\" in message:\n",
    "        # Delete the alert tag and send the message\n",
    "        message = message.replace(\"|<ALERT>|\", \"\")\n",
    "        bot.broadcast_message(message)\n",
    "    else:\n",
    "        # Don't send the message if everything is normal\n",
    "        pass\n",
    "\n",
    "\n"
   ],
   "outputs": [],
   "execution_count": 22
  },
  {
   "cell_type": "code",
   "id": "e2487e7e",
   "metadata": {
    "ExecuteTime": {
     "end_time": "2024-12-12T11:33:08.124708Z",
     "start_time": "2024-12-12T11:33:06.116247Z"
    }
   },
   "source": [
    "import asyncio\n",
    "import serial\n",
    "import time\n",
    "import struct\n",
    "from datetime import datetime, timedelta\n",
    "from bleak import BleakClient\n",
    "import nest_asyncio\n",
    "\n",
    "# Apply nested asyncio compatibility for environments like Jupyter\n",
    "nest_asyncio.apply()\n",
    "\n",
    "# Constants for the messaging interval\n",
    "MESSAGE_INTERVAL = timedelta(minutes=1)\n",
    "PLANT_NAME = \"Eustoma russellianum\"  # Example plant name\n",
    "next_message_time = datetime.now()\n",
    "\n",
    "\n",
    "# BLE settings\n",
    "DEVICE_ADDRESS = \"19:9F:19:C0:C2:42\"  # Replace with your BLE device address\n",
    "TEMPERATURE_UUID = \"2A6E\"\n",
    "HUMIDITY_UUID = \"2A6F\"\n",
    "PRESSURE_UUID = \"2A6D\"\n",
    "SOIL_MOISTURE_UUID = \"2A70\"\n",
    "\n",
    "time.sleep(2)  # Allow time for the connection to establish\n"
   ],
   "outputs": [],
   "execution_count": 23
  },
  {
   "cell_type": "code",
   "id": "cc02a490",
   "metadata": {
    "ExecuteTime": {
     "end_time": "2024-12-12T11:33:08.136763Z",
     "start_time": "2024-12-12T11:33:08.132402Z"
    }
   },
   "source": [
    "\n",
    "async def read_ble_sensor_data(client):\n",
    "    \"\"\"Reads sensor data from the BLE device.\"\"\"\n",
    "    try:\n",
    "        temperature = await client.read_gatt_char(TEMPERATURE_UUID)\n",
    "        humidity = await client.read_gatt_char(HUMIDITY_UUID)\n",
    "        pressure = await client.read_gatt_char(PRESSURE_UUID)\n",
    "        soil_moisture = await client.read_gatt_char(SOIL_MOISTURE_UUID)\n",
    "\n",
    "        # Decode data using struct (assuming IEEE 754 single-precision float, little-endian)\n",
    "        temperature = struct.unpack('<f', temperature)[0]\n",
    "        humidity = struct.unpack('<f', humidity)[0]\n",
    "        pressure = struct.unpack('<f', pressure)[0]\n",
    "        soil_moisture = struct.unpack('<f', soil_moisture)[0]\n",
    "\n",
    "        return {\n",
    "            \"temperature\": temperature,\n",
    "            \"humidity\": humidity,\n",
    "            \"pressure\": pressure,\n",
    "            \"soil_moisture\": soil_moisture\n",
    "        }\n",
    "    except Exception as e:\n",
    "        print(f\"Error reading BLE data: {e}\")\n",
    "        return None\n",
    "\n",
    "def parse_sensor_data(data):\n",
    "    \"\"\"Parses the serial sensor data block.\"\"\"\n",
    "    try:\n",
    "        lines = data.strip().split('\\n')\n",
    "        sensor_data = {}\n",
    "        for line in lines:\n",
    "            key, value = line.split(':')\n",
    "            sensor_data[key.strip()] = float(value.strip())\n",
    "        return sensor_data\n",
    "    except Exception as e:\n",
    "        print(f\"Error parsing sensor data: {e}\")\n",
    "        return None\n",
    "\n"
   ],
   "outputs": [],
   "execution_count": 24
  },
  {
   "cell_type": "code",
   "id": "fcf7eb1f",
   "metadata": {
    "ExecuteTime": {
     "end_time": "2024-12-12T11:33:38.341133Z",
     "start_time": "2024-12-12T11:33:08.151936Z"
    }
   },
   "source": [
    "async def monitor_plant():\n",
    "    \"\"\"Main monitoring loop using BLE data.\"\"\"\n",
    "    print(\"Collecting data and monitoring plant status...\")\n",
    "    global next_message_time\n",
    "\n",
    "    async with BleakClient(DEVICE_ADDRESS, timeout=30.0) as client:\n",
    "        if not client.is_connected:\n",
    "            print(\"Failed to connect to BLE device.\")\n",
    "            return\n",
    "\n",
    "        print(\"Connected to BLE device.\")\n",
    "        try:\n",
    "            while True:\n",
    "                # Read BLE data\n",
    "                ble_data = await read_ble_sensor_data(client)\n",
    "                if ble_data:\n",
    "                    print(\"BLE Data Processed:\", ble_data)\n",
    "\n",
    "                    # Check if it's time to send a message\n",
    "                    if datetime.now() >= next_message_time:\n",
    "                        send_plant_status_to_followers(\n",
    "                            ble_data[\"temperature\"],\n",
    "                            ble_data[\"humidity\"],\n",
    "                            ble_data[\"pressure\"],\n",
    "                            ble_data[\"soil_moisture\"],\n",
    "                            PLANT_NAME\n",
    "                        )\n",
    "                        # Set the next message time\n",
    "                        next_message_time = datetime.now() + MESSAGE_INTERVAL\n",
    "\n",
    "                # Wait before the next iteration\n",
    "                await asyncio.sleep(1)\n",
    "\n",
    "        except KeyboardInterrupt:\n",
    "            print(\"Monitoring stopped.\")\n",
    "        finally:\n",
    "            print(\"Disconnected from BLE device.\")\n",
    "\n",
    "# Start the asyncio event loop\n",
    "loop = asyncio.get_event_loop()\n",
    "loop.run_until_complete(monitor_plant())"
   ],
   "outputs": [
    {
     "name": "stdout",
     "output_type": "stream",
     "text": [
      "Collecting data and monitoring plant status...\n"
     ]
    },
    {
     "ename": "BleakDeviceNotFoundError",
     "evalue": "Device with address 15944C71-777D-BEE8-9741-8A8D1D671386 was not found",
     "output_type": "error",
     "traceback": [
      "\u001B[0;31m---------------------------------------------------------------------------\u001B[0m",
      "\u001B[0;31mCancelledError\u001B[0m                            Traceback (most recent call last)",
      "File \u001B[0;32m/opt/miniconda3/lib/python3.12/site-packages/bleak/__init__.py:447\u001B[0m, in \u001B[0;36mBleakScanner.find_device_by_filter\u001B[0;34m(cls, filterfunc, timeout, **kwargs)\u001B[0m\n\u001B[1;32m    446\u001B[0m \u001B[38;5;28;01masync\u001B[39;00m \u001B[38;5;28;01mwith\u001B[39;00m async_timeout(timeout):\n\u001B[0;32m--> 447\u001B[0m     \u001B[38;5;28;01masync\u001B[39;00m \u001B[38;5;28;01mfor\u001B[39;00m bd, ad \u001B[38;5;129;01min\u001B[39;00m scanner\u001B[38;5;241m.\u001B[39madvertisement_data():\n\u001B[1;32m    448\u001B[0m         \u001B[38;5;28;01mif\u001B[39;00m filterfunc(bd, ad):\n",
      "File \u001B[0;32m/opt/miniconda3/lib/python3.12/site-packages/bleak/__init__.py:249\u001B[0m, in \u001B[0;36mBleakScanner.advertisement_data\u001B[0;34m(self)\u001B[0m\n\u001B[1;32m    248\u001B[0m     \u001B[38;5;28;01mwhile\u001B[39;00m \u001B[38;5;28;01mTrue\u001B[39;00m:\n\u001B[0;32m--> 249\u001B[0m         \u001B[38;5;28;01myield\u001B[39;00m \u001B[38;5;28;01mawait\u001B[39;00m devices\u001B[38;5;241m.\u001B[39mget()\n\u001B[1;32m    250\u001B[0m \u001B[38;5;28;01mfinally\u001B[39;00m:\n",
      "File \u001B[0;32m/opt/miniconda3/lib/python3.12/asyncio/queues.py:158\u001B[0m, in \u001B[0;36mQueue.get\u001B[0;34m(self)\u001B[0m\n\u001B[1;32m    157\u001B[0m \u001B[38;5;28;01mtry\u001B[39;00m:\n\u001B[0;32m--> 158\u001B[0m     \u001B[38;5;28;01mawait\u001B[39;00m getter\n\u001B[1;32m    159\u001B[0m \u001B[38;5;28;01mexcept\u001B[39;00m:\n",
      "File \u001B[0;32m/opt/miniconda3/lib/python3.12/asyncio/futures.py:287\u001B[0m, in \u001B[0;36mFuture.__await__\u001B[0;34m(self)\u001B[0m\n\u001B[1;32m    286\u001B[0m     \u001B[38;5;28mself\u001B[39m\u001B[38;5;241m.\u001B[39m_asyncio_future_blocking \u001B[38;5;241m=\u001B[39m \u001B[38;5;28;01mTrue\u001B[39;00m\n\u001B[0;32m--> 287\u001B[0m     \u001B[38;5;28;01myield\u001B[39;00m \u001B[38;5;28mself\u001B[39m  \u001B[38;5;66;03m# This tells Task to wait for completion.\u001B[39;00m\n\u001B[1;32m    288\u001B[0m \u001B[38;5;28;01mif\u001B[39;00m \u001B[38;5;129;01mnot\u001B[39;00m \u001B[38;5;28mself\u001B[39m\u001B[38;5;241m.\u001B[39mdone():\n",
      "File \u001B[0;32m/opt/miniconda3/lib/python3.12/asyncio/tasks.py:385\u001B[0m, in \u001B[0;36mTask.__wakeup\u001B[0;34m(self, future)\u001B[0m\n\u001B[1;32m    384\u001B[0m \u001B[38;5;28;01mtry\u001B[39;00m:\n\u001B[0;32m--> 385\u001B[0m     future\u001B[38;5;241m.\u001B[39mresult()\n\u001B[1;32m    386\u001B[0m \u001B[38;5;28;01mexcept\u001B[39;00m \u001B[38;5;167;01mBaseException\u001B[39;00m \u001B[38;5;28;01mas\u001B[39;00m exc:\n\u001B[1;32m    387\u001B[0m     \u001B[38;5;66;03m# This may also be a cancellation.\u001B[39;00m\n",
      "File \u001B[0;32m/opt/miniconda3/lib/python3.12/asyncio/futures.py:198\u001B[0m, in \u001B[0;36mFuture.result\u001B[0;34m(self)\u001B[0m\n\u001B[1;32m    197\u001B[0m     exc \u001B[38;5;241m=\u001B[39m \u001B[38;5;28mself\u001B[39m\u001B[38;5;241m.\u001B[39m_make_cancelled_error()\n\u001B[0;32m--> 198\u001B[0m     \u001B[38;5;28;01mraise\u001B[39;00m exc\n\u001B[1;32m    199\u001B[0m \u001B[38;5;28;01mif\u001B[39;00m \u001B[38;5;28mself\u001B[39m\u001B[38;5;241m.\u001B[39m_state \u001B[38;5;241m!=\u001B[39m _FINISHED:\n",
      "\u001B[0;31mCancelledError\u001B[0m: ",
      "\nDuring handling of the above exception, another exception occurred:\n",
      "\u001B[0;31mBleakDeviceNotFoundError\u001B[0m                  Traceback (most recent call last)",
      "Cell \u001B[0;32mIn[25], line 41\u001B[0m\n\u001B[1;32m     39\u001B[0m \u001B[38;5;66;03m# Start the asyncio event loop\u001B[39;00m\n\u001B[1;32m     40\u001B[0m loop \u001B[38;5;241m=\u001B[39m asyncio\u001B[38;5;241m.\u001B[39mget_event_loop()\n\u001B[0;32m---> 41\u001B[0m loop\u001B[38;5;241m.\u001B[39mrun_until_complete(monitor_plant())\n",
      "File \u001B[0;32m/opt/miniconda3/lib/python3.12/site-packages/nest_asyncio.py:98\u001B[0m, in \u001B[0;36m_patch_loop.<locals>.run_until_complete\u001B[0;34m(self, future)\u001B[0m\n\u001B[1;32m     95\u001B[0m \u001B[38;5;28;01mif\u001B[39;00m \u001B[38;5;129;01mnot\u001B[39;00m f\u001B[38;5;241m.\u001B[39mdone():\n\u001B[1;32m     96\u001B[0m     \u001B[38;5;28;01mraise\u001B[39;00m \u001B[38;5;167;01mRuntimeError\u001B[39;00m(\n\u001B[1;32m     97\u001B[0m         \u001B[38;5;124m'\u001B[39m\u001B[38;5;124mEvent loop stopped before Future completed.\u001B[39m\u001B[38;5;124m'\u001B[39m)\n\u001B[0;32m---> 98\u001B[0m \u001B[38;5;28;01mreturn\u001B[39;00m f\u001B[38;5;241m.\u001B[39mresult()\n",
      "File \u001B[0;32m/opt/miniconda3/lib/python3.12/asyncio/futures.py:203\u001B[0m, in \u001B[0;36mFuture.result\u001B[0;34m(self)\u001B[0m\n\u001B[1;32m    201\u001B[0m \u001B[38;5;28mself\u001B[39m\u001B[38;5;241m.\u001B[39m__log_traceback \u001B[38;5;241m=\u001B[39m \u001B[38;5;28;01mFalse\u001B[39;00m\n\u001B[1;32m    202\u001B[0m \u001B[38;5;28;01mif\u001B[39;00m \u001B[38;5;28mself\u001B[39m\u001B[38;5;241m.\u001B[39m_exception \u001B[38;5;129;01mis\u001B[39;00m \u001B[38;5;129;01mnot\u001B[39;00m \u001B[38;5;28;01mNone\u001B[39;00m:\n\u001B[0;32m--> 203\u001B[0m     \u001B[38;5;28;01mraise\u001B[39;00m \u001B[38;5;28mself\u001B[39m\u001B[38;5;241m.\u001B[39m_exception\u001B[38;5;241m.\u001B[39mwith_traceback(\u001B[38;5;28mself\u001B[39m\u001B[38;5;241m.\u001B[39m_exception_tb)\n\u001B[1;32m    204\u001B[0m \u001B[38;5;28;01mreturn\u001B[39;00m \u001B[38;5;28mself\u001B[39m\u001B[38;5;241m.\u001B[39m_result\n",
      "File \u001B[0;32m/opt/miniconda3/lib/python3.12/asyncio/tasks.py:316\u001B[0m, in \u001B[0;36mTask.__step_run_and_handle_result\u001B[0;34m(***failed resolving arguments***)\u001B[0m\n\u001B[1;32m    314\u001B[0m         result \u001B[38;5;241m=\u001B[39m coro\u001B[38;5;241m.\u001B[39msend(\u001B[38;5;28;01mNone\u001B[39;00m)\n\u001B[1;32m    315\u001B[0m     \u001B[38;5;28;01melse\u001B[39;00m:\n\u001B[0;32m--> 316\u001B[0m         result \u001B[38;5;241m=\u001B[39m coro\u001B[38;5;241m.\u001B[39mthrow(exc)\n\u001B[1;32m    317\u001B[0m \u001B[38;5;28;01mexcept\u001B[39;00m \u001B[38;5;167;01mStopIteration\u001B[39;00m \u001B[38;5;28;01mas\u001B[39;00m exc:\n\u001B[1;32m    318\u001B[0m     \u001B[38;5;28;01mif\u001B[39;00m \u001B[38;5;28mself\u001B[39m\u001B[38;5;241m.\u001B[39m_must_cancel:\n\u001B[1;32m    319\u001B[0m         \u001B[38;5;66;03m# Task is cancelled right before coro stops.\u001B[39;00m\n",
      "Cell \u001B[0;32mIn[25], line 6\u001B[0m, in \u001B[0;36mmonitor_plant\u001B[0;34m()\u001B[0m\n\u001B[1;32m      3\u001B[0m \u001B[38;5;28mprint\u001B[39m(\u001B[38;5;124m\"\u001B[39m\u001B[38;5;124mCollecting data and monitoring plant status...\u001B[39m\u001B[38;5;124m\"\u001B[39m)\n\u001B[1;32m      4\u001B[0m \u001B[38;5;28;01mglobal\u001B[39;00m next_message_time\n\u001B[0;32m----> 6\u001B[0m \u001B[38;5;28;01masync\u001B[39;00m \u001B[38;5;28;01mwith\u001B[39;00m BleakClient(DEVICE_ADDRESS, timeout\u001B[38;5;241m=\u001B[39m\u001B[38;5;241m30.0\u001B[39m) \u001B[38;5;28;01mas\u001B[39;00m client:\n\u001B[1;32m      7\u001B[0m     \u001B[38;5;28;01mif\u001B[39;00m \u001B[38;5;129;01mnot\u001B[39;00m client\u001B[38;5;241m.\u001B[39mis_connected:\n\u001B[1;32m      8\u001B[0m         \u001B[38;5;28mprint\u001B[39m(\u001B[38;5;124m\"\u001B[39m\u001B[38;5;124mFailed to connect to BLE device.\u001B[39m\u001B[38;5;124m\"\u001B[39m)\n",
      "File \u001B[0;32m/opt/miniconda3/lib/python3.12/site-packages/bleak/__init__.py:570\u001B[0m, in \u001B[0;36mBleakClient.__aenter__\u001B[0;34m(self)\u001B[0m\n\u001B[1;32m    569\u001B[0m \u001B[38;5;28;01masync\u001B[39;00m \u001B[38;5;28;01mdef\u001B[39;00m \u001B[38;5;21m__aenter__\u001B[39m(\u001B[38;5;28mself\u001B[39m) \u001B[38;5;241m-\u001B[39m\u001B[38;5;241m>\u001B[39m BleakClient:\n\u001B[0;32m--> 570\u001B[0m     \u001B[38;5;28;01mawait\u001B[39;00m \u001B[38;5;28mself\u001B[39m\u001B[38;5;241m.\u001B[39mconnect()\n\u001B[1;32m    571\u001B[0m     \u001B[38;5;28;01mreturn\u001B[39;00m \u001B[38;5;28mself\u001B[39m\n",
      "File \u001B[0;32m/opt/miniconda3/lib/python3.12/site-packages/bleak/__init__.py:615\u001B[0m, in \u001B[0;36mBleakClient.connect\u001B[0;34m(self, **kwargs)\u001B[0m\n\u001B[1;32m    605\u001B[0m \u001B[38;5;28;01masync\u001B[39;00m \u001B[38;5;28;01mdef\u001B[39;00m \u001B[38;5;21mconnect\u001B[39m(\u001B[38;5;28mself\u001B[39m, \u001B[38;5;241m*\u001B[39m\u001B[38;5;241m*\u001B[39mkwargs) \u001B[38;5;241m-\u001B[39m\u001B[38;5;241m>\u001B[39m \u001B[38;5;28mbool\u001B[39m:\n\u001B[1;32m    606\u001B[0m \u001B[38;5;250m    \u001B[39m\u001B[38;5;124;03m\"\"\"Connect to the specified GATT server.\u001B[39;00m\n\u001B[1;32m    607\u001B[0m \n\u001B[1;32m    608\u001B[0m \u001B[38;5;124;03m    Args:\u001B[39;00m\n\u001B[0;32m   (...)\u001B[0m\n\u001B[1;32m    613\u001B[0m \n\u001B[1;32m    614\u001B[0m \u001B[38;5;124;03m    \"\"\"\u001B[39;00m\n\u001B[0;32m--> 615\u001B[0m     \u001B[38;5;28;01mreturn\u001B[39;00m \u001B[38;5;28;01mawait\u001B[39;00m \u001B[38;5;28mself\u001B[39m\u001B[38;5;241m.\u001B[39m_backend\u001B[38;5;241m.\u001B[39mconnect(\u001B[38;5;241m*\u001B[39m\u001B[38;5;241m*\u001B[39mkwargs)\n",
      "File \u001B[0;32m/opt/miniconda3/lib/python3.12/site-packages/bleak/backends/corebluetooth/client.py:106\u001B[0m, in \u001B[0;36mBleakClientCoreBluetooth.connect\u001B[0;34m(self, **kwargs)\u001B[0m\n\u001B[1;32m    104\u001B[0m         \u001B[38;5;28mself\u001B[39m\u001B[38;5;241m.\u001B[39m_peripheral, \u001B[38;5;28mself\u001B[39m\u001B[38;5;241m.\u001B[39m_central_manager_delegate \u001B[38;5;241m=\u001B[39m device\u001B[38;5;241m.\u001B[39mdetails\n\u001B[1;32m    105\u001B[0m     \u001B[38;5;28;01melse\u001B[39;00m:\n\u001B[0;32m--> 106\u001B[0m         \u001B[38;5;28;01mraise\u001B[39;00m BleakDeviceNotFoundError(\n\u001B[1;32m    107\u001B[0m             \u001B[38;5;28mself\u001B[39m\u001B[38;5;241m.\u001B[39maddress, \u001B[38;5;124mf\u001B[39m\u001B[38;5;124m\"\u001B[39m\u001B[38;5;124mDevice with address \u001B[39m\u001B[38;5;132;01m{\u001B[39;00m\u001B[38;5;28mself\u001B[39m\u001B[38;5;241m.\u001B[39maddress\u001B[38;5;132;01m}\u001B[39;00m\u001B[38;5;124m was not found\u001B[39m\u001B[38;5;124m\"\u001B[39m\n\u001B[1;32m    108\u001B[0m         )\n\u001B[1;32m    110\u001B[0m \u001B[38;5;28;01mif\u001B[39;00m \u001B[38;5;28mself\u001B[39m\u001B[38;5;241m.\u001B[39m_delegate \u001B[38;5;129;01mis\u001B[39;00m \u001B[38;5;28;01mNone\u001B[39;00m:\n\u001B[1;32m    111\u001B[0m     \u001B[38;5;28mself\u001B[39m\u001B[38;5;241m.\u001B[39m_delegate \u001B[38;5;241m=\u001B[39m PeripheralDelegate\u001B[38;5;241m.\u001B[39malloc()\u001B[38;5;241m.\u001B[39minitWithPeripheral_(\n\u001B[1;32m    112\u001B[0m         \u001B[38;5;28mself\u001B[39m\u001B[38;5;241m.\u001B[39m_peripheral\n\u001B[1;32m    113\u001B[0m     )\n",
      "\u001B[0;31mBleakDeviceNotFoundError\u001B[0m: Device with address 15944C71-777D-BEE8-9741-8A8D1D671386 was not found"
     ]
    }
   ],
   "execution_count": 25
  },
  {
   "cell_type": "markdown",
   "id": "d44a983e",
   "metadata": {},
   "source": [
    "Sometimes it is necessary to reset the Arduino when the connection is lost."
   ]
  }
 ],
 "metadata": {
  "colab": {
   "provenance": []
  },
  "kernelspec": {
   "display_name": "aiot",
   "language": "python",
   "name": "python3"
  },
  "language_info": {
   "codemirror_mode": {
    "name": "ipython",
    "version": 3
   },
   "file_extension": ".py",
   "mimetype": "text/x-python",
   "name": "python",
   "nbconvert_exporter": "python",
   "pygments_lexer": "ipython3",
   "version": "3.13.0"
  }
 },
 "nbformat": 4,
 "nbformat_minor": 5
}
