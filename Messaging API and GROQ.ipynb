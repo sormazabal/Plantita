{
 "cells": [
  {
   "cell_type": "markdown",
   "source": [
    "# LINE Messaging API"
   ],
   "metadata": {
    "collapsed": false
   },
   "id": "4cc409fc7bea6c04"
  },
  {
   "cell_type": "markdown",
   "source": [
    "# Install Dependency"
   ],
   "metadata": {
    "collapsed": false
   },
   "id": "c2c45f630c4bb496"
  },
  {
   "cell_type": "code",
   "outputs": [
    {
     "name": "stdout",
     "output_type": "stream",
     "text": [
      "Requirement already satisfied: requests in /opt/miniconda3/lib/python3.12/site-packages (2.32.2)\r\n",
      "Requirement already satisfied: charset-normalizer<4,>=2 in /opt/miniconda3/lib/python3.12/site-packages (from requests) (2.0.4)\r\n",
      "Requirement already satisfied: idna<4,>=2.5 in /opt/miniconda3/lib/python3.12/site-packages (from requests) (3.7)\r\n",
      "Requirement already satisfied: urllib3<3,>=1.21.1 in /opt/miniconda3/lib/python3.12/site-packages (from requests) (2.2.2)\r\n",
      "Requirement already satisfied: certifi>=2017.4.17 in /opt/miniconda3/lib/python3.12/site-packages (from requests) (2024.7.4)\r\n"
     ]
    }
   ],
   "source": [
    "!pip install requests"
   ],
   "metadata": {
    "collapsed": false,
    "ExecuteTime": {
     "end_time": "2024-10-31T09:00:20.429155Z",
     "start_time": "2024-10-31T09:00:18.369710Z"
    }
   },
   "id": "7b4fd1f8a2780375",
   "execution_count": 1
  },
  {
   "cell_type": "markdown",
   "source": [
    "## Broadcast Message"
   ],
   "metadata": {
    "collapsed": false
   },
   "id": "a85d7c8e26260e8a"
  },
  {
   "cell_type": "code",
   "outputs": [],
   "source": [
    "import requests\n",
    "import os\n",
    "from typing import Dict, Any, Optional, List\n",
    "\n",
    "class PlantitaBot:\n",
    "    def __init__(self, channel_access_token: str):\n",
    "        \"\"\"Initialize the Plantita LINE bot\n",
    "        \n",
    "        Args:\n",
    "            channel_access_token (str): Your LINE channel access token\n",
    "        \"\"\"\n",
    "        self.channel_access_token = channel_access_token\n",
    "        self.headers = {\n",
    "            'Authorization': f'Bearer {channel_access_token}',\n",
    "            'Content-Type': 'application/json'\n",
    "        }\n",
    "        self.base_url = 'https://api.line.me/v2/bot'\n",
    "\n",
    "    def get_followers(self) -> List[str]:\n",
    "        \"\"\"Get list of user IDs who are friends with your LINE Official Account\n",
    "        \n",
    "        Returns:\n",
    "            List[str]: List of user IDs\n",
    "        \"\"\"\n",
    "        user_ids = []\n",
    "        next_cursor = None\n",
    "\n",
    "        while True:\n",
    "            endpoint = f'{self.base_url}/followers/ids'\n",
    "            if next_cursor:\n",
    "                endpoint += f'?start={next_cursor}'\n",
    "\n",
    "            response = requests.get(endpoint, headers=self.headers)\n",
    "            data = response.json()\n",
    "\n",
    "            if 'userIds' in data:\n",
    "                user_ids.extend(data['userIds'])\n",
    "\n",
    "            if 'next' not in data:\n",
    "                break\n",
    "\n",
    "            next_cursor = data['next']\n",
    "\n",
    "        return user_ids\n",
    "\n",
    "    def broadcast_message(self, message: str) -> Dict[str, Any]:\n",
    "        \"\"\"Broadcast a message to all friends of your LINE Official Account\n",
    "        \n",
    "        Args:\n",
    "            message (str): The message to broadcast\n",
    "            \n",
    "        Returns:\n",
    "            Dict[str, Any]: Response from the LINE API\n",
    "        \"\"\"\n",
    "        endpoint = f'{self.base_url}/message/broadcast'\n",
    "\n",
    "        data = {\n",
    "            'messages': [{\n",
    "                'type': 'text',\n",
    "                'text': message\n",
    "            }]\n",
    "        }\n",
    "\n",
    "        response = requests.post(endpoint, headers=self.headers, json=data)\n",
    "        return response.json()\n",
    "\n",
    "    def broadcast_plant_status(self,\n",
    "                               temperature: float,\n",
    "                               humidity: float,\n",
    "                               light_level: float,\n",
    "                               status: str = \"normal\") -> Dict[str, Any]:\n",
    "        \"\"\"Broadcast plant status to all friends\n",
    "        \n",
    "        Args:\n",
    "            temperature (float): Current temperature reading\n",
    "            humidity (float): Current humidity reading\n",
    "            light_level (float): Current light level reading\n",
    "            status (str): Overall status of the plant (\"normal\", \"warning\", \"critical\")\n",
    "            \n",
    "        Returns:\n",
    "            Dict[str, Any]: Response from the LINE API\n",
    "        \"\"\"\n",
    "        message = (\n",
    "            f\"🌿 Plantita Status Update 🌿\\n\\n\"\n",
    "            f\"Temperature: {temperature}°C\\n\"\n",
    "            f\"Humidity: {humidity}%\\n\"\n",
    "            f\"Light Level: {light_level}%\\n\\n\"\n",
    "            f\"Status: {status.upper()}\"\n",
    "        )\n",
    "\n",
    "        if status.lower() != \"normal\":\n",
    "            message += \"\\n\\n⚠️ Action needed! Please check your plant.\"\n",
    "\n",
    "        return self.broadcast_message(message)\n",
    "\n",
    "    def send_message(self, user_id: str, message: str) -> Dict[str, Any]:\n",
    "        \"\"\"Send a message to a specific user\n",
    "        \n",
    "        Args:\n",
    "            user_id (str): The LINE user ID to send the message to\n",
    "            message (str): The message to send\n",
    "            \n",
    "        Returns:\n",
    "            Dict[str, Any]: Response from the LINE API\n",
    "        \"\"\"\n",
    "        endpoint = f'{self.base_url}/message/push'\n",
    "\n",
    "        data = {\n",
    "            'to': user_id,\n",
    "            'messages': [{\n",
    "                'type': 'text',\n",
    "                'text': message\n",
    "            }]\n",
    "        }\n",
    "\n",
    "        response = requests.post(endpoint, headers=self.headers, json=data)\n",
    "        return response.json()\n",
    "\n",
    "    def send_plant_status(self,\n",
    "                          user_id: str,\n",
    "                          temperature: float,\n",
    "                          humidity: float,\n",
    "                          light_level: float,\n",
    "                          status: str = \"normal\") -> Dict[str, Any]:\n",
    "        \"\"\"Send plant status to a specific user\n",
    "        \n",
    "        Args:\n",
    "            user_id (str): The LINE user ID to send the message to\n",
    "            temperature (float): Current temperature reading\n",
    "            humidity (float): Current humidity reading\n",
    "            light_level (float): Current light level reading\n",
    "            status (str): Overall status of the plant (\"normal\", \"warning\", \"critical\")\n",
    "            \n",
    "        Returns:\n",
    "            Dict[str, Any]: Response from the LINE API\n",
    "        \"\"\"\n",
    "        message = (\n",
    "            f\"🌿 Plantita Status Update 🌿\\n\\n\"\n",
    "            f\"Temperature: {temperature}°C\\n\"\n",
    "            f\"Humidity: {humidity}%\\n\"\n",
    "            f\"Light Level: {light_level}%\\n\\n\"\n",
    "            f\"Status: {status.upper()}\"\n",
    "        )\n",
    "\n",
    "        if status.lower() != \"normal\":\n",
    "            message += \"\\n\\n⚠️ Action needed! Please check your plant.\"\n",
    "\n",
    "        return self.send_message(user_id, message)"
   ],
   "metadata": {
    "collapsed": false,
    "ExecuteTime": {
     "end_time": "2024-11-01T06:30:28.410867Z",
     "start_time": "2024-11-01T06:30:28.404473Z"
    }
   },
   "id": "37b2b4cd2a0c5a1c",
   "execution_count": 5
  },
  {
   "cell_type": "markdown",
   "source": [
    "## Example Usage of Broadcast"
   ],
   "metadata": {
    "collapsed": false
   },
   "id": "c102652d3ce4d2d1"
  },
  {
   "cell_type": "code",
   "outputs": [
    {
     "name": "stdout",
     "output_type": "stream",
     "text": [
      "Number of followers: 0\n",
      "Follower IDs: []\n"
     ]
    }
   ],
   "source": [
    "# Example usage:\n",
    "if __name__ == \"__main__\":\n",
    "    # Initialize the bot with your channel access token\n",
    "    CHANNEL_ACCESS_TOKEN = \"HYIfkCHmidAfgMc2KcXBLUXzpNvsvJ/t5k8VwU2+ekWovndds7h/5h2Qq+SZkoYjNCPuLg0BHANjAnX81xjbfT7imjJ1s+gYZf6XU4ttM4kuFTkChGSHDZUVKzFpTgesDxTWmILCYw0vgPz/bse7TQdB04t89/1O/w1cDnyilFU=\"  # Replace with your actual token\n",
    "\n",
    "    bot = PlantitaBot(CHANNEL_ACCESS_TOKEN)\n",
    "\n",
    "    # Example: Get list of followers\n",
    "    followers = bot.get_followers()\n",
    "    print(f\"Number of followers: {len(followers)}\")\n",
    "    print(\"Follower IDs:\", followers)\n",
    "\n",
    "    # Example: Broadcast a simple message to all followers\n",
    "    bot.broadcast_message(\"Hello everyone from Plantita! 🌱\")\n",
    "\n",
    "    # Example: Broadcast plant status to all followers\n",
    "    bot.broadcast_plant_status(\n",
    "        temperature=25.5,\n",
    "        humidity=65.0,\n",
    "        light_level=80.0,\n",
    "        status=\"warning\"\n",
    "    )"
   ],
   "metadata": {
    "collapsed": false,
    "ExecuteTime": {
     "end_time": "2024-11-01T06:28:51.145127Z",
     "start_time": "2024-11-01T06:28:50.653345Z"
    }
   },
   "id": "6d46da2722fe2aca",
   "execution_count": 3
  },
  {
   "cell_type": "markdown",
   "source": [
    "## Example Usage of Direct Message\n",
    "**Still Not Working** Need to setup Webhook Server."
   ],
   "metadata": {
    "collapsed": false
   },
   "id": "27ad3cf1413cc705"
  },
  {
   "cell_type": "code",
   "outputs": [
    {
     "data": {
      "text/plain": "{'message': \"The property, 'to', in the request body is invalid (line: -, column: -)\"}"
     },
     "execution_count": 6,
     "metadata": {},
     "output_type": "execute_result"
    }
   ],
   "source": [
    "# Initialize the bot\n",
    "bot = PlantitaBot(\"HYIfkCHmidAfgMc2KcXBLUXzpNvsvJ/t5k8VwU2+ekWovndds7h/5h2Qq+SZkoYjNCPuLg0BHANjAnX81xjbfT7imjJ1s+gYZf6XU4ttM4kuFTkChGSHDZUVKzFpTgesDxTWmILCYw0vgPz/bse7TQdB04t89/1O/w1cDnyilFU=\")\n",
    "\n",
    "# Send a plant status update\n",
    "bot.send_plant_status(\n",
    "    user_id=\"USER_ID\",\n",
    "    temperature=25.5,\n",
    "    humidity=65.0,\n",
    "    light_level=80.0,\n",
    "    status=\"warning\"\n",
    ")"
   ],
   "metadata": {
    "collapsed": false,
    "ExecuteTime": {
     "end_time": "2024-11-01T06:30:32.071805Z",
     "start_time": "2024-11-01T06:30:31.906428Z"
    }
   },
   "id": "4517fbe22a47bbf8",
   "execution_count": 6
  },
  {
   "cell_type": "markdown",
   "source": [
    "## GROQ Implementation"
   ],
   "metadata": {
    "collapsed": false
   },
   "id": "3f98efa59f92ce1e"
  },
  {
   "cell_type": "markdown",
   "source": [
    "# Install Dependency"
   ],
   "metadata": {
    "collapsed": false
   },
   "id": "8c560218d9c7ed5c"
  },
  {
   "cell_type": "code",
   "outputs": [
    {
     "name": "stdout",
     "output_type": "stream",
     "text": [
      "Collecting groq\r\n",
      "  Downloading groq-0.11.0-py3-none-any.whl.metadata (13 kB)\r\n",
      "Requirement already satisfied: anyio<5,>=3.5.0 in /opt/miniconda3/lib/python3.12/site-packages (from groq) (4.2.0)\r\n",
      "Requirement already satisfied: distro<2,>=1.7.0 in /opt/miniconda3/lib/python3.12/site-packages (from groq) (1.9.0)\r\n",
      "Collecting httpx<1,>=0.23.0 (from groq)\r\n",
      "  Downloading httpx-0.27.2-py3-none-any.whl.metadata (7.1 kB)\r\n",
      "Collecting pydantic<3,>=1.9.0 (from groq)\r\n",
      "  Downloading pydantic-2.9.2-py3-none-any.whl.metadata (149 kB)\r\n",
      "\u001B[2K     \u001B[90m━━━━━━━━━━━━━━━━━━━━━━━━━━━━━━━━━━━━━\u001B[0m \u001B[32m149.4/149.4 kB\u001B[0m \u001B[31m822.5 kB/s\u001B[0m eta \u001B[36m0:00:00\u001B[0ma \u001B[36m0:00:01\u001B[0m\r\n",
      "\u001B[?25hRequirement already satisfied: sniffio in /opt/miniconda3/lib/python3.12/site-packages (from groq) (1.3.0)\r\n",
      "Requirement already satisfied: typing-extensions<5,>=4.7 in /opt/miniconda3/lib/python3.12/site-packages (from groq) (4.11.0)\r\n",
      "Requirement already satisfied: idna>=2.8 in /opt/miniconda3/lib/python3.12/site-packages (from anyio<5,>=3.5.0->groq) (3.7)\r\n",
      "Requirement already satisfied: certifi in /opt/miniconda3/lib/python3.12/site-packages (from httpx<1,>=0.23.0->groq) (2024.7.4)\r\n",
      "Collecting httpcore==1.* (from httpx<1,>=0.23.0->groq)\r\n",
      "  Downloading httpcore-1.0.6-py3-none-any.whl.metadata (21 kB)\r\n",
      "Collecting h11<0.15,>=0.13 (from httpcore==1.*->httpx<1,>=0.23.0->groq)\r\n",
      "  Downloading h11-0.14.0-py3-none-any.whl.metadata (8.2 kB)\r\n",
      "Collecting annotated-types>=0.6.0 (from pydantic<3,>=1.9.0->groq)\r\n",
      "  Downloading annotated_types-0.7.0-py3-none-any.whl.metadata (15 kB)\r\n",
      "Collecting pydantic-core==2.23.4 (from pydantic<3,>=1.9.0->groq)\r\n",
      "  Downloading pydantic_core-2.23.4-cp312-cp312-macosx_11_0_arm64.whl.metadata (6.6 kB)\r\n",
      "Downloading groq-0.11.0-py3-none-any.whl (106 kB)\r\n",
      "\u001B[2K   \u001B[90m━━━━━━━━━━━━━━━━━━━━━━━━━━━━━━━━━━━━━━━\u001B[0m \u001B[32m106.5/106.5 kB\u001B[0m \u001B[31m846.8 kB/s\u001B[0m eta \u001B[36m0:00:00\u001B[0ma \u001B[36m0:00:01\u001B[0m\r\n",
      "\u001B[?25hDownloading httpx-0.27.2-py3-none-any.whl (76 kB)\r\n",
      "\u001B[2K   \u001B[90m━━━━━━━━━━━━━━━━━━━━━━━━━━━━━━━━━━━━━━━━\u001B[0m \u001B[32m76.4/76.4 kB\u001B[0m \u001B[31m1.2 MB/s\u001B[0m eta \u001B[36m0:00:00\u001B[0ma \u001B[36m0:00:01\u001B[0m\r\n",
      "\u001B[?25hDownloading httpcore-1.0.6-py3-none-any.whl (78 kB)\r\n",
      "\u001B[2K   \u001B[90m━━━━━━━━━━━━━━━━━━━━━━━━━━━━━━━━━━━━━━━━\u001B[0m \u001B[32m78.0/78.0 kB\u001B[0m \u001B[31m1.5 MB/s\u001B[0m eta \u001B[36m0:00:00\u001B[0ma \u001B[36m0:00:01\u001B[0m\r\n",
      "\u001B[?25hDownloading pydantic-2.9.2-py3-none-any.whl (434 kB)\r\n",
      "\u001B[2K   \u001B[90m━━━━━━━━━━━━━━━━━━━━━━━━━━━━━━━━━━━━━━━━\u001B[0m \u001B[32m434.9/434.9 kB\u001B[0m \u001B[31m1.3 MB/s\u001B[0m eta \u001B[36m0:00:00\u001B[0ma \u001B[36m0:00:01\u001B[0m\r\n",
      "\u001B[?25hDownloading pydantic_core-2.23.4-cp312-cp312-macosx_11_0_arm64.whl (1.8 MB)\r\n",
      "\u001B[2K   \u001B[90m━━━━━━━━━━━━━━━━━━━━━━━━━━━━━━━━━━━━━━━━\u001B[0m \u001B[32m1.8/1.8 MB\u001B[0m \u001B[31m1.9 MB/s\u001B[0m eta \u001B[36m0:00:00\u001B[0m00:01\u001B[0m00:01\u001B[0m\r\n",
      "\u001B[?25hDownloading annotated_types-0.7.0-py3-none-any.whl (13 kB)\r\n",
      "Downloading h11-0.14.0-py3-none-any.whl (58 kB)\r\n",
      "\u001B[2K   \u001B[90m━━━━━━━━━━━━━━━━━━━━━━━━━━━━━━━━━━━━━━━━\u001B[0m \u001B[32m58.3/58.3 kB\u001B[0m \u001B[31m5.0 MB/s\u001B[0m eta \u001B[36m0:00:00\u001B[0m\r\n",
      "\u001B[?25hInstalling collected packages: pydantic-core, h11, annotated-types, pydantic, httpcore, httpx, groq\r\n",
      "Successfully installed annotated-types-0.7.0 groq-0.11.0 h11-0.14.0 httpcore-1.0.6 httpx-0.27.2 pydantic-2.9.2 pydantic-core-2.23.4\r\n"
     ]
    }
   ],
   "source": [
    "!pip install groq"
   ],
   "metadata": {
    "collapsed": false,
    "ExecuteTime": {
     "end_time": "2024-10-31T09:16:30.769010Z",
     "start_time": "2024-10-31T09:16:25.265964Z"
    }
   },
   "id": "8cc51fd94e76a4f3",
   "execution_count": 7
  },
  {
   "cell_type": "markdown",
   "source": [
    "# Demonstration"
   ],
   "metadata": {
    "collapsed": false
   },
   "id": "f17ed0a713882ee4"
  },
  {
   "cell_type": "code",
   "outputs": [
    {
     "name": "stdout",
     "output_type": "stream",
     "text": [
      "Sweetie, it looks like your Monstera Deliciosa is doing okay, but it could use a little tweak to get it thriving! The temperature is a tad too warm, but don't worry, it's not a big deal. However, the humidity is a bit low and the light level is slightly off too. To help your plant feel more comfortable, I recommend increasing the humidity around it by placing it on a tray with pebbles and water, and moving it to a spot with 50-60% light exposure.\n"
     ]
    }
   ],
   "source": [
    "import os\n",
    "\n",
    "from groq import Groq\n",
    "\n",
    "client = Groq(\n",
    "    api_key=\"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\",\n",
    ")\n",
    "\n",
    "chat_completion = client.chat.completions.create(\n",
    "    messages=[\n",
    "        {\n",
    "            \"role\": \"user\",\n",
    "            \"content\": '''You are Plantita, an expert plant care advisor with a warm, caring personality like a concerned aunt.\n",
    "Current readings for Monstera Deliciosa:\n",
    "        temperature=27.5,\n",
    "        humidity=55,\n",
    "        light_level=40,\n",
    "\n",
    "Ideal conditions for this plant:\n",
    "- Temperature: 20°C to 25°C\n",
    "- Humidity: 60% to 80%\n",
    "- Light Level: 50% to 80%\n",
    "\n",
    "Please analyze these conditions and provide:\n",
    "1. A caring, conversational assessment of the plant's current environment\n",
    "2. Specific recommendations for improvement if needed\n",
    "3. Any potential risks to the plant's health based on these conditions\n",
    "4. A simple action plan for the plant owner\n",
    "\n",
    "Keep your response friendly and encouraging, like a knowledgeable aunt giving advice about their beloved plants.\n",
    "Limit your response to fit a notification on a messaging app, focus only on what the user needed to do and keep it to three to 5 sentences''',\n",
    "        }\n",
    "    ],\n",
    "    model=\"llama3-8b-8192\",\n",
    ")\n",
    "\n",
    "print(chat_completion.choices[0].message.content)"
   ],
   "metadata": {
    "collapsed": false,
    "ExecuteTime": {
     "end_time": "2024-10-31T09:25:38.372321Z",
     "start_time": "2024-10-31T09:25:37.662106Z"
    }
   },
   "id": "6c90fb7248b58427",
   "execution_count": 15
  },
  {
   "cell_type": "code",
   "outputs": [],
   "source": [
    "%%sql\n"
   ],
   "metadata": {
    "collapsed": false,
    "SqlCellData": {
     "variableName$1": "df_sql"
    }
   },
   "id": "eece7952be428047"
  },
  {
   "cell_type": "code",
   "outputs": [],
   "source": [],
   "metadata": {
    "collapsed": false
   },
   "id": "1f2524aaab6125d9"
  }
 ],
 "metadata": {
  "kernelspec": {
   "display_name": "Python 3",
   "language": "python",
   "name": "python3"
  },
  "language_info": {
   "codemirror_mode": {
    "name": "ipython",
    "version": 2
   },
   "file_extension": ".py",
   "mimetype": "text/x-python",
   "name": "python",
   "nbconvert_exporter": "python",
   "pygments_lexer": "ipython2",
   "version": "2.7.6"
  }
 },
 "nbformat": 4,
 "nbformat_minor": 5
}
